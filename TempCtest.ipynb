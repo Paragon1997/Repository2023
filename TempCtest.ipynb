{
 "cells": [
  {
   "cell_type": "code",
   "execution_count": 1,
   "metadata": {},
   "outputs": [],
   "source": [
    "import warnings\n",
    "warnings.filterwarnings(\"ignore\", category=RuntimeWarning)\n",
    "from tqdm.auto import trange\n",
    "import time\n",
    "from qutip import *\n",
    "import numpy as np\n",
    "import matplotlib.pyplot as plt\n",
    "import kwant\n",
    "import math\n",
    "from math import  sqrt\n",
    "import scipy\n",
    "from itertools import repeat\n",
    "from numba import jit\n",
    "\n",
    "import DEDlib"
   ]
  },
  {
   "cell_type": "code",
   "execution_count": 2,
   "metadata": {},
   "outputs": [
    {
     "data": {
      "application/vnd.jupyter.widget-view+json": {
       "model_id": "c619446dcc2d4260a07f2e75f3e162ad",
       "version_major": 2,
       "version_minor": 0
      },
      "text/plain": [
       "Iterations:   0%|          | 0/2000 [00:00<?, ?it/s]"
      ]
     },
     "metadata": {},
     "output_type": "display_data"
    }
   ],
   "source": [
    "N=2000\n",
    "poles=4\n",
    "U=3\n",
    "Sigma=3/2\n",
    "Gamma=0.3\n",
    "SizeO=1001\n",
    "etaco=[0.02,1e-6]\n",
    "ctype='snb'\n",
    "Ed='AS'\n",
    "bound=3\n",
    "Tk=[0.000000000001]\n",
    "posb=0\n",
    "omega,eta,selectpcT,selectpT= np.linspace(-bound,bound,SizeO),etaco[0]*abs(np.linspace(-bound,bound,SizeO))+etaco[1],np.zeros((N,poles),dtype = 'float'),[]\n",
    "c,pbar=[DEDlib.Jordan_wigner_transform(i, 2*poles) for i in range(2*poles)],trange(N,position=posb,leave=False,desc='Iterations',bar_format='{l_bar}{bar:10}{r_bar}{bar:-10b}')\n",
    "n,AvgSigmadat,Nfin,nd=sum([c[i].dag()*c[i] for i in range(2*poles)]),np.zeros((len(Tk),SizeO),dtype = 'complex_'),np.zeros(len(Tk),dtype = 'float'),np.zeros(len(Tk),dtype = 'complex_')\n",
    "\n",
    "for i in pbar:\n",
    "    reset = False\n",
    "    while not reset:\n",
    "        if Ed == 'AS': select=sorted(DEDlib.Lorentzian(omega, Gamma, poles)[1])\n",
    "        else: select=sorted(DEDlib.Lorentzian(omega, Gamma, poles,Ed,Sigma)[1])\n",
    "        NewM,nonG=DEDlib.Startrans(poles,select,0,omega,eta)\n",
    "\n",
    "        (MBGdat,Boltzmann,Ev0),reset=DEDlib.AIMsolver(NewM[0][0], [NewM[k+1][k+1] for k in range(len(NewM)-1)],NewM[0,1:], U,Sigma,omega,eta,c, n, ctype,Tk)\n",
    "\n",
    "\n",
    "\n",
    "        if np.isnan(1/nonG-1/MBGdat+Sigma).any(): reset=False\n",
    "        selectpT.append(select)\n",
    "    selectpcT[i,:]=select\n",
    "    Nfin+=Boltzmann\n",
    "    AvgSigmadat+=(1/nonG-1/MBGdat+Sigma)\n",
    "    nd+=np.conj(Ev0).T@(c[0].dag() * c[0] + c[1].dag() * c[1]).data.tocoo()@Ev0\n",
    "pbar.close()\n",
    "\n",
    "#np.real(nd/Nfin).squeeze(),(AvgSigmadat/Nfin[:,None]).squeeze(),(-np.imag(np.nan_to_num(1/(omega-AvgSigmadat/Nfin[:,None]+AvgSigmadat[int(np.round(SizeO/2))]/Nfin[:,None]+1j*Gamma)))/np.pi).squeeze(),Lorentzian(omega,Gamma,poles)[0],omega,selectpT,selectpcT\n",
    "\n"
   ]
  },
  {
   "cell_type": "code",
   "execution_count": null,
   "metadata": {},
   "outputs": [],
   "source": [
    "ndf=np.real(nd/Nfin).squeeze()\n",
    "AvgSig=(AvgSigmadat/Nfin[:,None]).squeeze()\n",
    "fDOS=(-np.imag(np.nan_to_num(1/(omega-AvgSigmadat/Nfin[:,None]+1j*Gamma)))/np.pi).squeeze()\n",
    "lor=DEDlib.Lorentzian(omega,Gamma,poles)[0]\n",
    "\n"
   ]
  }
 ],
 "metadata": {
  "kernelspec": {
   "display_name": "Python 3",
   "language": "python",
   "name": "python3"
  },
  "language_info": {
   "codemirror_mode": {
    "name": "ipython",
    "version": 3
   },
   "file_extension": ".py",
   "mimetype": "text/x-python",
   "name": "python",
   "nbconvert_exporter": "python",
   "pygments_lexer": "ipython3",
   "version": "3.10.9"
  },
  "orig_nbformat": 4
 },
 "nbformat": 4,
 "nbformat_minor": 2
}
