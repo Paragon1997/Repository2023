{
 "cells": [
  {
   "cell_type": "code",
   "execution_count": 5,
   "metadata": {},
   "outputs": [
    {
     "name": "stdout",
     "output_type": "stream",
     "text": [
      "3.14181344\n"
     ]
    }
   ],
   "source": [
    "import random\n",
    "\n",
    "def estimate_pi(n):\n",
    "    num_points_circle = 0\n",
    "    num_points_total = 0\n",
    "    for _ in range(n):\n",
    "        x = random.uniform(0, 1)\n",
    "        y = random.uniform(0, 1)\n",
    "        distance = x**2 + y**2\n",
    "        if distance <= 1:\n",
    "            num_points_circle += 1\n",
    "        num_points_total += 1\n",
    "    return 4 * num_points_circle / num_points_total\n",
    "\n",
    "print(estimate_pi(100000000))"
   ]
  },
  {
   "cell_type": "code",
   "execution_count": 5,
   "metadata": {},
   "outputs": [
    {
     "name": "stdout",
     "output_type": "stream",
     "text": [
      "2.7182818284590455\n"
     ]
    }
   ],
   "source": [
    "import math as m\n",
    "\n",
    "n = 20000  # number of terms to use in the Taylor series\n",
    "e_approx = 0  # initialize the approximation to zero\n",
    "for k in range(n):\n",
    "    e_approx += 1 / m.factorial(k)\n",
    "print(e_approx)"
   ]
  },
  {
   "cell_type": "code",
   "execution_count": 14,
   "metadata": {},
   "outputs": [
    {
     "name": "stdout",
     "output_type": "stream",
     "text": [
      "2\n"
     ]
    }
   ],
   "source": [
    "def fibonacci(n):\n",
    "    if n < 0:\n",
    "        raise ValueError(\"Input must be non-negative\")\n",
    "    prev_prev, prev = 0, 1\n",
    "    if n == 0:\n",
    "        return prev_prev\n",
    "    elif n == 1:\n",
    "        return prev\n",
    "    else:\n",
    "        for i in range(2, n+1):\n",
    "            curr = prev + prev_prev\n",
    "            prev_prev = prev\n",
    "            prev = curr\n",
    "        return curr\n",
    "    \n",
    "print(fibonacci(3))"
   ]
  },
  {
   "cell_type": "code",
   "execution_count": 12,
   "metadata": {},
   "outputs": [
    {
     "name": "stdout",
     "output_type": "stream",
     "text": [
      "17\n"
     ]
    }
   ],
   "source": [
    "def sum_of_primes(numbers):\n",
    "    def is_prime(n):\n",
    "        if n < 2:\n",
    "            return False\n",
    "        for i in range(2, int(n**0.5)+1):\n",
    "            if n % i == 0:\n",
    "                return False\n",
    "        return True\n",
    "\n",
    "    prime_sum = 0\n",
    "    for num in numbers:\n",
    "        if is_prime(num):\n",
    "            prime_sum += num\n",
    "    return prime_sum\n",
    "\n",
    "numbers = [1, 2, 3, 4, 5, 6, 7, 8, 9]\n",
    "print(sum_of_primes(numbers))  # Output: 17"
   ]
  },
  {
   "cell_type": "code",
   "execution_count": 17,
   "metadata": {},
   "outputs": [
    {
     "name": "stdout",
     "output_type": "stream",
     "text": [
      "0\n",
      "24\n"
     ]
    }
   ],
   "source": [
    "def determinant(matrix):\n",
    "    n = len(matrix)\n",
    "\n",
    "    # Base case for 2x2 matrix\n",
    "    if n == 2:\n",
    "        return matrix[0][0] * matrix[1][1] - matrix[0][1] * matrix[1][0]\n",
    "\n",
    "    det = 0\n",
    "    sign = 1\n",
    "\n",
    "    # Iterate over each column of the first row of the matrix\n",
    "    for i in range(n):\n",
    "        # Get the submatrix obtained by deleting the first row and i-th column\n",
    "        submatrix = [row[:i] + row[i+1:] for row in matrix[1:]]\n",
    "\n",
    "        # Recursively compute the determinant of the submatrix\n",
    "        subdet = determinant(submatrix)\n",
    "\n",
    "        # Add the contribution of this term to the determinant\n",
    "        det += sign * matrix[0][i] * subdet\n",
    "\n",
    "        # Update the sign for the next term\n",
    "        sign *= -1\n",
    "\n",
    "    return det\n",
    "\n",
    "matrix = [[1, 2, 3], [4, 5, 6], [7, 8, 9]]\n",
    "print(determinant(matrix))  # Output: 0\n",
    "\n",
    "matrix = [[1, 2, 3, 1], [4, 5, 6, 2], [7, 8, 9, 1],[1, 3, 1, 2]]\n",
    "print(determinant(matrix))  # Output: 0"
   ]
  },
  {
   "cell_type": "code",
   "execution_count": 29,
   "metadata": {},
   "outputs": [
    {
     "name": "stdout",
     "output_type": "stream",
     "text": [
      "3.141592653589793238462643383279\n"
     ]
    }
   ],
   "source": [
    "from decimal import Decimal, getcontext\n",
    "\n",
    "def calculate_pi(n):\n",
    "    getcontext().prec = n+2  # Set decimal precision to n+1\n",
    "\n",
    "    pi = Decimal(0)\n",
    "    k = 0\n",
    "\n",
    "    while True:\n",
    "        term = Decimal(1) / Decimal(16)**k * (Decimal(4)/(8*k+1) - Decimal(2)/(8*k+4) - Decimal(1)/(8*k+5) - Decimal(1)/(8*k+6))\n",
    "        pi += term\n",
    "\n",
    "        if abs(term) < Decimal(1) / 10**(n+1):\n",
    "            break\n",
    "\n",
    "        k += 1\n",
    "\n",
    "    return round(pi, n)\n",
    "\n",
    "n = 30\n",
    "pi = calculate_pi(n)\n",
    "print(pi)  # Output: 3.141592653589793238462643383279"
   ]
  },
  {
   "cell_type": "code",
   "execution_count": 31,
   "metadata": {},
   "outputs": [
    {
     "name": "stdout",
     "output_type": "stream",
     "text": [
      "26730600\n",
      "4455100\n"
     ]
    }
   ],
   "source": [
    "def factorial(n):\n",
    "    result = 1\n",
    "    for i in range(1, n+1):\n",
    "        result *= i\n",
    "    return result\n",
    "\n",
    "def nPr(n, r):\n",
    "    if n < r:\n",
    "        return 0\n",
    "    result = 1\n",
    "    for i in range(n-r+1, n+1):\n",
    "        result *= i\n",
    "    return result\n",
    "\n",
    "def nCr(n, r):\n",
    "    if n < r:\n",
    "        return 0\n",
    "    if r == 0:\n",
    "        return 1\n",
    "    if r > n/2:\n",
    "        return nCr(n, n-r)\n",
    "    result = 1\n",
    "    for i in range(1, r+1):\n",
    "        result *= n-r+i\n",
    "        result //= i\n",
    "    return result\n",
    "\n",
    "print(nPr(300, 3))\n",
    "print(nCr(300, 297))"
   ]
  },
  {
   "cell_type": "code",
   "execution_count": 34,
   "metadata": {},
   "outputs": [
    {
     "name": "stdout",
     "output_type": "stream",
     "text": [
      "[[4, 1, 7, 9, 5, 0, 0, 3, 0], [0, 0, 0, 0, 0, 0, 7, 0, 0], [0, 6, 0, 0, 0, 7, 0, 0, 0], [0, 5, 0, 0, 0, 9, 1, 0, 6], [8, 0, 0, 6, 0, 0, 0, 0, 0], [0, 0, 0, 0, 0, 3, 4, 0, 0], [9, 0, 0, 0, 0, 5, 0, 0, 0], [0, 0, 0, 4, 3, 0, 0, 0, 0], [2, 0, 0, 7, 0, 1, 5, 8, 0]]\n",
      "[4, 1, 7, 9, 5, 0, 0, 3, 0]\n",
      "[0, 0, 0, 6, 0, 0, 0, 0, 0]\n",
      "[9, 5, 0, 0, 0, 0, 0, 0, 7]\n",
      "[0, 0, 5, 4, 3, 0, 7, 0, 1]\n"
     ]
    }
   ],
   "source": [
    "class Sudoku:\n",
    "    def __init__(self, board_string):\n",
    "        self.board = [[int(board_string[i*9 + j]) for j in range(9)] for i in range(9)]\n",
    "    \n",
    "    def get_row(self, n):\n",
    "        return self.board[n]\n",
    "    \n",
    "    def get_col(self, n):\n",
    "        return [self.board[i][n] for i in range(9)]\n",
    "    \n",
    "    def get_sqr(self, *args):\n",
    "        if len(args) == 1:\n",
    "            n = args[0]\n",
    "            r = (n // 3) * 3\n",
    "            c = (n % 3) * 3\n",
    "            return [self.board[i][j] for i in range(r, r+3) for j in range(c, c+3)]\n",
    "        else:\n",
    "            n, m = args\n",
    "            r = (n // 3) * 3\n",
    "            c = (m // 3) * 3\n",
    "            return [self.board[i][j] for i in range(r, r+3) for j in range(c, c+3)]\n",
    "\n",
    "game = Sudoku(\"417950030000000700060007000050009106800600000000003400900005000000430000200701580\")\n",
    "\n",
    "print(game.board)\n",
    "print(game.get_row(0))\n",
    "print(game.get_col(8))\n",
    "print(game.get_sqr(1))\n",
    "print(game.get_sqr(8, 3))"
   ]
  },
  {
   "cell_type": "code",
   "execution_count": 39,
   "metadata": {},
   "outputs": [
    {
     "name": "stdout",
     "output_type": "stream",
     "text": [
      "1\n",
      "3\n",
      "4\n",
      "5\n",
      "6\n",
      "7\n",
      "9\n"
     ]
    }
   ],
   "source": [
    "class Node:\n",
    "    def __init__(self, value):\n",
    "        self.left = None\n",
    "        self.right = None\n",
    "        self.value = value\n",
    "        \n",
    "class BinarySearchTree:\n",
    "    def __init__(self, numbers):\n",
    "        self.root = None\n",
    "        for num in numbers:\n",
    "            self.insert(num)\n",
    "        \n",
    "    def insert(self, value):\n",
    "        if self.root is None:\n",
    "            self.root = Node(value)\n",
    "        else:\n",
    "            self._insert(value, self.root)\n",
    "        \n",
    "    def _insert(self, value, current_node):\n",
    "        if value < current_node.value:\n",
    "            if current_node.left is None:\n",
    "                current_node.left = Node(value)\n",
    "            else:\n",
    "                self._insert(value, current_node.left)\n",
    "        elif value > current_node.value:\n",
    "            if current_node.right is None:\n",
    "                current_node.right = Node(value)\n",
    "            else:\n",
    "                self._insert(value, current_node.right)\n",
    "        else:\n",
    "            print(\"Value already exists in tree!\")\n",
    "            \n",
    "    def print_tree(self):\n",
    "        if self.root is not None:\n",
    "            self._print_tree(self.root)\n",
    "        \n",
    "    def _print_tree(self, current_node):\n",
    "        if current_node is not None:\n",
    "            self._print_tree(current_node.left)\n",
    "            print(current_node.value)\n",
    "            self._print_tree(current_node.right)\n",
    "\n",
    "bst = BinarySearchTree([5, 3, 7, 1, 9, 6])\n",
    "\n",
    "bst.insert(4)\n",
    "\n",
    "bst.print_tree()"
   ]
  },
  {
   "cell_type": "code",
   "execution_count": 1,
   "metadata": {},
   "outputs": [
    {
     "name": "stdout",
     "output_type": "stream",
     "text": [
      "pygame 2.3.0 (SDL 2.24.2, Python 3.11.2)\n",
      "Hello from the pygame community. https://www.pygame.org/contribute.html\n"
     ]
    },
    {
     "ename": "KeyboardInterrupt",
     "evalue": "",
     "output_type": "error",
     "traceback": [
      "\u001b[1;31m---------------------------------------------------------------------------\u001b[0m",
      "\u001b[1;31mKeyboardInterrupt\u001b[0m                         Traceback (most recent call last)",
      "Cell \u001b[1;32mIn[1], line 95\u001b[0m\n\u001b[0;32m     92\u001b[0m pygame\u001b[39m.\u001b[39mdisplay\u001b[39m.\u001b[39mupdate()\n\u001b[0;32m     94\u001b[0m \u001b[39m# Set the clock tick rate\u001b[39;00m\n\u001b[1;32m---> 95\u001b[0m clock\u001b[39m.\u001b[39;49mtick(\u001b[39m60\u001b[39;49m)\n",
      "\u001b[1;31mKeyboardInterrupt\u001b[0m: "
     ]
    },
    {
     "ename": "",
     "evalue": "",
     "output_type": "error",
     "traceback": [
      "\u001b[1;31mThe Kernel crashed while executing code in the the current cell or a previous cell. Please review the code in the cell(s) to identify a possible cause of the failure. Click <a href='https://aka.ms/vscodeJupyterKernelCrash'>here</a> for more info. View Jupyter <a href='command:jupyter.viewOutput'>log</a> for further details."
     ]
    }
   ],
   "source": [
    "import pygame\n",
    "import random\n",
    "import math\n",
    "\n",
    "# Initialize Pygame\n",
    "pygame.init()\n",
    "\n",
    "# Set up window dimensions\n",
    "WINDOW_WIDTH = 800\n",
    "WINDOW_HEIGHT = 600\n",
    "\n",
    "# Set up colors\n",
    "WHITE = (255, 255, 255)\n",
    "BLACK = (0, 0, 0)\n",
    "\n",
    "# Set up ball properties\n",
    "BALL_RADIUS = 20\n",
    "BALL_COUNT = 10\n",
    "MAX_SPEED = 10\n",
    "\n",
    "# Set up the screen\n",
    "screen = pygame.display.set_mode((WINDOW_WIDTH, WINDOW_HEIGHT))\n",
    "pygame.display.set_caption(\"2D Sphere Collision Simulation\")\n",
    "\n",
    "# Set up the balls\n",
    "balls = []\n",
    "for i in range(BALL_COUNT):\n",
    "    ball = {'x': random.randint(BALL_RADIUS, WINDOW_WIDTH-BALL_RADIUS),\n",
    "            'y': random.randint(BALL_RADIUS, WINDOW_HEIGHT-BALL_RADIUS),\n",
    "            'vx': random.uniform(-MAX_SPEED, MAX_SPEED),\n",
    "            'vy': random.uniform(-MAX_SPEED, MAX_SPEED),\n",
    "            'color': (random.randint(0, 255), random.randint(0, 255), random.randint(0, 255))}\n",
    "    balls.append(ball)\n",
    "\n",
    "# Set up the clock\n",
    "clock = pygame.time.Clock()\n",
    "\n",
    "# Set up the main loop\n",
    "running = True\n",
    "while running:\n",
    "    # Handle events\n",
    "    for event in pygame.event.get():\n",
    "        if event.type == pygame.QUIT:\n",
    "            running = False\n",
    "            \n",
    "    # Update the balls\n",
    "    for i in range(BALL_COUNT):\n",
    "        ball = balls[i]\n",
    "        ball['x'] += ball['vx']\n",
    "        ball['y'] += ball['vy']\n",
    "        \n",
    "        # Check for collisions with other balls\n",
    "        for j in range(i+1, BALL_COUNT):\n",
    "            other_ball = balls[j]\n",
    "            dx = other_ball['x'] - ball['x']\n",
    "            dy = other_ball['y'] - ball['y']\n",
    "            distance = math.sqrt(dx*dx + dy*dy)\n",
    "            \n",
    "            if distance < 2*BALL_RADIUS:\n",
    "                # Calculate the collision normal\n",
    "                nx = dx / distance\n",
    "                ny = dy / distance\n",
    "                \n",
    "                # Calculate the relative velocity\n",
    "                rvx = other_ball['vx'] - ball['vx']\n",
    "                rvy = other_ball['vy'] - ball['vy']\n",
    "                \n",
    "                # Calculate the relative speed\n",
    "                speed = rvx*nx + rvy*ny\n",
    "                \n",
    "                # Check if the balls are moving towards each other\n",
    "                if speed < 0:\n",
    "                    # Calculate the impulse magnitude\n",
    "                    impulse = -2*speed / (1/BALL_RADIUS + 1/BALL_RADIUS)\n",
    "                    \n",
    "                    # Apply the impulse to the balls\n",
    "                    ball['vx'] -= impulse / BALL_RADIUS * nx\n",
    "                    ball['vy'] -= impulse / BALL_RADIUS * ny\n",
    "                    other_ball['vx'] += impulse / BALL_RADIUS * nx\n",
    "                    other_ball['vy'] += impulse / BALL_RADIUS * ny\n",
    "        \n",
    "        # Check for collisions with walls\n",
    "        if ball['x'] < BALL_RADIUS or ball['x'] > WINDOW_WIDTH-BALL_RADIUS:\n",
    "            ball['vx'] = -ball['vx']\n",
    "        if ball['y'] < BALL_RADIUS or ball['y'] > WINDOW_HEIGHT-BALL_RADIUS:\n",
    "            ball['vy'] = -ball['vy']\n",
    "        \n",
    "    # Draw the balls\n",
    "    screen.fill(BLACK)\n",
    "    for ball in balls:\n",
    "        pygame.draw.circle(screen, ball['color'], (int(ball['x']), int(ball['y'])), BALL_RADIUS)\n",
    "    pygame.display.update()\n",
    "    \n",
    "    # Set the clock tick rate\n",
    "    clock.tick(60)"
   ]
  },
  {
   "cell_type": "code",
   "execution_count": 1,
   "metadata": {},
   "outputs": [
    {
     "data": {
      "text/plain": [
       "10"
      ]
     },
     "execution_count": 1,
     "metadata": {},
     "output_type": "execute_result"
    }
   ],
   "source": [
    "def overlap_area(rect1, rect2):\n",
    "    # Calculate the coordinates of the overlapping rectangle\n",
    "    x1 = max(rect1[0], rect2[0])\n",
    "    y1 = max(rect1[1], rect2[1])\n",
    "    x2 = min(rect1[0]+rect1[2], rect2[0]+rect2[2])\n",
    "    y2 = min(rect1[1]+rect1[3], rect2[1]+rect2[3])\n",
    "    \n",
    "    # Calculate the width and height of the overlapping rectangle\n",
    "    width = x2 - x1\n",
    "    height = y2 - y1\n",
    "    \n",
    "    # Calculate the area of overlap\n",
    "    if width <= 0 or height <= 0:\n",
    "        return 0\n",
    "    else:\n",
    "        return width * height\n",
    "    \n",
    "overlap_area([ 2, -9, 11, 5 ], [ 5, -11, 2, 9 ])"
   ]
  },
  {
   "cell_type": "code",
   "execution_count": 30,
   "metadata": {},
   "outputs": [
    {
     "ename": "KeyboardInterrupt",
     "evalue": "",
     "output_type": "error",
     "traceback": [
      "\u001b[1;31m---------------------------------------------------------------------------\u001b[0m",
      "\u001b[1;31mKeyboardInterrupt\u001b[0m                         Traceback (most recent call last)",
      "Cell \u001b[1;32mIn[30], line 42\u001b[0m\n\u001b[0;32m     40\u001b[0m \u001b[39m# Time evolution\u001b[39;00m\n\u001b[0;32m     41\u001b[0m \u001b[39mfor\u001b[39;00m i \u001b[39min\u001b[39;00m \u001b[39mrange\u001b[39m(\u001b[39m1\u001b[39m, \u001b[39mlen\u001b[39m(t)):\n\u001b[1;32m---> 42\u001b[0m     psi[:, i] \u001b[39m=\u001b[39m np\u001b[39m.\u001b[39mdot(np\u001b[39m.\u001b[39;49mexp(\u001b[39m-\u001b[39;49m\u001b[39m1\u001b[39;49mj \u001b[39m*\u001b[39;49m H \u001b[39m*\u001b[39;49m dt \u001b[39m/\u001b[39;49m \u001b[39m2\u001b[39;49m), psi[:, i\u001b[39m-\u001b[39m\u001b[39m1\u001b[39m])\n\u001b[0;32m     43\u001b[0m     psi[:, i] \u001b[39m/\u001b[39m\u001b[39m=\u001b[39m np\u001b[39m.\u001b[39mlinalg\u001b[39m.\u001b[39mnorm(psi[:, i])\n\u001b[0;32m     44\u001b[0m     psi[:, i] \u001b[39m=\u001b[39m np\u001b[39m.\u001b[39mdot(np\u001b[39m.\u001b[39mexp(\u001b[39m-\u001b[39m\u001b[39m1\u001b[39mj \u001b[39m*\u001b[39m H \u001b[39m*\u001b[39m dt \u001b[39m/\u001b[39m \u001b[39m2\u001b[39m), psi[:, i])\n",
      "\u001b[1;31mKeyboardInterrupt\u001b[0m: "
     ]
    }
   ],
   "source": [
    "import numpy as np\n",
    "import matplotlib.pyplot as plt\n",
    "\n",
    "# Define the potential well parameters\n",
    "L = 10\n",
    "V0 = 100\n",
    "a = 2\n",
    "\n",
    "# Define the time and space parameters\n",
    "t_max = 1000\n",
    "dt = 0.1\n",
    "dx = 0.1\n",
    "x_max = L + 10*a\n",
    "x_min = -L - 10*a\n",
    "\n",
    "# Define the spatial and time grid\n",
    "t = np.arange(0, t_max, dt)\n",
    "x = np.arange(x_min, x_max, dx)\n",
    "N = x.shape[0]\n",
    "\n",
    "# Initialize the wave function psi\n",
    "psi = np.zeros((N, len(t)), dtype=np.complex128)\n",
    "\n",
    "# Define the initial wave function\n",
    "psi[:, 0] = np.exp(-(x-2*a)**2 / (4*a**2)) + np.exp(-(x+2*a)**2 / (4*a**2))\n",
    "\n",
    "# Define the potential well\n",
    "V = np.zeros_like(x, dtype=np.float64)\n",
    "V[(x < -L) | (x > L)] = V0\n",
    "\n",
    "# Define the Hamiltonian operator\n",
    "H = np.zeros((N, N), dtype=np.float64)\n",
    "for i in range(N):\n",
    "    for j in range(N):\n",
    "        if i == j:\n",
    "            H[i, j] = 2 / dx**2 + V[i]\n",
    "        elif abs(i-j) == 1:\n",
    "            H[i, j] = -1 / dx**2\n",
    "\n",
    "# Time evolution\n",
    "for i in range(1, len(t)):\n",
    "    psi[:, i] = np.dot(np.exp(-1j * H * dt / 2), psi[:, i-1])\n",
    "    psi[:, i] /= np.linalg.norm(psi[:, i])\n",
    "    psi[:, i] = np.dot(np.exp(-1j * H * dt / 2), psi[:, i])\n",
    "\n",
    "# Plot the wave function\n",
    "fig, ax = plt.subplots()\n",
    "ax.plot(x, V, 'k', label='Potential well')\n",
    "ax.plot(x, np.abs(psi[:, 0])**2, 'r--', label='Initial state')\n",
    "ax.plot(x, np.abs(psi[:, len(t)//2])**2, 'b', label='Middle state')\n",
    "ax.plot(x, np.abs(psi[:, -1])**2, 'g-.', label='Final state')\n",
    "ax.set_xlim(x_min, x_max)\n",
    "ax.set_ylim(0, 1.1 * np.max(V))\n",
    "ax.set_xlabel('x')\n",
    "ax.set_ylabel('$|\\psi|^2$')\n",
    "ax.legend(loc='best')\n",
    "plt.show()"
   ]
  },
  {
   "cell_type": "code",
   "execution_count": 1,
   "metadata": {},
   "outputs": [
    {
     "data": {
      "text/plain": [
       "<matplotlib.animation.FuncAnimation at 0x2b376061e50>"
      ]
     },
     "execution_count": 1,
     "metadata": {},
     "output_type": "execute_result"
    }
   ],
   "source": [
    "import numpy as np\n",
    "x = np.linspace(-10,10,5000)\n",
    "deltax = x[1]-x[0]\n",
    "\n",
    "def norm(phi):\n",
    "    norm = np.sum(np.square(np.abs(phi)))*deltax\n",
    "    return phi/np.sqrt(norm)\n",
    "\n",
    "def complex_plot(x,y,prob=True,**kwargs):\n",
    "    real = np.real(y)\n",
    "    imag = np.imag(y)\n",
    "    a,*_ = plt.plot(x,real,label='Re',**kwargs)\n",
    "    b,*_ = plt.plot(x,imag,label='Im',**kwargs)\n",
    "    plt.xlim(-2,2)\n",
    "    if prob:\n",
    "        p,*_ = plt.plot(x,np.abs(y),label='$\\sqrt{P}$')\n",
    "        return a,b,p\n",
    "    else:\n",
    "        return a,b\n",
    "    \n",
    "def wave_packet(pos=0,mom=0,sigma=0.2):\n",
    "    return norm(np.exp(-1j*mom*x)*np.exp(-np.square(x-pos)/sigma/sigma,dtype=complex))\n",
    "                \n",
    "def d_dxdx(phi,x=x):\n",
    "    dphi_dxdx = -2*phi\n",
    "    dphi_dxdx[:-1] += phi[1:]\n",
    "    dphi_dxdx[1:] += phi[:-1]\n",
    "    return dphi_dxdx/deltax\n",
    "\n",
    "def d_dt(phi,h=1,m=100,V=0):\n",
    "    return 1j*h/2/m * d_dxdx(phi) - 1j*V*phi/h\n",
    "\n",
    "def euler(phi, dt, **kwargs):\n",
    "    return phi + dt * d_dt(phi, **kwargs)\n",
    "\n",
    "def rk4(phi, dt, **kwargs):\n",
    "    k1 = d_dt(phi, **kwargs)\n",
    "    k2 = d_dt(phi+dt/2*k1, **kwargs)\n",
    "    k3 = d_dt(phi+dt/2*k2, **kwargs)\n",
    "    k4 = d_dt(phi+dt*k3, **kwargs)\n",
    "    return phi + dt/6*(k1+2*k2+2*k3+k4)\n",
    "\n",
    "def simulate(phi_sim, \n",
    "             method='rk4', \n",
    "             V=0, \n",
    "             steps=100000, \n",
    "             dt=1e-1, \n",
    "             condition=None, \n",
    "             normalize=True,\n",
    "             save_every=100):\n",
    "    simulation_steps = [np.copy(phi_sim)]\n",
    "    for i in range(steps):\n",
    "        if method == 'euler':\n",
    "            phi_sim = euler(phi_sim,dt,V=V)\n",
    "        elif method == 'rk4':\n",
    "            phi_sim = rk4(phi_sim,dt,V=V)\n",
    "        else:\n",
    "            raise Exception(f'Unknown method {method}')\n",
    "        if condition:\n",
    "            phi_sim = condition(phi_sim)\n",
    "        if normalize:\n",
    "            phi_sim = norm(phi_sim)\n",
    "        if save_every is not None and (i+1) % save_every == 0:\n",
    "            simulation_steps.append(np.copy(phi_sim))\n",
    "    return simulation_steps\n",
    "\n",
    "sim_free = simulate(wave_packet(),steps=200000,save_every=1000)\n",
    "\n",
    "from matplotlib.animation import FuncAnimation\n",
    "\n",
    "import matplotlib.pyplot as plt\n",
    "\n",
    "def animate(simulation_steps,init_func=None):\n",
    "    fig = plt.figure()\n",
    "    re,im,prob = complex_plot(x,simulation_steps[0])\n",
    "    plt.xlim(-2,2)\n",
    "    plt.ylim(-2,2)\n",
    "    if init_func:\n",
    "        init_func()\n",
    "    plt.legend()\n",
    "\n",
    "    def animate(frame):\n",
    "        prob.set_data((x, np.abs(simulation_steps[frame])))\n",
    "        re.set_data((x, np.real(simulation_steps[frame])))\n",
    "        im.set_data((x, np.imag(simulation_steps[frame])))\n",
    "        return prob,re,im\n",
    "\n",
    "    anim = FuncAnimation(fig, animate, frames=int(len(simulation_steps)), interval=50)\n",
    "    plt.close()\n",
    "\n",
    "    return anim\n",
    "\n",
    "animate(sim_free)"
   ]
  },
  {
   "cell_type": "code",
   "execution_count": 2,
   "metadata": {},
   "outputs": [
    {
     "name": "stdout",
     "output_type": "stream",
     "text": [
      "0.008999999999999998\n"
     ]
    },
    {
     "data": {
      "text/plain": [
       "Text(0, 0.5, '$V(x)$')"
      ]
     },
     "execution_count": 2,
     "metadata": {},
     "output_type": "execute_result"
    },
    {
     "data": {
      "image/png": "[encoded data removed]",
      "text/plain": [
       "<Figure size 800x300 with 1 Axes>"
      ]
     },
     "metadata": {},
     "output_type": "display_data"
    }
   ],
   "source": [
    "import numpy as np\n",
    "import matplotlib.pyplot as plt\n",
    "from matplotlib import animation\n",
    "from matplotlib.animation import PillowWriter\n",
    "import numba\n",
    "from numba import jit\n",
    "from scipy.linalg import eigh_tridiagonal\n",
    "#plt.style.use(['science', 'notebook', 'grid'])\n",
    "\n",
    "#https://github.com/lukepolson/youtube_channel/blob/main/Python%20Metaphysics%20Series/vid17.ipynb\n",
    "\n",
    "Nx = 301\n",
    "Nt = 100000\n",
    "dx = 1/(Nx-1)\n",
    "dt=1e-7\n",
    "x = np.linspace(0, 1, Nx)\n",
    "psi0 = np.sqrt(2)*np.sin(np.pi*x)\n",
    "mu, sigma = 1/2, 1/20\n",
    "V = -1e4*np.exp(-(x-mu)**2/(2*sigma**2))\n",
    "\n",
    "print(dt/dx**2)\n",
    "\n",
    "plt.figure(figsize=(8,3))\n",
    "plt.plot(x,V)\n",
    "plt.xlabel('$x$')\n",
    "plt.ylabel('$V(x)$')\n"
   ]
  },
  {
   "cell_type": "code",
   "execution_count": 4,
   "metadata": {},
   "outputs": [
    {
     "data": {
      "text/plain": [
       "[<matplotlib.lines.Line2D at 0x182e38b9990>]"
      ]
     },
     "execution_count": 4,
     "metadata": {},
     "output_type": "execute_result"
    },
    {
     "data": {
      "image/png": "[encoded data removed]",
      "text/plain": [
       "<Figure size 640x480 with 1 Axes>"
      ]
     },
     "metadata": {},
     "output_type": "display_data"
    }
   ],
   "source": [
    "psi = np.zeros([Nt,Nx])\n",
    "psi[0] = psi0\n",
    "\n",
    "@numba.jit(\"c16[:,:](c16[:,:])\", nopython=True, nogil=True)\n",
    "def compute_psi(psi):\n",
    "    for t in range(0, Nt-1):\n",
    "        for i in range(1, Nx-1):\n",
    "            psi[t+1][i] = psi[t][i] + 1j/2 * dt/dx**2 * (psi[t][i+1] - 2*psi[t][i] + psi[t][i-1]) - 1j*dt*V[i]*psi[t][i]\n",
    "        \n",
    "        normal = np.sum(np.absolute(psi[t+1])**2)*dx\n",
    "        for i in range(1, Nx-1):\n",
    "            psi[t+1][i] = psi[t+1][i]/normal\n",
    "        \n",
    "    return psi\n",
    "\n",
    "psi_m1 = compute_psi(psi.astype(complex))\n",
    "\n",
    "plt.plot(x, np.absolute(psi_m1[0])**2)"
   ]
  },
  {
   "cell_type": "code",
   "execution_count": null,
   "metadata": {},
   "outputs": [],
   "source": [
    "import numpy as np\n",
    "from scipy.integrate import complex_odeint\n",
    "\n",
    "# Define the function to be integrated\n",
    "def f(z):\n",
    "    return np.exp(-z**2)\n",
    "\n",
    "# Define the contour\n",
    "def contour(t):\n",
    "    return 2j * t\n",
    "\n",
    "# Define the limits of integration\n",
    "t_start = 0\n",
    "t_stop = 1\n",
    "\n",
    "# Define the initial value\n",
    "z0 = 0\n",
    "\n",
    "# Define the number of points in the contour\n",
    "N = 100\n",
    "\n",
    "# Define the points in the contour\n",
    "t = np.linspace(t_start, t_stop, N)\n",
    "\n",
    "# Solve the integral using complex_odeint\n",
    "result = complex_odeint(f, z0, contour(t))\n",
    "\n",
    "# Print the result\n",
    "print(result[-1])"
   ]
  }
 ],
 "metadata": {
  "kernelspec": {
   "display_name": ".venv",
   "language": "python",
   "name": "python3"
  },
  "language_info": {
   "codemirror_mode": {
    "name": "ipython",
    "version": 3
   },
   "file_extension": ".py",
   "mimetype": "text/x-python",
   "name": "python",
   "nbconvert_exporter": "python",
   "pygments_lexer": "ipython3",
   "version": "3.10.9"
  },
  "orig_nbformat": 4
 },
 "nbformat": 4,
 "nbformat_minor": 2
}
