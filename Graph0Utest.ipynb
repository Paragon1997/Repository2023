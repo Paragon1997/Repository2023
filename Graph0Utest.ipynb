{
 "cells": [
  {
   "cell_type": "code",
   "execution_count": 1,
   "metadata": {},
   "outputs": [],
   "source": [
    "#figure out why u=0 does not give rho0 for r=2.3\n",
    "import warnings\n",
    "warnings.filterwarnings(\"ignore\", category=RuntimeWarning)\n",
    "from tqdm.auto import trange\n",
    "from time import time\n",
    "from qutip import *\n",
    "import numpy as np\n",
    "import matplotlib.pyplot as plt\n",
    "import kwant\n",
    "from numpy import sqrt\n",
    "import scipy\n",
    "from itertools import repeat\n",
    "from numba import njit\n",
    "\n",
    "import DEDlib"
   ]
  },
  {
   "cell_type": "code",
   "execution_count": 1,
   "metadata": {},
   "outputs": [
    {
     "ename": "NameError",
     "evalue": "name 'np' is not defined",
     "output_type": "error",
     "traceback": [
      "\u001b[1;31m---------------------------------------------------------------------------\u001b[0m",
      "\u001b[1;31mNameError\u001b[0m                                 Traceback (most recent call last)",
      "Cell \u001b[1;32mIn[1], line 1\u001b[0m\n\u001b[1;32m----> 1\u001b[0m np\u001b[39m.\u001b[39mlinspace(\u001b[39m-\u001b[39m\u001b[39m3\u001b[39m,\u001b[39m3\u001b[39m,\u001b[39m1001\u001b[39m)[\u001b[39m501\u001b[39m]\n",
      "\u001b[1;31mNameError\u001b[0m: name 'np' is not defined"
     ]
    }
   ],
   "source": [
    "np.linspace(-3,3,1001)[501]\n"
   ]
  },
  {
   "cell_type": "code",
   "execution_count": 38,
   "metadata": {},
   "outputs": [
    {
     "data": {
      "text/plain": [
       "'$\\\\rho$'"
      ]
     },
     "execution_count": 38,
     "metadata": {},
     "output_type": "execute_result"
    }
   ],
   "source": [
    "\"$\\\\rho$\""
   ]
  },
  {
   "cell_type": "code",
   "execution_count": 57,
   "metadata": {},
   "outputs": [
    {
     "data": {
      "text/plain": [
       "17.588773148148146"
      ]
     },
     "execution_count": 57,
     "metadata": {},
     "output_type": "execute_result"
    }
   ],
   "source": [
    "sum(np.logspace(2.0, 5, num=50, base=10,dtype='int'))*20/10/60/60/24"
   ]
  },
  {
   "cell_type": "code",
   "execution_count": 36,
   "metadata": {},
   "outputs": [],
   "source": [
    "DOST=np.zeros((16,1001),dtype = 'float')"
   ]
  },
  {
   "cell_type": "code",
   "execution_count": 17,
   "metadata": {},
   "outputs": [
    {
     "data": {
      "text/plain": [
       "(50,)"
      ]
     },
     "execution_count": 17,
     "metadata": {},
     "output_type": "execute_result"
    }
   ],
   "source": [
    "s.shape"
   ]
  },
  {
   "cell_type": "code",
   "execution_count": 18,
   "metadata": {},
   "outputs": [
    {
     "data": {
      "text/plain": [
       "(50, 1001)"
      ]
     },
     "execution_count": 18,
     "metadata": {},
     "output_type": "execute_result"
    }
   ],
   "source": [
    "b.shape"
   ]
  },
  {
   "cell_type": "code",
   "execution_count": 24,
   "metadata": {},
   "outputs": [
    {
     "data": {
      "text/plain": [
       "50"
      ]
     },
     "execution_count": 24,
     "metadata": {},
     "output_type": "execute_result"
    }
   ],
   "source": [
    "len(np.mean(np.zeros((50,1001)),axis=1))"
   ]
  },
  {
   "cell_type": "code",
   "execution_count": 5,
   "metadata": {},
   "outputs": [
    {
     "data": {
      "image/png": "[encoded data removed]",
      "text/plain": [
       "<Figure size 1000x800 with 1 Axes>"
      ]
     },
     "metadata": {},
     "output_type": "display_data"
    },
    {
     "data": {
      "text/plain": [
       "<module 'matplotlib.pyplot' from 'c:\\\\Users\\\\roelv\\\\OneDrive\\\\Documenten\\\\VSC\\\\.conda\\\\lib\\\\site-packages\\\\matplotlib\\\\pyplot.py'>"
      ]
     },
     "execution_count": 5,
     "metadata": {},
     "output_type": "execute_result"
    }
   ],
   "source": [
    "import DEDlib\n",
    "DEDlib.stdplot(np.logspace(2.0, 5, num=50, base=10,dtype='int'),np.ones((50,1001)),'g','$\\\\sigma$')"
   ]
  },
  {
   "cell_type": "code",
   "execution_count": 33,
   "metadata": {},
   "outputs": [
    {
     "data": {
      "text/plain": [
       "array([[   100.,      0.,      0., ...,      0.,      0.,      0.],\n",
       "       [   115.,      0.,      0., ...,      0.,      0.,      0.],\n",
       "       [   132.,      0.,      0., ...,      0.,      0.,      0.],\n",
       "       ...,\n",
       "       [ 75431.,      0.,      0., ...,      0.,      0.,      0.],\n",
       "       [ 86851.,      0.,      0., ...,      0.,      0.,      0.],\n",
       "       [100000.,      0.,      0., ...,      0.,      0.,      0.]])"
      ]
     },
     "execution_count": 33,
     "metadata": {},
     "output_type": "execute_result"
    }
   ],
   "source": [
    "np.insert(b,0,s, axis=1)"
   ]
  },
  {
   "cell_type": "code",
   "execution_count": 34,
   "metadata": {},
   "outputs": [],
   "source": [
    "\n",
    "np.savetxt('test.txt',np.insert(b,0,s, axis=1),delimiter='\\t', newline='\\n')"
   ]
  },
  {
   "cell_type": "code",
   "execution_count": 26,
   "metadata": {},
   "outputs": [
    {
     "ename": "ValueError",
     "evalue": "all the input arrays must have same number of dimensions, but the array at index 0 has 2 dimension(s) and the array at index 1 has 1 dimension(s)",
     "output_type": "error",
     "traceback": [
      "\u001b[1;31m---------------------------------------------------------------------------\u001b[0m",
      "\u001b[1;31mValueError\u001b[0m                                Traceback (most recent call last)",
      "Cell \u001b[1;32mIn[26], line 2\u001b[0m\n\u001b[0;32m      1\u001b[0m s,b\u001b[39m=\u001b[39mnp\u001b[39m.\u001b[39mlogspace(\u001b[39m2\u001b[39m, \u001b[39m5\u001b[39m, num\u001b[39m=\u001b[39m\u001b[39m50\u001b[39m, base\u001b[39m=\u001b[39m\u001b[39m10\u001b[39m,dtype\u001b[39m=\u001b[39m\u001b[39m'\u001b[39m\u001b[39mint\u001b[39m\u001b[39m'\u001b[39m),np\u001b[39m.\u001b[39mzeros((\u001b[39m50\u001b[39m,\u001b[39m1001\u001b[39m))\n\u001b[1;32m----> 2\u001b[0m tot\u001b[39m=\u001b[39mnp\u001b[39m.\u001b[39;49mappend(b,s, axis\u001b[39m=\u001b[39;49m\u001b[39m0\u001b[39;49m)\n\u001b[0;32m      3\u001b[0m tot\n",
      "File \u001b[1;32m<__array_function__ internals>:180\u001b[0m, in \u001b[0;36mappend\u001b[1;34m(*args, **kwargs)\u001b[0m\n",
      "File \u001b[1;32mc:\\Users\\roelv\\OneDrive\\Documenten\\VSC\\.conda\\lib\\site-packages\\numpy\\lib\\function_base.py:5444\u001b[0m, in \u001b[0;36mappend\u001b[1;34m(arr, values, axis)\u001b[0m\n\u001b[0;32m   5442\u001b[0m     values \u001b[39m=\u001b[39m ravel(values)\n\u001b[0;32m   5443\u001b[0m     axis \u001b[39m=\u001b[39m arr\u001b[39m.\u001b[39mndim\u001b[39m-\u001b[39m\u001b[39m1\u001b[39m\n\u001b[1;32m-> 5444\u001b[0m \u001b[39mreturn\u001b[39;00m concatenate((arr, values), axis\u001b[39m=\u001b[39;49maxis)\n",
      "File \u001b[1;32m<__array_function__ internals>:180\u001b[0m, in \u001b[0;36mconcatenate\u001b[1;34m(*args, **kwargs)\u001b[0m\n",
      "\u001b[1;31mValueError\u001b[0m: all the input arrays must have same number of dimensions, but the array at index 0 has 2 dimension(s) and the array at index 1 has 1 dimension(s)"
     ]
    }
   ],
   "source": [
    "s,b=np.logspace(2, 5, num=50, base=10,dtype='int'),np.zeros((50,1001))\n",
    "tot=np.append(b,s, axis=0)\n",
    "tot"
   ]
  },
  {
   "cell_type": "code",
   "execution_count": null,
   "metadata": {},
   "outputs": [],
   "source": [
    "np.savetxt('test.txt',s,delimiter='\\t', newline='\\n')"
   ]
  },
  {
   "cell_type": "code",
   "execution_count": 48,
   "metadata": {},
   "outputs": [
    {
     "name": "stdout",
     "output_type": "stream",
     "text": [
      "1\n",
      "1\n",
      "1\n",
      "1\n",
      "1\n",
      "[0. 0. 0. 0. 0.]\n"
     ]
    }
   ],
   "source": [
    "d=np.zeros(5)\n",
    "\n",
    "for x,d2 in enumerate(d):\n",
    "    d2=1\n",
    "    print(d2)\n",
    "print(d)"
   ]
  },
  {
   "cell_type": "code",
   "execution_count": 37,
   "metadata": {},
   "outputs": [],
   "source": [
    "std=np.sqrt(np.sum([(dat-np.mean(DOST,axis=0))**2 for dat in DOST],axis=0)/(len(DOST)-1))\n",
    "stdavg=std/np.sqrt(len(DOST))"
   ]
  },
  {
   "cell_type": "code",
   "execution_count": 17,
   "metadata": {},
   "outputs": [
    {
     "name": "stdout",
     "output_type": "stream",
     "text": [
      "[0.94280904 1.41421356 1.88561808 0.94280904 0.47140452 1.88561808\n",
      " 1.41421356 0.94280904 1.24721913 0.         0.         0.47140452\n",
      " 1.63299316 0.94280904 0.47140452 0.81649658 1.41421356] [0.88888889 2.         3.55555556 0.88888889 0.22222222 3.55555556\n",
      " 2.         0.88888889 1.55555556 0.         0.         0.22222222\n",
      " 2.66666667 0.88888889 0.22222222 0.66666667 2.        ] [2.33333333 3.         3.66666667 2.33333333 1.66666667 3.66666667\n",
      " 3.         2.33333333 2.66666667 4.         4.         2.33333333\n",
      " 3.         1.66666667 1.66666667 3.         3.        ]\n"
     ]
    }
   ],
   "source": [
    "data=np.array([[1,4,5,3,2,5,4,3,4,4,4,2,1,1,2,3,4],[3,4,5,3,2,5,4,3,3,4,4,2,5,1,2,4,4],[3,1,1,1,1,1,1,1,1,4,4,3,3,3,1,2,1]])\n",
    "print(np.std(data,axis=0),np.var(data,axis=0),np.mean(data,axis=0))"
   ]
  },
  {
   "cell_type": "code",
   "execution_count": 22,
   "metadata": {},
   "outputs": [
    {
     "data": {
      "text/plain": [
       "array([0.66666667, 1.        , 1.33333333, 0.66666667, 0.33333333,\n",
       "       1.33333333, 1.        , 0.66666667, 0.8819171 , 0.        ,\n",
       "       0.        , 0.33333333, 1.15470054, 0.66666667, 0.33333333,\n",
       "       0.57735027, 1.        ])"
      ]
     },
     "execution_count": 22,
     "metadata": {},
     "output_type": "execute_result"
    }
   ],
   "source": [
    "np.sqrt(np.sum([(dat-np.mean(data,axis=0))**2 for dat in data],axis=0)/(len(data)-1))/np.sqrt(len(data))"
   ]
  },
  {
   "cell_type": "code",
   "execution_count": 26,
   "metadata": {},
   "outputs": [
    {
     "data": {
      "text/plain": [
       "array([[[0., 0.],\n",
       "        [0., 0.],\n",
       "        [0., 0.],\n",
       "        [0., 0.]],\n",
       "\n",
       "       [[0., 0.],\n",
       "        [0., 0.],\n",
       "        [0., 0.],\n",
       "        [0., 0.]],\n",
       "\n",
       "       [[0., 0.],\n",
       "        [0., 0.],\n",
       "        [0., 0.],\n",
       "        [0., 0.]],\n",
       "\n",
       "       [[0., 0.],\n",
       "        [0., 0.],\n",
       "        [0., 0.],\n",
       "        [0., 0.]],\n",
       "\n",
       "       [[0., 0.],\n",
       "        [0., 0.],\n",
       "        [0., 0.],\n",
       "        [0., 0.]]])"
      ]
     },
     "execution_count": 26,
     "metadata": {},
     "output_type": "execute_result"
    }
   ],
   "source": [
    "np.zeros((5,4,2),dtype = 'float')"
   ]
  },
  {
   "cell_type": "code",
   "execution_count": 24,
   "metadata": {},
   "outputs": [],
   "source": [
    "x=(1,2)\n",
    "\n",
    "y=np.zeros((2,2))\n",
    "\n",
    "y[0]=x"
   ]
  },
  {
   "cell_type": "code",
   "execution_count": 25,
   "metadata": {},
   "outputs": [
    {
     "data": {
      "text/plain": [
       "array([[1., 2.],\n",
       "       [0., 0.]])"
      ]
     },
     "execution_count": 25,
     "metadata": {},
     "output_type": "execute_result"
    }
   ],
   "source": [
    "y"
   ]
  },
  {
   "cell_type": "code",
   "execution_count": null,
   "metadata": {},
   "outputs": [],
   "source": [
    "N=10000\n",
    "poles=4\n",
    "U=3\n",
    "Sigma=3/2\n",
    "Ed=-3/2\n",
    "Gamma=0.3\n",
    "SizeO=1001\n",
    "etaco=[0.02,1e-39]\n",
    "ctype='n'\n",
    "bound=3\n",
    "Tk=[0]\n",
    "posb=1\n",
    "\n",
    "omega,eta,selectpcT,selectpT= np.linspace(-bound,bound,SizeO),etaco[0]*abs(np.linspace(-bound,bound,SizeO))+etaco[1],[],[]\n",
    "\n",
    "kb=1\n",
    "NewM,nonG,select=Startrans(poles,np.sort(Lorentzian(omega, Gamma, poles,Ed,Sigma)[1]),omega,eta)\n",
    "E_k=[NewM[k+1][k+1] for k in range(len(NewM)-1)]\n",
    "H0,H=HamiltonianAIM(c,NewM[0][0],E_k,NewM[0,1:],U,Sigma)\n",
    "evals,evecs=scipy.linalg.eigh(H.data.toarray())\n",
    "Z_tot=np.sum(np.exp(-evals/Tk))\n",
    "Hexp=np.sum(evals*np.exp(-evals/Tk))/Z_tot\n",
    "Z_bath=2*np.prod([1+np.exp(ek/Tk) for ek in E_k])\n",
    "Hbexp=2*np.sum([ek/(1+np.exp(ek/Tk)) for ek in E_k])\n",
    "S_bath=kb(np.log(np.sum(Z_bath))+Hbexp/Tk)\n",
    "S_tot=kb(np.log(np.sum(Z_tot))+Hexp/Tk)\n",
    "S_imp=S_tot-S_bath"
   ]
  },
  {
   "cell_type": "code",
   "execution_count": 11,
   "metadata": {},
   "outputs": [],
   "source": [
    "def ConstraintE(ctype,H0,H,n,Tk,Nfin=0):\n",
    "    if ctype[0]=='s':\n",
    "        vecs=scipy.linalg.eigh(H0.data.toarray(),eigvals=[0, 0])[1][:,0]\n",
    "        evals,evecs=scipy.linalg.eigh(H.data.toarray())\n",
    "        if ctype=='ssn':\n",
    "            Boltzmann=np.exp(-abs(evals[find_nearest(np.diag(np.conj(evecs).T@n.data@evecs),np.conj(vecs)@n.data@vecs.T)]-evals[0])/Tk)*Nfin.astype('int')\n",
    "            return Boltzmann\n",
    "        else: return np.exp(-abs(evals[find_nearest(np.diag(np.conj(evecs).T@n.data@evecs),np.conj(vecs)@n.data@vecs.T)]-evals[0])/Tk)\n",
    "    elif ctype[0]=='n':\n",
    "        vecs=scipy.sparse.csr_matrix(np.vstack((scipy.sparse.linalg.eigsh(np.real(H0.data), k=1, which='SA')[1][:,0],\n",
    "                                                scipy.sparse.linalg.eigsh(np.real(H.data), k=1, which='SA')[1][:,0])))\n",
    "        exp=np.conj(vecs)@n.data@vecs.T\n",
    "        if ctype=='n%2' and int(np.round(exp[0,0]))%2==int(np.round(exp[1,1]))%2: return np.ones(len(Tk))\n",
    "        elif ctype=='n' and np.round(exp[0,0])==np.round(exp[1,1]): return np.ones(len(Tk))\n",
    "        else: return np.zeros(len(Tk))\n",
    "    elif ctype[0]=='d':\n",
    "        vecs=scipy.sparse.csr_matrix(np.vstack((scipy.linalg.eigh(H.data.toarray(),eigvals=[0, 0])[1][:,0],\n",
    "                                                scipy.linalg.eigh(H0.data.toarray(),eigvals=[0, 0])[1][:,0])))\n",
    "        exp=np.conj(vecs)@n.data@vecs.T\n",
    "        if ctype=='dn' and np.round(exp[0,0])==np.round(exp[1,1]): return np.ones(len(Tk))\n",
    "        else: return np.zeros(len(Tk))\n",
    "    else: return np.ones(len(Tk))    "
   ]
  },
  {
   "cell_type": "code",
   "execution_count": 12,
   "metadata": {},
   "outputs": [],
   "source": [
    "def Entropyimp(N=10000,poles=4,U=3,Sigma=3/2,Ed=-3/2,Gamma=0.3,SizeO=1001,etaco=[0.02,1e-39],ctype='n',bound=3,Tk=[0],posb=1):\n",
    "    omega,eta,selectpcT,selectpT,S_imp,kb,c= np.linspace(-bound,bound,SizeO),etaco[0]*abs(np.linspace(-bound,bound,SizeO))+etaco[1],[],[],np.zeros(len(Tk),dtype = 'float'),1,[Jordan_wigner_transform(i, 2*poles) for i in range(2*poles)]\n",
    "    pbar=trange(N,position=posb,leave=False,desc='Iterations',bar_format='{l_bar}{bar:10}{r_bar}{bar:-10b}')\n",
    "    n,Nfin,i=sum([c[i].dag()*c[i] for i in range(2*poles)]),np.zeros(len(Tk),dtype = 'float'),0\n",
    "    while (np.array([ar<N for _,ar in enumerate(Nfin)]).any() and ctype!='sn') or i<N:\n",
    "        constr=np.zeros(len(Tk),dtype = 'float')\n",
    "        while [con==0 for con in constr].all():\n",
    "            NewM,_,select=Startrans(poles,np.sort(Lorentzian(omega, Gamma, poles,Ed,Sigma)[1]),omega,eta)\n",
    "            E_k=[NewM[k+1][k+1] for k in range(len(NewM)-1)]\n",
    "            H0,H=HamiltonianAIM(c,NewM[0][0],E_k,NewM[0,1:],U,Sigma)\n",
    "            constr=ConstraintE(ctype,H0,H,n)\n",
    "            selectpT.append(select)\n",
    "        selectpcT.append(select)\n",
    "        evals,_=scipy.linalg.eigh(H.data.toarray())\n",
    "        Z_tot=np.sum(np.exp(-evals/Tk))\n",
    "        Hexp=np.sum(evals*np.exp(-evals/Tk))/Z_tot\n",
    "        Z_bath=2*np.prod([1+np.exp(ek/Tk) for ek in E_k],axis=0)\n",
    "        Hbexp=2*np.sum([ek/(1+np.exp(ek/Tk)) for ek in E_k],axis=0)\n",
    "        S_bath=kb(np.log(np.sum(Z_bath))+Hbexp/Tk)\n",
    "        S_tot=kb(np.log(np.sum(Z_tot))+Hexp/Tk)\n",
    "        S_imp+=(S_tot-S_bath)\n",
    "        i+=1\n",
    "        Nfin+=constr\n",
    "        if ctype=='sn': pbar.n=i\n",
    "        else: pbar.n=int(min(Nfin))\n",
    "        pbar.refresh()\n",
    "    pbar.close()\n",
    "    return np.real(S_imp/Nfin).squeeze()"
   ]
  },
  {
   "cell_type": "code",
   "execution_count": 15,
   "metadata": {},
   "outputs": [],
   "source": [
    "def Jordan_wigner_transform(j, lattice_length):\n",
    "    \"\"\"Jordan_wigner_transform(j, lattice_length). \n",
    "Defines the Jordan Wigner transformation for a 1D lattice.\"\"\"\n",
    "    operators = sigmaz()\n",
    "    for _ in range(j-1): operators = tensor(operators, sigmaz())\n",
    "    if j == 0: operators = sigmam()\n",
    "    else: operators = tensor(operators, sigmam())\n",
    "    for _ in range(lattice_length - j - 1): operators = tensor(operators, identity(2))\n",
    "    return operators"
   ]
  },
  {
   "cell_type": "code",
   "execution_count": 21,
   "metadata": {},
   "outputs": [],
   "source": [
    "@njit\n",
    "def Startrans(poles,select,omega, eta,row=0):\n",
    "    \"\"\"Startrans(poles,select,row,omega, eta). \n",
    "Function to transform 1D lattice matrices in order to calculates parameters impengergy, bathenergy and Vkk from random sampling distribution.\"\"\"\n",
    "    Pbath,Dbath,pbar,G=np.zeros((poles, poles)),np.zeros((poles,poles)),np.zeros((poles, poles)),np.zeros(omega.shape,dtype = 'complex_')\n",
    "    for i in range(poles-1):\n",
    "        for j in range(poles-1):\n",
    "            if j>=i: Pbath[i+1][j+1]=-1/sqrt((poles-i-1)*(poles-i))\n",
    "        Pbath[i+1][i]=sqrt(poles-i-1)/sqrt(poles-i)\n",
    "    Pbath[row,:]=1/sqrt(poles)\n",
    "    for i, _ in enumerate(select): Dbath[i][i]=select[i]\n",
    "    pbar[1:,1:]=np.linalg.eig(np.dot(Pbath,np.dot(Dbath,Pbath.T))[1:,1:])[1]\n",
    "    pbar[row][row]=1\n",
    "    for i, _ in enumerate(select): G+=1 / len(select) / (omega - select[i] + 1.j * eta)\n",
    "    return np.dot(pbar.T,np.dot(np.dot(Pbath,np.dot(Dbath,Pbath.T)),pbar)),G,select"
   ]
  },
  {
   "cell_type": "code",
   "execution_count": 23,
   "metadata": {},
   "outputs": [],
   "source": [
    "@njit\n",
    "def Lorentzian(omega, Gamma, poles,Ed=-3/2,Sigma=3/2):\n",
    "    \"\"\"Lorentzian(omega, Gamma, poles,Ed=-3/2,Sigma=3/2). \n",
    "Defines the non-interacting DOS (rho0) and selects random sites based on the number of sites in the 1D lattice model and the calculated distribution.\"\"\"\n",
    "    p = np.random.uniform(0, 1, poles)\n",
    "    return -np.imag(1/(omega-Ed-Sigma+1j*Gamma))/np.pi, np.array([Gamma * np.tan(np.pi * (p[i] - 1 / 2))+Ed+Sigma for i in range(poles)])"
   ]
  },
  {
   "cell_type": "code",
   "execution_count": 25,
   "metadata": {},
   "outputs": [],
   "source": [
    "def HamiltonianAIM(c, impenergy, bathenergy, Vkk, U, Sigma, H0 = 0):\n",
    "    \"\"\"HamiltonianAIM(c, impenergy, bathenergy, Vkk, U, Sigma). \n",
    "Based on energy parameters calculates the Hamiltonian of a single-impurity system.\"\"\"\n",
    "    for i in range(2):\n",
    "        H0 += impenergy * (c[i].dag() * c[i])\n",
    "        for j, bathE in enumerate(bathenergy):\n",
    "            H0 += Vkk[j] * (c[i].dag() * c[2 * j + i + 2] + c[2 * j + i + 2].dag() * c[i])+ bathE * (c[2 * j + i + 2].dag() * c[2 * j + i + 2])\n",
    "    return H0,H0+U * (c[0].dag() * c[0] * c[1].dag() * c[1])-Sigma * (c[0].dag() * c[0] + c[1].dag() * c[1])"
   ]
  },
  {
   "cell_type": "code",
   "execution_count": 98,
   "metadata": {},
   "outputs": [
    {
     "data": {
      "application/vnd.jupyter.widget-view+json": {
       "model_id": "9b8408a0221047f9a01bb7aa1e65f8d9",
       "version_major": 2,
       "version_minor": 0
      },
      "text/plain": [
       "Iterations:   0%|          | 0/10000 [00:00<?, ?it/s]"
      ]
     },
     "metadata": {},
     "output_type": "display_data"
    }
   ],
   "source": [
    "N=10000\n",
    "poles=4\n",
    "U=3\n",
    "Sigma=3/2\n",
    "Ed=-3/2\n",
    "Gamma=0.3\n",
    "SizeO=1001\n",
    "etaco=[0.02,1e-39]\n",
    "ctype='n'\n",
    "bound=3\n",
    "Tk=np.array([0.000000000001,0.001,0.01,0.1,0.3,1])\n",
    "posb=1\n",
    "omega,eta,selectpcT,selectpT,S_imp,kb,c= np.linspace(-bound,bound,SizeO),etaco[0]*abs(np.linspace(-bound,bound,SizeO))+etaco[1],[],[],np.zeros(len(Tk),dtype = 'float'),1,[Jordan_wigner_transform(i, 2*poles) for i in range(2*poles)]\n",
    "pbar=trange(N,position=posb,leave=False,desc='Iterations',bar_format='{l_bar}{bar:10}{r_bar}{bar:-10b}')\n",
    "n,Nfin,i=sum([c[i].dag()*c[i] for i in range(2*poles)]),np.zeros(len(Tk),dtype = 'float'),0\n",
    "\n",
    "constr=np.zeros(len(Tk),dtype = 'float')\n",
    "while np.array([con==0 for con in constr]).all():\n",
    "    NewM,_,select=Startrans(poles,np.sort(Lorentzian(omega, Gamma, poles,Ed,Sigma)[1]),omega,eta)\n",
    "    E_k=[NewM[k+1][k+1] for k in range(len(NewM)-1)]\n",
    "    H0,H=HamiltonianAIM(c,NewM[0][0],E_k,NewM[0,1:],U,Sigma)\n",
    "    constr=ConstraintE(ctype,H0,H,n,Tk)\n",
    "    selectpT.append(select)\n",
    "selectpcT.append(select)\n",
    "evals,_=scipy.linalg.eigh(H.data.toarray())"
   ]
  },
  {
   "cell_type": "code",
   "execution_count": 99,
   "metadata": {},
   "outputs": [
    {
     "data": {
      "text/plain": [
       "array([1., 1., 1., 1., 1., 1.])"
      ]
     },
     "execution_count": 99,
     "metadata": {},
     "output_type": "execute_result"
    }
   ],
   "source": [
    "constr"
   ]
  },
  {
   "cell_type": "code",
   "execution_count": 100,
   "metadata": {},
   "outputs": [
    {
     "data": {
      "text/plain": [
       "(6,)"
      ]
     },
     "execution_count": 100,
     "metadata": {},
     "output_type": "execute_result"
    }
   ],
   "source": [
    "Tk.shape"
   ]
  },
  {
   "cell_type": "code",
   "execution_count": 101,
   "metadata": {},
   "outputs": [
    {
     "data": {
      "text/plain": [
       "array([ 3.17523766e+12,  3.04545878e+12,  3.04545878e+12,  2.68038617e+12,\n",
       "        2.52362063e+12,  2.52362063e+12,  2.39014180e+12,  2.39014180e+12,\n",
       "        2.39014180e+12,  2.03809561e+12,  1.93865832e+12,  1.93865832e+12,\n",
       "        1.91517616e+12,  1.91517616e+12,  1.91517616e+12,  1.81241161e+12,\n",
       "        1.81241161e+12,  1.74047004e+12,  1.51189060e+12,  1.51189060e+12,\n",
       "        1.39174916e+12,  1.33792675e+12,  1.33792675e+12,  1.29891385e+12,\n",
       "        1.29891385e+12,  1.29891385e+12,  1.29891385e+12,  1.19614929e+12,\n",
       "        1.19614929e+12,  1.19614929e+12,  9.01073013e+11,  8.86434242e+11,\n",
       "        8.47449928e+11,  8.47449928e+11,  8.47449928e+11,  8.32443555e+11,\n",
       "        8.32443555e+11,  7.02352932e+11,  7.02352932e+11,  4.23118794e+11,\n",
       "        3.31141423e+11,  3.31141423e+11,  2.46889962e+11,  2.46889962e+11,\n",
       "        2.46889962e+11,  1.02764551e+11,  1.02764551e+11, -0.00000000e+00,\n",
       "       -1.03813838e+11, -1.65487601e+11, -2.04582996e+11, -2.04582996e+11,\n",
       "       -5.13497768e+11, -5.13497768e+11, -5.13497768e+11, -6.16262319e+11,\n",
       "       -6.16262319e+11, -6.40323789e+11, -7.67170226e+11, -7.67170226e+11,\n",
       "       -1.21055484e+12, -1.21055484e+12, -1.23922104e+12, -1.45879362e+12,\n",
       "       -1.48957773e+13, -1.48957773e+13, -1.49696226e+13, -1.49696226e+13,\n",
       "       -1.49696226e+13, -1.53593871e+13, -1.54160259e+13, -1.54160259e+13,\n",
       "       -1.55342228e+13, -1.55342228e+13, -1.55342228e+13, -1.56107374e+13,\n",
       "       -1.56107374e+13, -1.56107374e+13, -1.56107374e+13, -1.59917288e+13,\n",
       "       -1.59917288e+13, -1.59917288e+13, -1.59917288e+13, -1.60135728e+13,\n",
       "       -1.60609220e+13, -1.60609220e+13, -1.60944934e+13, -1.60944934e+13,\n",
       "       -1.60944934e+13, -1.61070239e+13, -1.61070239e+13, -1.61070239e+13,\n",
       "       -1.63685061e+13, -1.63685061e+13, -1.64569689e+13, -1.64569689e+13,\n",
       "       -1.64569689e+13, -1.65643426e+13, -1.65643426e+13, -1.66079911e+13,\n",
       "       -1.66079911e+13, -1.66079911e+13, -1.66079911e+13, -1.66079911e+13,\n",
       "       -1.66571313e+13, -1.66942303e+13, -1.66942303e+13, -1.67107557e+13,\n",
       "       -1.67107557e+13, -1.67107557e+13, -1.67107557e+13, -1.67476480e+13,\n",
       "       -1.67476480e+13, -1.67980927e+13, -1.70609011e+13, -1.70609011e+13,\n",
       "       -1.70609011e+13, -1.71042777e+13, -1.71042777e+13, -1.71042777e+13,\n",
       "       -1.71042777e+13, -1.71071024e+13, -1.72194662e+13, -1.72194662e+13,\n",
       "       -1.72194662e+13, -1.72414827e+13, -1.72520788e+13, -1.72520788e+13,\n",
       "       -1.73022480e+13, -1.73022480e+13, -1.73917254e+13, -1.73917254e+13,\n",
       "       -1.73917254e+13, -1.74377534e+13, -1.74377534e+13, -1.74377534e+13,\n",
       "       -1.75571876e+13, -1.75571876e+13, -1.77318320e+13, -1.77325488e+13,\n",
       "       -1.78041404e+13, -1.78041404e+13, -1.78041404e+13, -1.78326630e+13,\n",
       "       -1.78326630e+13, -1.78737605e+13, -1.78737605e+13, -1.78737605e+13,\n",
       "       -1.78951744e+13, -1.78951744e+13, -1.79069050e+13, -1.79069050e+13,\n",
       "       -1.80204564e+13, -1.80581549e+13, -1.80581549e+13, -1.80581549e+13,\n",
       "       -1.80581549e+13, -1.81959195e+13, -1.81959195e+13, -1.82236132e+13,\n",
       "       -1.83677107e+13, -1.83677107e+13, -1.83992493e+13, -1.83992493e+13,\n",
       "       -1.84204028e+13, -1.84204028e+13, -1.84204028e+13, -1.84204028e+13,\n",
       "       -1.85231673e+13, -1.85231673e+13, -1.85231673e+13, -1.85544414e+13,\n",
       "       -1.85544414e+13, -1.85544414e+13, -1.86669663e+13, -1.87559256e+13,\n",
       "       -1.87559256e+13, -1.88077588e+13, -1.88601343e+13, -1.88601343e+13,\n",
       "       -1.88601343e+13, -1.89040362e+13, -1.89040362e+13, -1.91252160e+13,\n",
       "       -1.92501449e+13, -1.92501449e+13, -1.93499260e+13, -1.93499260e+13,\n",
       "       -1.93499260e+13, -1.96463508e+13, -1.97835451e+13, -1.97835451e+13,\n",
       "       -3.32654223e+13, -3.35476027e+13, -3.35476027e+13, -3.39581601e+13,\n",
       "       -3.39842624e+13, -3.39842624e+13, -3.42695320e+13, -3.42695320e+13,\n",
       "       -3.42695320e+13, -3.45050742e+13, -3.45050742e+13, -3.45590233e+13,\n",
       "       -3.46111615e+13, -3.46111615e+13, -3.46111615e+13, -3.47658186e+13,\n",
       "       -3.47658186e+13, -3.49500376e+13, -3.50560166e+13, -3.50560166e+13,\n",
       "       -3.51607029e+13, -3.51607029e+13, -3.51607029e+13, -3.52277153e+13,\n",
       "       -3.52667858e+13, -3.52667858e+13, -3.52667858e+13, -3.52667858e+13,\n",
       "       -3.54686472e+13, -3.56752344e+13, -3.56752344e+13, -3.57196958e+13,\n",
       "       -3.57196958e+13, -3.57630723e+13, -3.57630723e+13, -3.57630723e+13,\n",
       "       -3.58987727e+13, -3.58987727e+13, -3.59769461e+13, -3.60831991e+13,\n",
       "       -3.60831991e+13, -3.62159823e+13, -3.62778581e+13, -3.62778581e+13,\n",
       "       -3.63434846e+13, -3.64697170e+13, -3.66326559e+13, -3.66326559e+13,\n",
       "       -3.67169495e+13, -3.67169495e+13, -3.67169495e+13, -3.67389046e+13,\n",
       "       -3.67389046e+13, -3.67389046e+13, -3.68015314e+13, -3.71194490e+13,\n",
       "       -3.72071833e+13, -3.72071833e+13, -3.72132361e+13, -3.72132361e+13,\n",
       "       -3.74078729e+13, -3.78068236e+13, -3.78068236e+13, -3.82690525e+13])"
      ]
     },
     "execution_count": 101,
     "metadata": {},
     "output_type": "execute_result"
    }
   ],
   "source": [
    "np.outer(-evals,1/Tk)[:,0]"
   ]
  },
  {
   "cell_type": "code",
   "execution_count": 102,
   "metadata": {},
   "outputs": [],
   "source": [
    "Z_tot=scipy.special.logsumexp(np.outer(-evals,1/Tk),axis=0)"
   ]
  },
  {
   "cell_type": "code",
   "execution_count": 103,
   "metadata": {},
   "outputs": [],
   "source": [
    "Hexp=np.sum(evals[:,None]*np.exp(np.outer(-evals,1/Tk)-Z_tot),axis=0)"
   ]
  },
  {
   "cell_type": "code",
   "execution_count": 104,
   "metadata": {},
   "outputs": [
    {
     "data": {
      "text/plain": [
       "array([-3.17523766e+12, -3.16717452e+03, -3.11763153e+02, -2.77843104e+01,\n",
       "       -7.25585848e+00, -2.86884390e-01])"
      ]
     },
     "execution_count": 104,
     "metadata": {},
     "output_type": "execute_result"
    }
   ],
   "source": [
    "S_tot=kb*(np.log(Z_tot)+Hexp/Tk)\n",
    "S_tot"
   ]
  },
  {
   "cell_type": "code",
   "execution_count": null,
   "metadata": {},
   "outputs": [],
   "source": []
  },
  {
   "cell_type": "code",
   "execution_count": 106,
   "metadata": {},
   "outputs": [
    {
     "data": {
      "text/plain": [
       "array([         inf,          inf,          inf, 129.83618043,\n",
       "        44.89628865,  15.32703001])"
      ]
     },
     "execution_count": 106,
     "metadata": {},
     "output_type": "execute_result"
    }
   ],
   "source": [
    "Z_bath=2*np.prod([1+np.exp(ek/Tk) for ek in E_k],axis=0)\n",
    "Hbexp=2*np.sum([ek/(1+np.exp(ek/Tk)) for ek in E_k],axis=0)\n",
    "S_bath=kb*(np.log(Z_bath)+Hbexp/Tk)\n",
    "S_bath"
   ]
  },
  {
   "cell_type": "code",
   "execution_count": 107,
   "metadata": {},
   "outputs": [
    {
     "data": {
      "text/plain": [
       "array([         -inf,          -inf,          -inf, -157.62049086,\n",
       "        -52.15214713,  -15.6139144 ])"
      ]
     },
     "execution_count": 107,
     "metadata": {},
     "output_type": "execute_result"
    }
   ],
   "source": [
    "S_imp=(S_tot-S_bath)\n",
    "S_imp"
   ]
  },
  {
   "cell_type": "code",
   "execution_count": 63,
   "metadata": {},
   "outputs": [
    {
     "data": {
      "text/plain": [
       "array([         nan,          nan,          nan, -37.20619872,\n",
       "       -36.91657661, -36.20826061])"
      ]
     },
     "execution_count": 63,
     "metadata": {},
     "output_type": "execute_result"
    }
   ],
   "source": [
    "Z_tot=np.sum(np.exp(np.outer(-evals,1/Tk)),axis=0)\n",
    "Hexp=np.sum(evals[:,None]*np.exp(np.outer(-evals,1/Tk)),axis=0)\n",
    "Hexp/Z_tot        "
   ]
  },
  {
   "cell_type": "code",
   "execution_count": 62,
   "metadata": {},
   "outputs": [
    {
     "data": {
      "text/plain": [
       "array([-27.06654962, -27.06654962, -27.06639691, -27.02032761,\n",
       "       -26.90259706, -26.50449889])"
      ]
     },
     "execution_count": 62,
     "metadata": {},
     "output_type": "execute_result"
    }
   ],
   "source": [
    "Z_bath=2*np.prod([1+np.exp(ek/Tk) for ek in E_k],axis=0)\n",
    "Hbexp=2*np.sum([ek/(1+np.exp(ek/Tk)) for ek in E_k],axis=0)\n",
    "Hbexp"
   ]
  },
  {
   "cell_type": "code",
   "execution_count": 68,
   "metadata": {},
   "outputs": [],
   "source": [
    "\n",
    "S_bath=kb*(np.log(Z_bath)+Hbexp/Tk)\n",
    "S_tot=kb*(np.log(Z_tot)+Hexp/Tk)\n",
    "S_imp+=(S_tot-S_bath)"
   ]
  },
  {
   "cell_type": "code",
   "execution_count": 71,
   "metadata": {},
   "outputs": [
    {
     "data": {
      "text/plain": [
       "array([             nan,              nan,              nan,\n",
       "       -3.42350410e+164, -4.11941215e+056, -8.78149370e+018])"
      ]
     },
     "execution_count": 71,
     "metadata": {},
     "output_type": "execute_result"
    }
   ],
   "source": [
    "S_tot"
   ]
  },
  {
   "cell_type": "code",
   "execution_count": 70,
   "metadata": {},
   "outputs": [
    {
     "data": {
      "text/plain": [
       "array([-2.70665496e+13, -2.70658565e+04, -2.70594542e+03, -2.69099564e+02,\n",
       "       -8.83288839e+01, -2.47808529e+01])"
      ]
     },
     "execution_count": 70,
     "metadata": {},
     "output_type": "execute_result"
    }
   ],
   "source": [
    "S_bath"
   ]
  },
  {
   "cell_type": "code",
   "execution_count": 69,
   "metadata": {},
   "outputs": [
    {
     "data": {
      "text/plain": [
       "array([nan, nan, nan, inf, inf, inf])"
      ]
     },
     "execution_count": 69,
     "metadata": {},
     "output_type": "execute_result"
    }
   ],
   "source": [
    "S_imp"
   ]
  },
  {
   "cell_type": "code",
   "execution_count": 10,
   "metadata": {},
   "outputs": [
    {
     "data": {
      "text/plain": [
       "array([6, 0, 6])"
      ]
     },
     "execution_count": 10,
     "metadata": {},
     "output_type": "execute_result"
    }
   ],
   "source": [
    "x=np.array([1,0,1])\n",
    "\n",
    "y=[1,2,3]\n",
    "\n",
    "np.sum([yi*x for yi in y],axis=0)"
   ]
  },
  {
   "cell_type": "code",
   "execution_count": 2,
   "metadata": {},
   "outputs": [
    {
     "data": {
      "image/png": "[encoded data removed]",
      "text/plain": [
       "<Figure size 1000x800 with 1 Axes>"
      ]
     },
     "metadata": {},
     "output_type": "display_data"
    }
   ],
   "source": [
    "imp,func,args,colorbnd,structname,nd=85,DEDlib.GrapheneNRarmchairstruct,(3,12,-2.8867513459481287),171,'armchair',np.zeros((2,4,2),dtype = 'float')\n",
    "\n",
    "\n",
    "psi,SPG,eig,SPrho0=DEDlib.GrapheneAnalyzer(imp,func(*args),colorbnd,'GrapheneNR'+structname+str(imp)+'pos')        "
   ]
  },
  {
   "cell_type": "code",
   "execution_count": 3,
   "metadata": {},
   "outputs": [
    {
     "data": {
      "application/vnd.jupyter.widget-view+json": {
       "model_id": "13c55110efac47b4b0baaceace7c5474",
       "version_major": 2,
       "version_minor": 0
      },
      "text/plain": [
       "Iterations:   0%|          | 0/2000 [00:00<?, ?it/s]"
      ]
     },
     "metadata": {},
     "output_type": "display_data"
    }
   ],
   "source": [
    "inp={\"N\" : 2000, \"poles\" : 4, \"U\" : 3, \"Sigma\" : 1.5, \"Ed\" : -3/2, \"ctype\" : 'ssn', \"bound\" : 8, \"eigsel\" : False,\"Tk\" : [0.000000000001,0.001,0.01,0.1,0.3,1]}\n",
    "labelnames=['$\\it{k_bT= %.3f}$'%0.000,'$\\it{k_bT= %.3f}$'%0.001,'$\\it{k_bT= %.3f}$'%0.010,'$\\it{k_bT= %.3f}$'%0.100,'$\\it{k_bT= %.3f}$'%0.300,'$\\it{k_bT= %.3f}$'%1.000]\n",
    "filenames=['cN4pT1e-12','cN4pT1e-3','cN4pT1e-2','cN4pT1e-1','cN4pT3e-1','cN4pT1']\n",
    "nd, AvgSigmadat, DOST, nonintrho, omega, selectpT, selectpcT=DEDlib.Graphene_main(psi,SPG,eig,SPrho0,**inp,posb=4)\n",
    "for i,file in enumerate(filenames):\n",
    "    DEDlib.DOSplot(DOST[i], nonintrho, omega,file,labelnames[i],log=True)"
   ]
  }
 ],
 "metadata": {
  "kernelspec": {
   "display_name": "Python 3",
   "language": "python",
   "name": "python3"
  },
  "language_info": {
   "codemirror_mode": {
    "name": "ipython",
    "version": 3
   },
   "file_extension": ".py",
   "mimetype": "text/x-python",
   "name": "python",
   "nbconvert_exporter": "python",
   "pygments_lexer": "ipython3",
   "version": "3.10.10"
  },
  "orig_nbformat": 4
 },
 "nbformat": 4,
 "nbformat_minor": 2
}
