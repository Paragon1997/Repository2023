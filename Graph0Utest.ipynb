{
 "cells": [
  {
   "cell_type": "code",
   "execution_count": 1,
   "metadata": {},
   "outputs": [],
   "source": [
    "#figure out why u=0 does not give rho0 for r=2.3\n",
    "import warnings\n",
    "warnings.filterwarnings(\"ignore\", category=RuntimeWarning)\n",
    "from tqdm.auto import trange\n",
    "from time import time\n",
    "from qutip import *\n",
    "import numpy as np\n",
    "import matplotlib.pyplot as plt\n",
    "import kwant\n",
    "from numpy import sqrt\n",
    "import scipy\n",
    "from itertools import repeat\n",
    "from numba import njit\n",
    "\n",
    "import DEDlib"
   ]
  },
  {
   "cell_type": "code",
   "execution_count": 1,
   "metadata": {},
   "outputs": [
    {
     "ename": "NameError",
     "evalue": "name 'np' is not defined",
     "output_type": "error",
     "traceback": [
      "\u001b[1;31m---------------------------------------------------------------------------\u001b[0m",
      "\u001b[1;31mNameError\u001b[0m                                 Traceback (most recent call last)",
      "Cell \u001b[1;32mIn[1], line 1\u001b[0m\n\u001b[1;32m----> 1\u001b[0m np\u001b[39m.\u001b[39mlinspace(\u001b[39m-\u001b[39m\u001b[39m3\u001b[39m,\u001b[39m3\u001b[39m,\u001b[39m1001\u001b[39m)[\u001b[39m501\u001b[39m]\n",
      "\u001b[1;31mNameError\u001b[0m: name 'np' is not defined"
     ]
    }
   ],
   "source": [
    "np.linspace(-3,3,1001)[501]\n"
   ]
  },
  {
   "cell_type": "code",
   "execution_count": 38,
   "metadata": {},
   "outputs": [
    {
     "data": {
      "text/plain": [
       "'$\\\\rho$'"
      ]
     },
     "execution_count": 38,
     "metadata": {},
     "output_type": "execute_result"
    }
   ],
   "source": [
    "\"$\\\\rho$\""
   ]
  },
  {
   "cell_type": "code",
   "execution_count": 57,
   "metadata": {},
   "outputs": [
    {
     "data": {
      "text/plain": [
       "17.588773148148146"
      ]
     },
     "execution_count": 57,
     "metadata": {},
     "output_type": "execute_result"
    }
   ],
   "source": [
    "sum(np.logspace(2.0, 5, num=50, base=10,dtype='int'))*20/10/60/60/24"
   ]
  },
  {
   "cell_type": "code",
   "execution_count": 36,
   "metadata": {},
   "outputs": [],
   "source": [
    "DOST=np.zeros((16,1001),dtype = 'float')"
   ]
  },
  {
   "cell_type": "code",
   "execution_count": 17,
   "metadata": {},
   "outputs": [
    {
     "data": {
      "text/plain": [
       "(50,)"
      ]
     },
     "execution_count": 17,
     "metadata": {},
     "output_type": "execute_result"
    }
   ],
   "source": [
    "s.shape"
   ]
  },
  {
   "cell_type": "code",
   "execution_count": 18,
   "metadata": {},
   "outputs": [
    {
     "data": {
      "text/plain": [
       "(50, 1001)"
      ]
     },
     "execution_count": 18,
     "metadata": {},
     "output_type": "execute_result"
    }
   ],
   "source": [
    "b.shape"
   ]
  },
  {
   "cell_type": "code",
   "execution_count": 24,
   "metadata": {},
   "outputs": [
    {
     "data": {
      "text/plain": [
       "50"
      ]
     },
     "execution_count": 24,
     "metadata": {},
     "output_type": "execute_result"
    }
   ],
   "source": [
    "len(np.mean(np.zeros((50,1001)),axis=1))"
   ]
  },
  {
   "cell_type": "code",
   "execution_count": 5,
   "metadata": {},
   "outputs": [
    {
     "data": {
      "image/png": "[encoded data removed]",
      "text/plain": [
       "<Figure size 1000x800 with 1 Axes>"
      ]
     },
     "metadata": {},
     "output_type": "display_data"
    },
    {
     "data": {
      "text/plain": [
       "<module 'matplotlib.pyplot' from 'c:\\\\Users\\\\roelv\\\\OneDrive\\\\Documenten\\\\VSC\\\\.conda\\\\lib\\\\site-packages\\\\matplotlib\\\\pyplot.py'>"
      ]
     },
     "execution_count": 5,
     "metadata": {},
     "output_type": "execute_result"
    }
   ],
   "source": [
    "import DEDlib\n",
    "DEDlib.stdplot(np.logspace(2.0, 5, num=50, base=10,dtype='int'),np.ones((50,1001)),'g','$\\\\sigma$')"
   ]
  },
  {
   "cell_type": "code",
   "execution_count": 33,
   "metadata": {},
   "outputs": [
    {
     "data": {
      "text/plain": [
       "array([[   100.,      0.,      0., ...,      0.,      0.,      0.],\n",
       "       [   115.,      0.,      0., ...,      0.,      0.,      0.],\n",
       "       [   132.,      0.,      0., ...,      0.,      0.,      0.],\n",
       "       ...,\n",
       "       [ 75431.,      0.,      0., ...,      0.,      0.,      0.],\n",
       "       [ 86851.,      0.,      0., ...,      0.,      0.,      0.],\n",
       "       [100000.,      0.,      0., ...,      0.,      0.,      0.]])"
      ]
     },
     "execution_count": 33,
     "metadata": {},
     "output_type": "execute_result"
    }
   ],
   "source": [
    "np.insert(b,0,s, axis=1)"
   ]
  },
  {
   "cell_type": "code",
   "execution_count": 34,
   "metadata": {},
   "outputs": [],
   "source": [
    "\n",
    "np.savetxt('test.txt',np.insert(b,0,s, axis=1),delimiter='\\t', newline='\\n')"
   ]
  },
  {
   "cell_type": "code",
   "execution_count": 26,
   "metadata": {},
   "outputs": [
    {
     "ename": "ValueError",
     "evalue": "all the input arrays must have same number of dimensions, but the array at index 0 has 2 dimension(s) and the array at index 1 has 1 dimension(s)",
     "output_type": "error",
     "traceback": [
      "\u001b[1;31m---------------------------------------------------------------------------\u001b[0m",
      "\u001b[1;31mValueError\u001b[0m                                Traceback (most recent call last)",
      "Cell \u001b[1;32mIn[26], line 2\u001b[0m\n\u001b[0;32m      1\u001b[0m s,b\u001b[39m=\u001b[39mnp\u001b[39m.\u001b[39mlogspace(\u001b[39m2\u001b[39m, \u001b[39m5\u001b[39m, num\u001b[39m=\u001b[39m\u001b[39m50\u001b[39m, base\u001b[39m=\u001b[39m\u001b[39m10\u001b[39m,dtype\u001b[39m=\u001b[39m\u001b[39m'\u001b[39m\u001b[39mint\u001b[39m\u001b[39m'\u001b[39m),np\u001b[39m.\u001b[39mzeros((\u001b[39m50\u001b[39m,\u001b[39m1001\u001b[39m))\n\u001b[1;32m----> 2\u001b[0m tot\u001b[39m=\u001b[39mnp\u001b[39m.\u001b[39;49mappend(b,s, axis\u001b[39m=\u001b[39;49m\u001b[39m0\u001b[39;49m)\n\u001b[0;32m      3\u001b[0m tot\n",
      "File \u001b[1;32m<__array_function__ internals>:180\u001b[0m, in \u001b[0;36mappend\u001b[1;34m(*args, **kwargs)\u001b[0m\n",
      "File \u001b[1;32mc:\\Users\\roelv\\OneDrive\\Documenten\\VSC\\.conda\\lib\\site-packages\\numpy\\lib\\function_base.py:5444\u001b[0m, in \u001b[0;36mappend\u001b[1;34m(arr, values, axis)\u001b[0m\n\u001b[0;32m   5442\u001b[0m     values \u001b[39m=\u001b[39m ravel(values)\n\u001b[0;32m   5443\u001b[0m     axis \u001b[39m=\u001b[39m arr\u001b[39m.\u001b[39mndim\u001b[39m-\u001b[39m\u001b[39m1\u001b[39m\n\u001b[1;32m-> 5444\u001b[0m \u001b[39mreturn\u001b[39;00m concatenate((arr, values), axis\u001b[39m=\u001b[39;49maxis)\n",
      "File \u001b[1;32m<__array_function__ internals>:180\u001b[0m, in \u001b[0;36mconcatenate\u001b[1;34m(*args, **kwargs)\u001b[0m\n",
      "\u001b[1;31mValueError\u001b[0m: all the input arrays must have same number of dimensions, but the array at index 0 has 2 dimension(s) and the array at index 1 has 1 dimension(s)"
     ]
    }
   ],
   "source": [
    "s,b=np.logspace(2, 5, num=50, base=10,dtype='int'),np.zeros((50,1001))\n",
    "tot=np.append(b,s, axis=0)\n",
    "tot"
   ]
  },
  {
   "cell_type": "code",
   "execution_count": null,
   "metadata": {},
   "outputs": [],
   "source": [
    "np.savetxt('test.txt',s,delimiter='\\t', newline='\\n')"
   ]
  },
  {
   "cell_type": "code",
   "execution_count": 48,
   "metadata": {},
   "outputs": [
    {
     "name": "stdout",
     "output_type": "stream",
     "text": [
      "1\n",
      "1\n",
      "1\n",
      "1\n",
      "1\n",
      "[0. 0. 0. 0. 0.]\n"
     ]
    }
   ],
   "source": [
    "d=np.zeros(5)\n",
    "\n",
    "for x,d2 in enumerate(d):\n",
    "    d2=1\n",
    "    print(d2)\n",
    "print(d)"
   ]
  },
  {
   "cell_type": "code",
   "execution_count": 37,
   "metadata": {},
   "outputs": [],
   "source": [
    "std=np.sqrt(np.sum([(dat-np.mean(DOST,axis=0))**2 for dat in DOST],axis=0)/(len(DOST)-1))\n",
    "stdavg=std/np.sqrt(len(DOST))"
   ]
  },
  {
   "cell_type": "code",
   "execution_count": 17,
   "metadata": {},
   "outputs": [
    {
     "name": "stdout",
     "output_type": "stream",
     "text": [
      "[0.94280904 1.41421356 1.88561808 0.94280904 0.47140452 1.88561808\n",
      " 1.41421356 0.94280904 1.24721913 0.         0.         0.47140452\n",
      " 1.63299316 0.94280904 0.47140452 0.81649658 1.41421356] [0.88888889 2.         3.55555556 0.88888889 0.22222222 3.55555556\n",
      " 2.         0.88888889 1.55555556 0.         0.         0.22222222\n",
      " 2.66666667 0.88888889 0.22222222 0.66666667 2.        ] [2.33333333 3.         3.66666667 2.33333333 1.66666667 3.66666667\n",
      " 3.         2.33333333 2.66666667 4.         4.         2.33333333\n",
      " 3.         1.66666667 1.66666667 3.         3.        ]\n"
     ]
    }
   ],
   "source": [
    "data=np.array([[1,4,5,3,2,5,4,3,4,4,4,2,1,1,2,3,4],[3,4,5,3,2,5,4,3,3,4,4,2,5,1,2,4,4],[3,1,1,1,1,1,1,1,1,4,4,3,3,3,1,2,1]])\n",
    "print(np.std(data,axis=0),np.var(data,axis=0),np.mean(data,axis=0))"
   ]
  },
  {
   "cell_type": "code",
   "execution_count": 22,
   "metadata": {},
   "outputs": [
    {
     "data": {
      "text/plain": [
       "array([0.66666667, 1.        , 1.33333333, 0.66666667, 0.33333333,\n",
       "       1.33333333, 1.        , 0.66666667, 0.8819171 , 0.        ,\n",
       "       0.        , 0.33333333, 1.15470054, 0.66666667, 0.33333333,\n",
       "       0.57735027, 1.        ])"
      ]
     },
     "execution_count": 22,
     "metadata": {},
     "output_type": "execute_result"
    }
   ],
   "source": [
    "np.sqrt(np.sum([(dat-np.mean(data,axis=0))**2 for dat in data],axis=0)/(len(data)-1))/np.sqrt(len(data))"
   ]
  },
  {
   "cell_type": "code",
   "execution_count": 26,
   "metadata": {},
   "outputs": [
    {
     "data": {
      "text/plain": [
       "array([[[0., 0.],\n",
       "        [0., 0.],\n",
       "        [0., 0.],\n",
       "        [0., 0.]],\n",
       "\n",
       "       [[0., 0.],\n",
       "        [0., 0.],\n",
       "        [0., 0.],\n",
       "        [0., 0.]],\n",
       "\n",
       "       [[0., 0.],\n",
       "        [0., 0.],\n",
       "        [0., 0.],\n",
       "        [0., 0.]],\n",
       "\n",
       "       [[0., 0.],\n",
       "        [0., 0.],\n",
       "        [0., 0.],\n",
       "        [0., 0.]],\n",
       "\n",
       "       [[0., 0.],\n",
       "        [0., 0.],\n",
       "        [0., 0.],\n",
       "        [0., 0.]]])"
      ]
     },
     "execution_count": 26,
     "metadata": {},
     "output_type": "execute_result"
    }
   ],
   "source": [
    "np.zeros((5,4,2),dtype = 'float')"
   ]
  },
  {
   "cell_type": "code",
   "execution_count": 24,
   "metadata": {},
   "outputs": [],
   "source": [
    "x=(1,2)\n",
    "\n",
    "y=np.zeros((2,2))\n",
    "\n",
    "y[0]=x"
   ]
  },
  {
   "cell_type": "code",
   "execution_count": 25,
   "metadata": {},
   "outputs": [
    {
     "data": {
      "text/plain": [
       "array([[1., 2.],\n",
       "       [0., 0.]])"
      ]
     },
     "execution_count": 25,
     "metadata": {},
     "output_type": "execute_result"
    }
   ],
   "source": [
    "y"
   ]
  },
  {
   "cell_type": "code",
   "execution_count": null,
   "metadata": {},
   "outputs": [],
   "source": [
    "N=10000\n",
    "poles=4\n",
    "U=3\n",
    "Sigma=3/2\n",
    "Ed=-3/2\n",
    "Gamma=0.3\n",
    "SizeO=1001\n",
    "etaco=[0.02,1e-39]\n",
    "ctype='n'\n",
    "bound=3\n",
    "Tk=[0]\n",
    "posb=1\n",
    "\n",
    "omega,eta,selectpcT,selectpT= np.linspace(-bound,bound,SizeO),etaco[0]*abs(np.linspace(-bound,bound,SizeO))+etaco[1],[],[]\n",
    "\n",
    "kb=1\n",
    "NewM,nonG,select=Startrans(poles,np.sort(Lorentzian(omega, Gamma, poles,Ed,Sigma)[1]),omega,eta)\n",
    "E_k=[NewM[k+1][k+1] for k in range(len(NewM)-1)]\n",
    "H0,H=HamiltonianAIM(c,NewM[0][0],E_k,NewM[0,1:],U,Sigma)\n",
    "evals,evecs=scipy.linalg.eigh(H.data.toarray())\n",
    "Z_tot=np.sum(np.exp(-evals/Tk))\n",
    "Hexp=np.sum(evals*np.exp(-evals/Tk))/Z_tot\n",
    "Z_bath=2*np.prod([1+np.exp(ek/Tk) for ek in E_k])\n",
    "Hbexp=2*np.sum([ek/(1+np.exp(ek/Tk)) for ek in E_k])\n",
    "S_bath=kb(np.log(np.sum(Z_bath))+Hbexp/Tk)\n",
    "S_tot=kb(np.log(np.sum(Z_tot))+Hexp/Tk)\n",
    "S_imp=S_tot-S_bath"
   ]
  },
  {
   "cell_type": "code",
   "execution_count": null,
   "metadata": {},
   "outputs": [],
   "source": [
    "def Entropyimp(N=10000,poles=4,U=3,Sigma=3/2,Ed=-3/2,Gamma=0.3,SizeO=1001,etaco=[0.02,1e-39],bound=3,Tk=[0],posb=1):\n",
    "    omega,eta,selectpcT,selectpT,S_imp,kb= np.linspace(-bound,bound,SizeO),etaco[0]*abs(np.linspace(-bound,bound,SizeO))+etaco[1],[],[],0,1\n",
    "    for \n",
    "    NewM=Startrans(poles,np.sort(Lorentzian(omega, Gamma, poles,Ed,Sigma)[1]),omega,eta)[0]\n",
    "    E_k=[NewM[k+1][k+1] for k in range(len(NewM)-1)]\n",
    "    H0,H=HamiltonianAIM(c,NewM[0][0],E_k,NewM[0,1:],U,Sigma)\n",
    "    evals,evecs=scipy.linalg.eigh(H.data.toarray())\n",
    "    Z_tot=np.sum(np.exp(-evals/Tk))\n",
    "    Hexp=np.sum(evals*np.exp(-evals/Tk))/Z_tot\n",
    "    Z_bath=2*np.prod([1+np.exp(ek/Tk) for ek in E_k])\n",
    "    Hbexp=2*np.sum([ek/(1+np.exp(ek/Tk)) for ek in E_k])\n",
    "    S_bath=kb(np.log(np.sum(Z_bath))+Hbexp/Tk)\n",
    "    S_tot=kb(np.log(np.sum(Z_tot))+Hexp/Tk)\n",
    "    S_imp+=(S_tot-S_bath)/N"
   ]
  }
 ],
 "metadata": {
  "kernelspec": {
   "display_name": "Python 3",
   "language": "python",
   "name": "python3"
  },
  "language_info": {
   "codemirror_mode": {
    "name": "ipython",
    "version": 3
   },
   "file_extension": ".py",
   "mimetype": "text/x-python",
   "name": "python",
   "nbconvert_exporter": "python",
   "pygments_lexer": "ipython3",
   "version": "3.10.10"
  },
  "orig_nbformat": 4
 },
 "nbformat": 4,
 "nbformat_minor": 2
}
