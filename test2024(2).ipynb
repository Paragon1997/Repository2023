{
 "cells": [
  {
   "cell_type": "code",
   "execution_count": 2,
   "metadata": {},
   "outputs": [],
   "source": [
    "''' DEDlib is a Distributional Exact Diagonalization tooling library for study of Anderson (multi-)impurity model in Graphene Nanoribbons'''\n",
    "\n",
    "import warnings\n",
    "warnings.filterwarnings(\"ignore\", category=RuntimeWarning)\n",
    "from tqdm.auto import trange\n",
    "from qutip import *\n",
    "import numpy as np\n",
    "import matplotlib.pyplot as plt\n",
    "import kwant\n",
    "import scipy\n",
    "from numba import njit\n",
    "\n",
    "class DEDlib:\n",
    "    def __init__(self,**kwargs):\n",
    "        self.Nit,self.poles,self.Uimp,self.Sigma,self.Ed,self.Gamma,self.SizeO,self.etaco,self.ctype,self.Edcalc,self.bound,self.Tk,self.Nimpurities,self.U2imp,self.Jimp,self.posb=200000,4,3,3/2,-3/2,0.3,1001,[0.02,1e-39],'n','',3,[0],1,0,0,1\n",
    "        #for arg in args: setattr(self, [name for name, value in globals().items() if value is arg][0], arg)\n",
    "        #print(kwargs[0])\n",
    "        for kwarg,val in kwargs.items(): setattr(self,kwarg,val)\n",
    "        self.omega,self.eta,self.selectpcT,self.selectpT,self.Npoles=np.linspace(-self.bound,self.bound,self.SizeO),self.etaco[0]*abs(np.linspace(-self.bound,self.bound,self.SizeO))+self.etaco[1],[],[],int(self.poles/self.Nimpurities)\n",
    "        self.c,self.pbar=[self.Jordan_wigner_transform(i,2*self.poles) for i in range(2*self.poles)],trange(self.Nit,position=self.posb,leave=False,desc='Iterations',bar_format='{l_bar}{bar:10}{r_bar}{bar:-10b}')\n",
    "        (self.Hn,self.n)=self.Operators(self.c,self.Nimpurities,self.poles)\n",
    "        self.ndfin,self.NewSigma,self.fDOS,self.Lor,self.tsim=self.main()\n",
    "\n",
    "    def Jordan_wigner_transform(self,j,lattice_length):\n",
    "        \"\"\"Jordan_wigner_transform(j, lattice_length). \n",
    "    Defines the Jordan Wigner transformation for a 1D lattice.\"\"\"\n",
    "        operators=sigmaz()\n",
    "        for _ in range(j-1): operators=tensor(operators,sigmaz())\n",
    "        if j == 0: operators=sigmam()\n",
    "        else: operators=tensor(operators,sigmam())\n",
    "        for _ in range(lattice_length - j - 1): operators=tensor(operators,identity(2))\n",
    "        return operators\n",
    "    \n",
    "    def Operators(self,c,Nimpurities,poles):\n",
    "        posimp=[int(2*poles/Nimpurities*i) for i in range(Nimpurities)]\n",
    "        impn=[sum([c[posimp[k]+i].dag()*c[posimp[k]+i] for i in range(2)]) for k in range(Nimpurities)]\n",
    "        bathn=[[sum([c[2*j+i+2+posimp[k]].dag()*c[2*j+i+2+posimp[k]] for i in range(2)]) for j in range(int(poles/Nimpurities)-1)] for k in range(Nimpurities)]\n",
    "        crossn=[[sum([c[posimp[k]+i].dag()*c[2*j+i+2+posimp[k]]+c[2*j+i+2+posimp[k]].dag()*c[posimp[k]+i] for i in range(2)]) for j in range(int(poles/Nimpurities)-1)] for k in range(Nimpurities)]\n",
    "        Un=sum([c[posimp[k]].dag()*c[posimp[k]]*c[posimp[k]+1].dag()*c[posimp[k]+1] for k in range(Nimpurities)])\n",
    "        Sigman=sum([c[posimp[k]].dag()*c[posimp[k]]+c[posimp[k]+1].dag()*c[posimp[k]+1] for k in range(Nimpurities)])\n",
    "        U2n=sum([c[posimp[k]+i].dag()*c[posimp[k]+i]*c[posimp[l]+j].dag()*c[posimp[l]+j] for i in range(2) for j in range(2) for l in range(Nimpurities) for k in range(Nimpurities) if k !=l])\n",
    "        Jn=sum([1/2*(c[posimp[k]].dag()*c[posimp[k]+1]*c[posimp[l]+1].dag()*c[posimp[l]]+c[posimp[k]+1].dag()*c[posimp[k]]*c[posimp[l]].dag()*c[posimp[l]+1])\n",
    "                        +1/4*(c[posimp[k]].dag()*c[posimp[k]]-c[posimp[k]+1].dag()*c[posimp[k]+1])*(c[posimp[l]].dag()*c[posimp[l]]-c[posimp[l]+1].dag()*c[posimp[l]+1]) for l in range(Nimpurities) for k in range(Nimpurities) if k!=l])\n",
    "        n=[sum([c[j+posimp[i]].dag()*c[j+posimp[i]] for j in range(2*int(poles/Nimpurities))]) for i in range(Nimpurities)]\n",
    "        return (impn,bathn,crossn,Un,Sigman,U2n,Jn),n\n",
    "\n",
    "    def main(self):\n",
    "        AvgSigmadat,Nfin,nd=np.zeros((len(self.Tk),self.SizeO),dtype='complex_'),np.zeros(len(self.Tk),dtype='float'),np.zeros(len(self.Tk),dtype='complex_')\n",
    "        while self.pbar.n<self.Nit:\n",
    "            reset=False\n",
    "            while not reset:\n",
    "                NewM,nonG,select=self.Startrans(self.Npoles,np.sort(self.Lorentzian(self.omega,self.Gamma,self.Npoles,self.Ed,self.Sigma)[1]),self.omega,self.eta)\n",
    "                H0,H=self.HamiltonianAIM(np.repeat(NewM[0][0],self.Nimpurities),np.tile([NewM[k+1][k+1] for k in range(len(NewM)-1)],(self.Nimpurities,1)),np.tile(NewM[0,1:],(self.Nimpurities,1)),self.Uimp,self.Sigma,self.U2imp,self.Jimp,self.Hn)\n",
    "                try: (MBGdat,Boltzmann,Ev0),reset=self.Constraint(self.ctype,H0,H,self.omega,self.eta,self.c,self.n,self.Tk,np.array([ar<self.Nit for ar in Nfin]))\n",
    "                except (np.linalg.LinAlgError,ValueError,scipy.sparse.linalg.ArpackNoConvergence): (MBGdat,Boltzmann,Ev0),reset=(np.zeros(len(self.omega),dtype='complex_'),np.zeros(len(self.Tk)),np.array([])),False\n",
    "                if np.isnan(1/nonG-1/MBGdat+self.Sigma).any() or np.array([i>=1000 for i in np.real(1/nonG-1/MBGdat+self.Sigma)]).any(): reset=False\n",
    "                self.selectpT.append(select)\n",
    "            Nfin,AvgSigmadat,nd=Nfin+Boltzmann,AvgSigmadat+(1/nonG-1/MBGdat+self.Sigma)*Boltzmann[:,None],nd+np.conj(Ev0).T@sum(self.Hn[0]).data.tocoo()@Ev0*Boltzmann\n",
    "            self.selectpcT.append(select)\n",
    "            if self.ctype=='sn': self.pbar.n+=1\n",
    "            else: self.pbar.n=int(min(Nfin))\n",
    "            self.pbar.refresh()\n",
    "        self.pbar.close()\n",
    "        if self.Edcalc == 'AS': return (Nfin.squeeze(),np.real(nd/Nfin).squeeze()),(AvgSigmadat/Nfin[:,None]).squeeze(),(-np.imag(np.nan_to_num(1/(self.omega-AvgSigmadat/Nfin[:,None]+(AvgSigmadat[:,int(np.round(self.SizeO/2))]/Nfin)[:,None]+1j*self.Gamma)))/np.pi).squeeze(),self.Lorentzian(self.omega,self.Gamma,self.poles)[0],self.pbar.format_dict[\"elapsed\"]\n",
    "        else: return (Nfin.squeeze(),np.real(nd/Nfin).squeeze()),(AvgSigmadat/Nfin[:,None]).squeeze(),(-np.imag(np.nan_to_num(1/(self.omega-AvgSigmadat/Nfin[:,None]-self.Ed+1j*self.Gamma)))/np.pi).squeeze(),self.Lorentzian(self.omega,self.Gamma,self.poles,self.Ed,self.Sigma)[0],self.pbar.format_dict[\"elapsed\"]\n",
    "\n",
    "    #@njit\n",
    "    def Lorentzian(self,omega,Gamma,poles,Ed=-3/2,Sigma=3/2):\n",
    "        \"\"\"Lorentzian(omega, Gamma, poles,Ed=-3/2,Sigma=3/2). \n",
    "    Defines the non-interacting DOS (rho0) and selects random sites based on the number of sites in the 1D lattice model and the calculated distribution.\"\"\"\n",
    "        return -np.imag(1/(omega-Ed-Sigma+1j*Gamma))/np.pi,np.array([Gamma*np.tan(np.pi*(pi-1/2))+Ed+Sigma for pi in np.random.uniform(0,1,poles)])\n",
    "\n",
    "    #@njit\n",
    "    def Startrans(self,poles,select,omega,eta,row=0):\n",
    "        \"\"\"Startrans(poles,select,row,omega, eta). \n",
    "    Function to transform 1D lattice matrices in order to calculates parameters impengergy, bathenergy and Vkk from random sampling distribution.\"\"\"\n",
    "        Pbath,Dbath,pbar,G=np.zeros((poles,poles)),np.zeros((poles,poles)),np.zeros((poles,poles)),np.zeros(omega.shape,dtype='complex_')\n",
    "        for i in range(poles-1):\n",
    "            for j in range(poles-1):\n",
    "                if j>=i: Pbath[i+1][j+1]=-1/np.sqrt((poles-i-1)*(poles-i))\n",
    "            Pbath[i+1][i]=np.sqrt(poles-i-1)/np.sqrt(poles-i)\n",
    "        Pbath[row,:]=1/np.sqrt(poles)\n",
    "        for i, _ in enumerate(select): Dbath[i][i]=select[i]\n",
    "        pbar[1:,1:]=np.linalg.eig((Pbath@Dbath@Pbath.T)[1:,1:])[1]\n",
    "        pbar[row][row]=1\n",
    "        for i, _ in enumerate(select): G+=1/len(select)/(omega-select[i]+1.j*eta)\n",
    "        return pbar.T@Pbath@Dbath@Pbath.T@pbar,G,select\n",
    "    \n",
    "    def HamiltonianAIM(self,impenergy,bathenergy,Vkk,U,Sigma,U2,J,Hn,H0=0):\n",
    "        \"\"\"HamiltonianAIM(c, impenergy, bathenergy, Vkk, U, Sigma). \n",
    "    Based on energy parameters calculates the Hamiltonian of a single-impurity system.\"\"\"\n",
    "        for k in range(len(impenergy)):\n",
    "            H0+=impenergy[k]*Hn[0][k]\n",
    "            for j in range(len(bathenergy[k])): H0+=bathenergy[k][j]*Hn[1][k][j]+Vkk[k][j]*Hn[2][k][j]\n",
    "        return H0,H0+U*Hn[3]-Sigma*Hn[4]+(U2/2-J/4)*Hn[5]-J*Hn[6]\n",
    "    \n",
    "    def Constraint(self,ctype,H0,H,omega,eta,c,n,Tk,Nfin):\n",
    "        \"\"\"Constraint(ctype,H0,H,omega,eta,c,n). \n",
    "    Constraint implementation function for DED method with various possible constraints.\"\"\"\n",
    "        if ctype[0]=='m':\n",
    "            vecs=scipy.sparse.csr_matrix(np.vstack((scipy.sparse.linalg.eigsh(np.real(H0.data),k=1,which='SA')[1][:,0],\n",
    "                                            scipy.sparse.linalg.eigsh(np.real(H.data),k=1,which='SA')[1][:,0])))\n",
    "            exp=np.conj(vecs)@n[0].data@vecs.T\n",
    "            if ctype=='mosn' and np.round(exp[0,0])==np.round(exp[1,1]):\n",
    "                return self.MBGAIM(omega,H,c,eta,Tk,np.ones(len(Tk))),True\n",
    "            else:\n",
    "                return (np.zeros(len(omega),dtype='complex_'),np.zeros(len(Tk)),np.array([])),False\n",
    "        elif ctype[0]=='s':\n",
    "            vecs=scipy.linalg.eigh(H0.data.toarray(),eigvals=[0,0])[1][:,0]\n",
    "            evals,evecs=scipy.linalg.eigh(H.data.toarray())\n",
    "            if ctype=='ssn':\n",
    "                Boltzmann=np.exp(-abs(evals[self.find_nearest(np.diag(np.conj(evecs).T@n[0].data@evecs),np.conj(vecs)@n[0].data@vecs.T)]-evals[0])/Tk)*Nfin.astype('int')\n",
    "                return self.MBGAIM(omega,H,c,eta,Tk,Boltzmann,evals,evecs,4e-4,np.array([-2,-1,0,1,2])),True\n",
    "            else:\n",
    "                return self.MBGAIM(omega,H,c,eta,Tk,np.exp(-abs(evals[self.find_nearest(np.diag(np.conj(evecs).T@n[0].data@evecs),np.conj(vecs)@n[0].data@vecs.T)]-evals[0])/Tk),evals,evecs,4e-4,np.array([-2,-1,0,1,2])),True\n",
    "        elif ctype[0]=='n':\n",
    "            vecs=scipy.sparse.csr_matrix(np.vstack((scipy.sparse.linalg.eigsh(np.real(H0.data),k=1,which='SA')[1][:,0],\n",
    "                                                    scipy.sparse.linalg.eigsh(np.real(H.data),k=1,which='SA')[1][:,0])))\n",
    "            exp=[np.conj(vecs)@ni.data@vecs.T for ni in n]\n",
    "            if ctype=='n%2' and all([int(np.round(expi[0,0]))%2==int(np.round(expi[1,1]))%2 for expi in exp]):\n",
    "                return self.MBGAIM(omega,H,c,eta,Tk,np.ones(len(Tk))),True\n",
    "            elif ctype=='n' and all([np.round(expi[0,0])==np.round(expi[1,1]) for expi in exp]):\n",
    "                return self.MBGAIM(omega,H,c,eta,Tk,np.ones(len(Tk))),True\n",
    "            else:\n",
    "                return (np.zeros(len(omega),dtype='complex_'),np.zeros(len(Tk)),np.array([])),False\n",
    "        elif ctype[0]=='d':\n",
    "            vecs=scipy.sparse.csr_matrix(np.vstack((scipy.linalg.eigh(H.data.toarray(),eigvals=[0,0])[1][:,0],\n",
    "                                                    scipy.linalg.eigh(H0.data.toarray(),eigvals=[0,0])[1][:,0])))\n",
    "            exp=[np.conj(vecs)@ni.data@vecs.T for ni in n]\n",
    "            if ctype=='dn' and all([np.round(expi[0,0])==np.round(expi[1,1]) for expi in exp]):\n",
    "                return self.MBGAIM(omega,H,c,eta,Tk,np.ones(len(Tk))),True\n",
    "            else:\n",
    "                return (np.zeros(len(omega),dtype='complex_'),np.zeros(len(Tk)),np.array([])),False\n",
    "        else:\n",
    "            return self.MBGAIM(omega,H,c,eta,Tk,np.ones(len(Tk))),True\n",
    "        \n",
    "    def MBGAIM(self,omega,H,c,eta,Tk,Boltzmann,evals=[],evecs=[],etaoffset=1e-4,posoffset=np.zeros(1,dtype='int')):\n",
    "        \"\"\"MBGAIM(omega, H, c, eta). \n",
    "    Calculates the many body Green's function based on the Hamiltonian eigenenergies/-states.\"\"\"\n",
    "        if ~np.any(evals): evals,evecs=scipy.linalg.eigh(H.data.toarray())\n",
    "        if Tk==[0]:\n",
    "            vecn=np.conj(evecs[:,1:]).T\n",
    "            exp,exp2=vecn@c[0].data.tocoo()@evecs[:,0],vecn@c[0].dag().data.tocoo()@evecs[:,0]\n",
    "            return self.MBGT0(omega,eta,evals,exp,exp2),Boltzmann,evecs[:,0]\n",
    "        else:\n",
    "            MGdat,eta[int(np.round(len(eta)/2))+posoffset]=np.ones((len(Tk),len(omega)),dtype='complex_'),etaoffset\n",
    "            for k,T in enumerate(Tk):\n",
    "                if Boltzmann[k]!=0:\n",
    "                    eevals,vecn=np.exp(-evals/T-scipy.special.logsumexp(-evals/T)),np.conj(evecs).T\n",
    "                    exp,exp2=vecn@c[0].data.tocoo()@evecs,vecn@c[0].dag().data.tocoo()@evecs\n",
    "                    MGdat[k,:]=self.MBGTnonzero(omega,eta,evals,exp,exp2,eevals)\n",
    "            return MGdat.squeeze(),Boltzmann,evecs[:,0]\n",
    "        \n",
    "    #@njit\n",
    "    def MBGT0(self,omega,eta,evals,exp,exp2):\n",
    "        G=np.zeros(len(omega),dtype='complex_')\n",
    "        for i,expi in enumerate(exp): G+=abs(expi)**2/(omega+evals[i+1]-evals[0]+1.j*eta)+abs(exp2[i])**2/(omega+evals[0]-evals[i+1]+1.j*eta)\n",
    "        return G\n",
    "\n",
    "    #@njit\n",
    "    def MBGTnonzero(self,omega,eta,evals,exp,exp2,eevals):\n",
    "        G=np.zeros(len(omega),dtype='complex_')\n",
    "        for i,evi in enumerate(evals):\n",
    "            for j,evj in enumerate(evals):\n",
    "                G+=(exp[i][j]*exp2[j][i]/(omega+evi-evj+1.j*eta)+exp[j][i]*exp2[i][j]/(omega+evj-evi+1.j*eta))*eevals[i]\n",
    "        return G\n",
    "    \n",
    "    def find_nearest(self,array,value):\n",
    "        for i in (i for i,arrval in enumerate(array) if np.isclose(arrval,value,atol=0.1)): return i\n",
    "\n",
    "    def DOSplot(self,name,labels,log=False,ymax=1.2):\n",
    "        \"\"\"DOSplot(fDOS,Lor,omega,name,labels). \n",
    "    A plot function to present results from the AIM moddeling for a single results with a comparison to the non-interacting DOS.\"\"\"\n",
    "        plt.figure(figsize=(10,8))\n",
    "        plt.rc('legend',fontsize=17)\n",
    "        plt.rc('font',size=25)\n",
    "        plt.rc('xtick',labelsize=25)\n",
    "        plt.rc('ytick',labelsize=25)\n",
    "        axis_font={'fontname':'Calibri','size':'25'}\n",
    "        plt.xlim(min(self.omega),max(self.omega))\n",
    "        if not log:\n",
    "            plt.gca().set_ylim(bottom=0,top=ymax)\n",
    "            plt.gca().set_xticks(np.linspace(min(self.omega),max(self.omega),2*int(max(self.omega))+1),minor=False)\n",
    "        else: \n",
    "            plt.yscale('log')\n",
    "            plt.gca().set_ylim(bottom=0.0001,top=10)\n",
    "            plt.gca().set_xticks([-8,-6,-4,-2,0,2,4,6,8],minor=False)\n",
    "        plt.xlabel(\"$\\\\omega$ [-]\",**axis_font)\n",
    "        plt.gca().set_ylabel(\"$\\\\rho$($\\\\omega$)\",va=\"bottom\",rotation=0,labelpad=30,**axis_font)\n",
    "        plt.plot(self.omega,self.Lor,'--r',linewidth=4,label='$\\\\rho_0$')\n",
    "        plt.plot(self.omega,self.fDOS,'-b',label=labels)\n",
    "        plt.legend(fancybox=False).get_frame().set_edgecolor('black')\n",
    "        plt.grid()\n",
    "        plt.tight_layout()\n",
    "        #plt.savefig(name+'.png',format='png')\n",
    "        #plt.savefig(name+'.svg',format='svg',dpi=3600)\n",
    "        plt.draw()\n",
    "        plt.pause(5)\n",
    "        plt.close()\n",
    "        return plt"
   ]
  },
  {
   "cell_type": "code",
   "execution_count": 21,
   "metadata": {},
   "outputs": [
    {
     "data": {
      "application/vnd.jupyter.widget-view+json": {
       "model_id": "109192e0738b47b2b05450da21ec8dba",
       "version_major": 2,
       "version_minor": 0
      },
      "text/plain": [
       "Iterations:   0%|          | 0/2000 [00:00<?, ?it/s]"
      ]
     },
     "metadata": {},
     "output_type": "display_data"
    },
    {
     "data": {
      "image/png": "[encoded data removed]",
      "text/plain": [
       "<Figure size 1000x800 with 1 Axes>"
      ]
     },
     "metadata": {},
     "output_type": "display_data"
    }
   ],
   "source": [
    "poles,Nit=2,2000\n",
    "test=DEDlib(poles=poles,Nit=Nit)\n",
    "name,labels='constraintN4p','$\\\\rho_{constr.},N,$n=2'\n",
    "plot=test.DOSplot(name,labels)"
   ]
  },
  {
   "cell_type": "code",
   "execution_count": 1,
   "metadata": {},
   "outputs": [],
   "source": [
    "import warnings\n",
    "warnings.filterwarnings(\"ignore\", category=RuntimeWarning)\n",
    "from tqdm.auto import trange\n",
    "from qutip import *\n",
    "import numpy as np\n",
    "import matplotlib.pyplot as plt\n",
    "import kwant\n",
    "import scipy\n",
    "from numba import njit\n",
    "\n",
    "#class DED:\n",
    "\n",
    "def Jordan_wigner_transform(j,lattice_length):\n",
    "    \"\"\"Jordan_wigner_transform(j, lattice_length). \n",
    "Defines the Jordan Wigner transformation for a 1D lattice.\"\"\"\n",
    "    operators=sigmaz()\n",
    "    for _ in range(j-1): operators=tensor(operators,sigmaz())\n",
    "    if j == 0: operators=sigmam()\n",
    "    else: operators=tensor(operators,sigmam())\n",
    "    for _ in range(lattice_length - j - 1): operators=tensor(operators,identity(2))\n",
    "    return operators\n",
    "\n",
    "@njit\n",
    "def Lorentzian(omega,Gamma,poles,Ed=-3/2,Sigma=3/2):\n",
    "    \"\"\"Lorentzian(omega, Gamma, poles,Ed=-3/2,Sigma=3/2). \n",
    "Defines the non-interacting DOS (rho0) and selects random sites based on the number of sites in the 1D lattice model and the calculated distribution.\"\"\"\n",
    "    return -np.imag(1/(omega-Ed-Sigma+1j*Gamma))/np.pi,np.array([Gamma*np.tan(np.pi*(pi-1/2))+Ed+Sigma for pi in np.random.uniform(0,1,poles)])\n",
    "\n",
    "@njit\n",
    "def Startrans(poles,select,omega,eta,row=0):\n",
    "    \"\"\"Startrans(poles,select,row,omega, eta). \n",
    "Function to transform 1D lattice matrices in order to calculates parameters impengergy, bathenergy and Vkk from random sampling distribution.\"\"\"\n",
    "    Pbath,Dbath,pbar,G=np.zeros((poles,poles)),np.zeros((poles,poles)),np.zeros((poles,poles)),np.zeros(omega.shape,dtype='complex_')\n",
    "    for i in range(poles-1):\n",
    "        for j in range(poles-1):\n",
    "            if j>=i: Pbath[i+1][j+1]=-1/np.sqrt((poles-i-1)*(poles-i))\n",
    "        Pbath[i+1][i]=np.sqrt(poles-i-1)/np.sqrt(poles-i)\n",
    "    Pbath[row,:]=1/np.sqrt(poles)\n",
    "    for i, _ in enumerate(select): Dbath[i][i]=select[i]\n",
    "    pbar[1:,1:]=np.linalg.eig((Pbath@Dbath@Pbath.T)[1:,1:])[1]\n",
    "    pbar[row][row]=1\n",
    "    for i, _ in enumerate(select): G+=1/len(select)/(omega-select[i]+1.j*eta)\n",
    "    return pbar.T@Pbath@Dbath@Pbath.T@pbar,G,select\n",
    "\n",
    "def Operators(c,Nimpurities,poles):\n",
    "    posimp=[int(2*poles/Nimpurities*i) for i in range(Nimpurities)]\n",
    "    impn=[sum([c[posimp[k]+i].dag()*c[posimp[k]+i] for i in range(2)]) for k in range(Nimpurities)]\n",
    "    bathn=[[sum([c[2*j+i+2+posimp[k]].dag()*c[2*j+i+2+posimp[k]] for i in range(2)]) for j in range(int(poles/Nimpurities)-1)] for k in range(Nimpurities)]\n",
    "    crossn=[[sum([c[posimp[k]+i].dag()*c[2*j+i+2+posimp[k]]+c[2*j+i+2+posimp[k]].dag()*c[posimp[k]+i] for i in range(2)]) for j in range(int(poles/Nimpurities)-1)] for k in range(Nimpurities)]\n",
    "    Un=sum([c[posimp[k]].dag()*c[posimp[k]]*c[posimp[k]+1].dag()*c[posimp[k]+1] for k in range(Nimpurities)])\n",
    "    Sigman=sum([c[posimp[k]].dag()*c[posimp[k]]+c[posimp[k]+1].dag()*c[posimp[k]+1] for k in range(Nimpurities)])\n",
    "    U2n=sum([c[posimp[k]+i].dag()*c[posimp[k]+i]*c[posimp[l]+j].dag()*c[posimp[l]+j] for i in range(2) for j in range(2) for l in range(Nimpurities) for k in range(Nimpurities) if k !=l])\n",
    "    Jn=sum([1/2*(c[posimp[k]].dag()*c[posimp[k]+1]*c[posimp[l]+1].dag()*c[posimp[l]]+c[posimp[k]+1].dag()*c[posimp[k]]*c[posimp[l]].dag()*c[posimp[l]+1])\n",
    "                    +1/4*(c[posimp[k]].dag()*c[posimp[k]]-c[posimp[k]+1].dag()*c[posimp[k]+1])*(c[posimp[l]].dag()*c[posimp[l]]-c[posimp[l]+1].dag()*c[posimp[l]+1]) for l in range(Nimpurities) for k in range(Nimpurities) if k!=l])\n",
    "    n=[sum([c[j+posimp[i]].dag()*c[j+posimp[i]] for j in range(2*int(poles/Nimpurities))]) for i in range(Nimpurities)]\n",
    "    return (impn,bathn,crossn,Un,Sigman,U2n,Jn),n\n",
    "\n",
    "def HamiltonianAIM(impenergy,bathenergy,Vkk,U,Sigma,U2,J,Hn,H0=0):\n",
    "    \"\"\"HamiltonianAIM(c, impenergy, bathenergy, Vkk, U, Sigma). \n",
    "Based on energy parameters calculates the Hamiltonian of a single-impurity system.\"\"\"\n",
    "    for k in range(len(impenergy)):\n",
    "        H0+=impenergy[k]*Hn[0][k]\n",
    "        for j in range(len(bathenergy[k])): H0+=bathenergy[k][j]*Hn[1][k][j]+Vkk[k][j]*Hn[2][k][j]\n",
    "    return H0,H0+U*Hn[3]-Sigma*Hn[4]+(U2/2-J/4)*Hn[5]-J*Hn[6]\n",
    "\n",
    "@njit\n",
    "def MBGT0(omega,eta,evals,exp,exp2):\n",
    "    G=np.zeros(len(omega),dtype='complex_')\n",
    "    for i,expi in enumerate(exp): G+=abs(expi)**2/(omega+evals[i+1]-evals[0]+1.j*eta)+abs(exp2[i])**2/(omega+evals[0]-evals[i+1]+1.j*eta)\n",
    "    return G\n",
    "\n",
    "@njit\n",
    "def MBGTnonzero(omega,eta,evals,exp,exp2,eevals):\n",
    "    G=np.zeros(len(omega),dtype='complex_')\n",
    "    for i,evi in enumerate(evals):\n",
    "        for j,evj in enumerate(evals):\n",
    "            G+=(exp[i][j]*exp2[j][i]/(omega+evi-evj+1.j*eta)+exp[j][i]*exp2[i][j]/(omega+evj-evi+1.j*eta))*eevals[i]\n",
    "    return G\n",
    "\n",
    "def MBGAIM(omega,H,c,eta,Tk,Boltzmann,evals=[],evecs=[],etaoffset=1e-4,posoffset=np.zeros(1,dtype='int')):\n",
    "    \"\"\"MBGAIM(omega, H, c, eta). \n",
    "Calculates the many body Green's function based on the Hamiltonian eigenenergies/-states.\"\"\"\n",
    "    if ~np.any(evals): evals,evecs=scipy.linalg.eigh(H.data.toarray())\n",
    "    if Tk==[0]:\n",
    "        vecn=np.conj(evecs[:,1:]).T\n",
    "        exp,exp2=vecn@c[0].data.tocoo()@evecs[:,0],vecn@c[0].dag().data.tocoo()@evecs[:,0]\n",
    "        return MBGT0(omega,eta,evals,exp,exp2),Boltzmann,evecs[:,0]\n",
    "    else:\n",
    "        MGdat,eta[int(np.round(len(eta)/2))+posoffset]=np.ones((len(Tk),len(omega)),dtype='complex_'),etaoffset\n",
    "        for k,T in enumerate(Tk):\n",
    "            if Boltzmann[k]!=0:\n",
    "                eevals,vecn=np.exp(-evals/T-scipy.special.logsumexp(-evals/T)),np.conj(evecs).T\n",
    "                exp,exp2=vecn@c[0].data.tocoo()@evecs,vecn@c[0].dag().data.tocoo()@evecs\n",
    "                MGdat[k,:]=MBGTnonzero(omega,eta,evals,exp,exp2,eevals)\n",
    "        return MGdat.squeeze(),Boltzmann,evecs[:,0]\n",
    "\n",
    "def Constraint(ctype,H0,H,omega,eta,c,n,Tk,Nfin):\n",
    "    \"\"\"Constraint(ctype,H0,H,omega,eta,c,n). \n",
    "Constraint implementation function for DED method with various possible constraints.\"\"\"\n",
    "    if ctype[0]=='m':\n",
    "        vecs=scipy.sparse.csr_matrix(np.vstack((scipy.sparse.linalg.eigsh(np.real(H0.data),k=1,which='SA')[1][:,0],\n",
    "                                        scipy.sparse.linalg.eigsh(np.real(H.data),k=1,which='SA')[1][:,0])))\n",
    "        exp=np.conj(vecs)@n[0].data@vecs.T\n",
    "        if ctype=='mosn' and np.round(exp[0,0])==np.round(exp[1,1]):\n",
    "            return MBGAIM(omega,H,c,eta,Tk,np.ones(len(Tk))),True\n",
    "        else:\n",
    "            return (np.zeros(len(omega),dtype='complex_'),np.zeros(len(Tk)),np.array([])),False\n",
    "    elif ctype[0]=='s':\n",
    "        vecs=scipy.linalg.eigh(H0.data.toarray(),eigvals=[0,0])[1][:,0]\n",
    "        evals,evecs=scipy.linalg.eigh(H.data.toarray())\n",
    "        if ctype=='ssn':\n",
    "            Boltzmann=np.exp(-abs(evals[find_nearest(np.diag(np.conj(evecs).T@n[0].data@evecs),np.conj(vecs)@n[0].data@vecs.T)]-evals[0])/Tk)*Nfin.astype('int')\n",
    "            return MBGAIM(omega,H,c,eta,Tk,Boltzmann,evals,evecs,4e-4,np.array([-2,-1,0,1,2])),True\n",
    "        else:\n",
    "            return MBGAIM(omega,H,c,eta,Tk,np.exp(-abs(evals[find_nearest(np.diag(np.conj(evecs).T@n[0].data@evecs),np.conj(vecs)@n[0].data@vecs.T)]-evals[0])/Tk),evals,evecs,4e-4,np.array([-2,-1,0,1,2])),True\n",
    "    elif ctype[0]=='n':\n",
    "        vecs=scipy.sparse.csr_matrix(np.vstack((scipy.sparse.linalg.eigsh(np.real(H0.data),k=1,which='SA')[1][:,0],\n",
    "                                                scipy.sparse.linalg.eigsh(np.real(H.data),k=1,which='SA')[1][:,0])))\n",
    "        exp=[np.conj(vecs)@ni.data@vecs.T for ni in n]\n",
    "        if ctype=='n%2' and all([int(np.round(expi[0,0]))%2==int(np.round(expi[1,1]))%2 for expi in exp]):\n",
    "            return MBGAIM(omega,H,c,eta,Tk,np.ones(len(Tk))),True\n",
    "        elif ctype=='n' and all([np.round(expi[0,0])==np.round(expi[1,1]) for expi in exp]):\n",
    "            return MBGAIM(omega,H,c,eta,Tk,np.ones(len(Tk))),True\n",
    "        else:\n",
    "            return (np.zeros(len(omega),dtype='complex_'),np.zeros(len(Tk)),np.array([])),False\n",
    "    elif ctype[0]=='d':\n",
    "        vecs=scipy.sparse.csr_matrix(np.vstack((scipy.linalg.eigh(H.data.toarray(),eigvals=[0,0])[1][:,0],\n",
    "                                                scipy.linalg.eigh(H0.data.toarray(),eigvals=[0,0])[1][:,0])))\n",
    "        exp=[np.conj(vecs)@ni.data@vecs.T for ni in n]\n",
    "        if ctype=='dn' and all([np.round(expi[0,0])==np.round(expi[1,1]) for expi in exp]):\n",
    "            return MBGAIM(omega,H,c,eta,Tk,np.ones(len(Tk))),True\n",
    "        else:\n",
    "            return (np.zeros(len(omega),dtype='complex_'),np.zeros(len(Tk)),np.array([])),False\n",
    "    else:\n",
    "        return MBGAIM(omega,H,c,eta,Tk,np.ones(len(Tk))),True\n",
    "    \n",
    "def find_nearest(array,value):\n",
    "    for i in (i for i,arrval in enumerate(array) if np.isclose(arrval,value,atol=0.1)): return i\n",
    "\n",
    "def main(N=200000,poles=4,U=3,Sigma=3/2,Ed=-3/2,Gamma=0.3,SizeO=1001,etaco=[0.02,1e-39],ctype='n',Edcalc='',bound=3,Tk=[0],Nimpurities=1,U2=0,J=0,posb=1,log=False,base=1.5):\n",
    "    \"\"\"main(N=1000000,poles=4,U=3,Sigma=3/2,Gamma=0.3,SizeO=1001,etaco=[0.02,1e-39], ctype='n',Ed='AS'). \n",
    "The main DED function simulating the Anderson impurity model for given parameters.\"\"\"\n",
    "    if log: omega,selectpcT,selectpT,Npoles=np.concatenate((-np.logspace(np.log(bound)/np.log(base),-40,int(np.round(SizeO/2)),base=base),np.logspace(-40,np.log(bound)/np.log(base),int(np.round(SizeO/2)),base=base))),[],[],int(poles/Nimpurities)\n",
    "    else: omega,selectpcT,selectpT,Npoles=np.linspace(-bound,bound,SizeO),[],[],int(poles/Nimpurities)\n",
    "    c,pbar,eta=[Jordan_wigner_transform(i,2*poles) for i in range(2*poles)],trange(N,position=posb,leave=False,desc='Iterations',bar_format='{l_bar}{bar:10}{r_bar}{bar:-10b}'),etaco[0]*abs(omega)+etaco[1]\n",
    "    (Hn,n),AvgSigmadat,Nfin,nd=Operators(c,Nimpurities,poles),np.zeros((len(Tk),SizeO),dtype='complex_'),np.zeros(len(Tk),dtype='float'),np.zeros(len(Tk),dtype='complex_')\n",
    "    while pbar.n<N:\n",
    "        reset=False\n",
    "        while not reset:\n",
    "            NewM,nonG,select=Startrans(Npoles,np.sort(Lorentzian(omega,Gamma,Npoles,Ed,Sigma)[1]),omega,eta)\n",
    "            H0,H=HamiltonianAIM(np.repeat(NewM[0][0],Nimpurities),np.tile([NewM[k+1][k+1] for k in range(len(NewM)-1)],(Nimpurities,1)),np.tile(NewM[0,1:],(Nimpurities,1)),U,Sigma,U2,J,Hn)\n",
    "            try: (MBGdat,Boltzmann,Ev0),reset=Constraint(ctype,H0,H,omega,eta,c,n,Tk,np.array([ar<N for ar in Nfin]))\n",
    "            except (np.linalg.LinAlgError,ValueError,scipy.sparse.linalg.ArpackNoConvergence): (MBGdat,Boltzmann,Ev0),reset=(np.zeros(len(omega),dtype='complex_'),np.zeros(len(Tk)),np.array([])),False\n",
    "            if np.isnan(1/nonG-1/MBGdat+Sigma).any() or np.array([i>=1000 for i in np.real(1/nonG-1/MBGdat+Sigma)]).any(): reset=False\n",
    "            selectpT.append(select)\n",
    "        Nfin,AvgSigmadat,nd=Nfin+Boltzmann,AvgSigmadat+(1/nonG-1/MBGdat+Sigma)*Boltzmann[:,None],nd+np.conj(Ev0).T@sum(Hn[0]).data.tocoo()@Ev0*Boltzmann\n",
    "        selectpcT.append(select)\n",
    "        if ctype=='sn': pbar.n+=1\n",
    "        else: pbar.n=int(min(Nfin))\n",
    "        pbar.refresh()\n",
    "    pbar.close()\n",
    "    if Edcalc == 'AS': return (Nfin.squeeze(),np.real(nd/Nfin).squeeze()),(AvgSigmadat/Nfin[:,None]).squeeze(),(-np.imag(np.nan_to_num(1/(omega-AvgSigmadat/Nfin[:,None]+(AvgSigmadat[:,int(np.round(SizeO/2))]/Nfin)[:,None]+1j*Gamma)))/np.pi).squeeze(),Lorentzian(omega,Gamma,poles)[0],omega,selectpT,selectpcT,pbar.format_dict[\"elapsed\"]\n",
    "    else: return (Nfin.squeeze(),np.real(nd/Nfin).squeeze()),(AvgSigmadat/Nfin[:,None]).squeeze(),(-np.imag(np.nan_to_num(1/(omega-AvgSigmadat/Nfin[:,None]-Ed+1j*Gamma)))/np.pi).squeeze(),Lorentzian(omega,Gamma,poles,Ed,Sigma)[0],omega,selectpT,selectpcT,pbar.format_dict[\"elapsed\"]\n",
    "\n",
    "def DOSplot(fDOS,Lor,omega,name,labels,log=False,ymax=1.2,save=True):\n",
    "    \"\"\"DOSplot(fDOS,Lor,omega,name,labels). \n",
    "A plot function to present results from the AIM moddeling for a single results with a comparison to the non-interacting DOS.\"\"\"\n",
    "    plt.figure(figsize=(10,8))\n",
    "    plt.rc('legend',fontsize=17)\n",
    "    plt.rc('font',size=25)\n",
    "    plt.rc('xtick',labelsize=25)\n",
    "    plt.rc('ytick',labelsize=25)\n",
    "    axis_font={'fontname':'Calibri','size':'25'}\n",
    "    plt.xlim(min(omega),max(omega))\n",
    "    if not log:\n",
    "        plt.gca().set_ylim(bottom=0,top=ymax)\n",
    "        plt.gca().set_xticks(np.linspace(min(omega),max(omega),2*int(max(omega))+1),minor=False)\n",
    "    else: \n",
    "        plt.yscale('log')\n",
    "        plt.gca().set_ylim(bottom=0.0001,top=10)\n",
    "        plt.gca().set_xticks([-8,-6,-4,-2,0,2,4,6,8],minor=False)\n",
    "    plt.xlabel(\"$\\\\omega$ [-]\",**axis_font)\n",
    "    plt.gca().set_ylabel(\"$\\\\rho$($\\\\omega$)\",va=\"bottom\",rotation=0,labelpad=30,**axis_font)\n",
    "    plt.plot(omega,Lor,'--r',linewidth=4,label='$\\\\rho_0$')\n",
    "    plt.plot(omega,fDOS,'-b',label=labels)\n",
    "    plt.legend(fancybox=False).get_frame().set_edgecolor('black')\n",
    "    plt.grid()\n",
    "    plt.tight_layout()\n",
    "    if save:\n",
    "        plt.savefig(name+'.png',format='png')\n",
    "        plt.savefig(name+'.svg',format='svg',dpi=3600)\n",
    "    plt.draw()\n",
    "    plt.pause(5)\n",
    "    plt.close()\n",
    "    return plt"
   ]
  },
  {
   "cell_type": "code",
   "execution_count": 2,
   "metadata": {},
   "outputs": [
    {
     "data": {
      "application/vnd.jupyter.widget-view+json": {
       "model_id": "c71958f036624339aff6f8530ae1c228",
       "version_major": 2,
       "version_minor": 0
      },
      "text/plain": [
       "Iterations:   0%|          | 0/200000 [00:00<?, ?it/s]"
      ]
     },
     "metadata": {},
     "output_type": "display_data"
    },
    {
     "data": {
      "image/png": "[encoded data removed]",
      "text/plain": [
       "<Figure size 1000x800 with 1 Axes>"
      ]
     },
     "metadata": {},
     "output_type": "display_data"
    },
    {
     "data": {
      "text/plain": [
       "<module 'matplotlib.pyplot' from 'c:\\\\Users\\\\roelv\\\\OneDrive\\\\Documenten\\\\VSC\\\\.conda\\\\lib\\\\site-packages\\\\matplotlib\\\\pyplot.py'>"
      ]
     },
     "execution_count": 2,
     "metadata": {},
     "output_type": "execute_result"
    }
   ],
   "source": [
    "nd,_,fDOS,Lor,omega,selectpT,selectpcT,tsim=main(**{\"N\":200000,\"poles\":2,\"Ed\":-3/2,\"SizeO\":20000,\"ctype\":'n',\"log\":True})\n",
    "DOSplot(fDOS,Lor,omega,'constraintN2p','$\\\\rho_{constr.},N,$n=2',save=False)"
   ]
  },
  {
   "cell_type": "code",
   "execution_count": 21,
   "metadata": {},
   "outputs": [
    {
     "data": {
      "text/plain": [
       "array([1.0610314 , 1.0610314 , 1.0610314 , 1.0610314 , 1.0610314 ,\n",
       "       1.0610314 , 1.0610314 , 1.0610314 , 1.0610314 , 1.0610314 ,\n",
       "       1.0610314 , 1.0610314 , 1.0610314 , 1.0610314 , 1.0610314 ,\n",
       "       1.0610314 , 1.0610314 , 1.0610314 , 1.0610314 , 1.0610314 ,\n",
       "       1.0610314 , 1.0610314 , 1.0610314 , 1.0610314 , 1.0610314 ,\n",
       "       1.0610314 , 1.0610314 , 1.0610314 , 1.0610314 , 1.0610314 ,\n",
       "       1.0610314 , 1.0610314 , 1.0610314 , 1.0610314 , 1.0610314 ,\n",
       "       1.0610314 , 1.0610314 , 1.0610314 , 1.0610314 , 1.0610314 ,\n",
       "       1.0610314 , 1.0610314 , 1.0610314 , 1.0610314 , 1.0610314 ,\n",
       "       1.0610314 , 1.0610314 , 1.0610314 , 1.0610314 , 1.0610314 ,\n",
       "       1.0610314 , 1.0610314 , 1.0610314 , 1.0610314 , 1.0610314 ,\n",
       "       1.0610314 , 1.0610314 , 1.0610314 , 1.0610314 , 1.0610314 ,\n",
       "       1.06103141, 1.06103141, 1.06103141, 1.06103141, 1.06103141,\n",
       "       1.06103141, 1.06103141, 1.06103141, 1.06103141, 1.06103141,\n",
       "       1.06103141, 1.06103141, 1.06103141, 1.06103141, 1.06103141,\n",
       "       1.06103141, 1.06103141, 1.06103141, 1.06103141, 1.06103141,\n",
       "       1.06103141, 1.06103141, 1.06103141, 1.06103141, 1.06103141,\n",
       "       1.06103141, 1.06103141, 1.06103141, 1.06103141, 1.06103141,\n",
       "       1.06103141, 1.06103141, 1.06103141, 1.06103141, 1.06103141,\n",
       "       1.06103141, 1.06103141, 1.06103141, 1.06103141, 1.06103141,\n",
       "       1.06103141, 1.06103141, 1.06103141, 1.06103141, 1.06103141,\n",
       "       1.06103141, 1.06103141, 1.06103141, 1.06103141, 1.06103141,\n",
       "       1.06103141, 1.06103141, 1.06103141, 1.06103141, 1.06103141,\n",
       "       1.06103141, 1.06103141, 1.06103141, 1.06103141, 1.06103141,\n",
       "       1.06103141, 1.06103141, 1.06103141, 1.06103141, 1.06103141,\n",
       "       1.06103141, 1.06103141, 1.06103141, 1.06103141, 1.06103141,\n",
       "       1.06103141, 1.06103141, 1.06103141, 1.06103141, 1.06103141,\n",
       "       1.06103141, 1.06103141, 1.06103141, 1.06103141, 1.06103141,\n",
       "       1.06103141, 1.06103141, 1.06103141, 1.06103141, 1.06103141,\n",
       "       1.06103141, 1.06103141, 1.06103141, 1.06103141, 1.06103141,\n",
       "       1.06103141, 1.06103141, 1.06103141, 1.06103141, 1.06103141,\n",
       "       1.06103141, 1.06103141, 1.0610314 , 1.0610314 , 1.0610314 ])"
      ]
     },
     "execution_count": 21,
     "metadata": {},
     "output_type": "execute_result"
    }
   ],
   "source": [
    "fDOS[9940:10100]"
   ]
  },
  {
   "cell_type": "code",
   "execution_count": 19,
   "metadata": {},
   "outputs": [
    {
     "data": {
      "text/plain": [
       "array([-9.18584280e-08, -9.16994766e-08, -9.15408002e-08, -9.13823984e-08,\n",
       "       -9.12242706e-08, -9.10664165e-08, -9.09088355e-08, -9.07515273e-08,\n",
       "       -9.05944912e-08, -9.04377268e-08,  9.04377268e-08,  9.05944912e-08,\n",
       "        9.07515273e-08,  9.09088355e-08,  9.10664165e-08,  9.12242706e-08,\n",
       "        9.13823984e-08,  9.15408002e-08,  9.16994766e-08,  9.18584280e-08,\n",
       "        9.20176550e-08,  9.21771580e-08,  9.23369375e-08,  9.24969939e-08,\n",
       "        9.26573278e-08,  9.28179396e-08,  9.29788298e-08,  9.31399988e-08,\n",
       "        9.33014473e-08,  9.34631756e-08,  9.36251842e-08,  9.37874737e-08,\n",
       "        9.39500445e-08,  9.41128971e-08,  9.42760319e-08,  9.44394496e-08,\n",
       "        9.46031505e-08,  9.47671352e-08,  9.49314041e-08,  9.50959577e-08,\n",
       "        9.52607966e-08,  9.54259213e-08,  9.55913321e-08,  9.57570297e-08,\n",
       "        9.59230145e-08,  9.60892870e-08,  9.62558478e-08,  9.64226972e-08,\n",
       "        9.65898359e-08,  9.67572643e-08,  9.69249829e-08,  9.70929922e-08,\n",
       "        9.72612927e-08,  9.74298850e-08,  9.75987695e-08,  9.77679468e-08,\n",
       "        9.79374173e-08,  9.81071816e-08,  9.82772401e-08,  9.84475934e-08,\n",
       "        9.86182421e-08,  9.87891865e-08,  9.89604272e-08,  9.91319647e-08,\n",
       "        9.93037996e-08,  9.94759324e-08,  9.96483635e-08,  9.98210935e-08,\n",
       "        9.99941230e-08,  1.00167452e-07,  1.00341082e-07,  1.00515013e-07,\n",
       "        1.00689245e-07,  1.00863779e-07,  1.01038616e-07,  1.01213756e-07,\n",
       "        1.01389200e-07,  1.01564947e-07,  1.01740999e-07,  1.01917357e-07,\n",
       "        1.02094020e-07,  1.02270989e-07,  1.02448265e-07,  1.02625849e-07,\n",
       "        1.02803740e-07,  1.02981939e-07,  1.03160448e-07,  1.03339266e-07,\n",
       "        1.03518393e-07,  1.03697832e-07,  1.03877581e-07,  1.04057642e-07,\n",
       "        1.04238015e-07,  1.04418701e-07,  1.04599700e-07,  1.04781012e-07,\n",
       "        1.04962639e-07,  1.05144581e-07,  1.05326838e-07,  1.05509411e-07,\n",
       "        1.05692301e-07,  1.05875507e-07,  1.06059031e-07,  1.06242874e-07,\n",
       "        1.06427035e-07,  1.06611515e-07,  1.06796315e-07,  1.06981435e-07,\n",
       "        1.07166876e-07,  1.07352639e-07])"
      ]
     },
     "execution_count": 19,
     "metadata": {},
     "output_type": "execute_result"
    }
   ],
   "source": [
    "omega[9990:10100]"
   ]
  },
  {
   "cell_type": "code",
   "execution_count": 123,
   "metadata": {},
   "outputs": [],
   "source": [
    "def Jordan_wigner_transform(j,lattice_length):\n",
    "    \"\"\"Jordan_wigner_transform(j, lattice_length). \n",
    "Defines the Jordan Wigner transformation for a 1D lattice.\"\"\"\n",
    "    operators=sigmaz()\n",
    "    for _ in range(j-1): operators=tensor(operators,sigmaz())\n",
    "    if j == 0: operators=sigmam()\n",
    "    else: operators=tensor(operators,sigmam())\n",
    "    for _ in range(lattice_length - j - 1): operators=tensor(operators,identity(2))\n",
    "    return operators\n",
    "\n",
    "poles=1\n",
    "\n",
    "f=[Jordan_wigner_transform(i,2*poles) for i in range(2*poles)]"
   ]
  },
  {
   "cell_type": "code",
   "execution_count": 142,
   "metadata": {},
   "outputs": [
    {
     "data": {
      "text/latex": [
       "Quantum object: dims = [[2], [2]], shape = (2, 2), type = oper, isherm = False $ \\\\ \\left(\\begin{matrix}0.0 & 1.0\\\\0.0 & 0.0\\\\\\end{matrix}\\right)$"
      ],
      "text/plain": [
       "Quantum object: dims = [[2], [2]], shape = (2, 2), type = oper, isherm = False\n",
       "Qobj data =\n",
       "[[0. 1.]\n",
       " [0. 0.]]"
      ]
     },
     "execution_count": 142,
     "metadata": {},
     "output_type": "execute_result"
    }
   ],
   "source": [
    "sigmap()"
   ]
  },
  {
   "cell_type": "code",
   "execution_count": 144,
   "metadata": {},
   "outputs": [
    {
     "data": {
      "text/latex": [
       "Quantum object: dims = [[2, 2], [2, 2]], shape = (4, 4), type = oper, isherm = False $ \\\\ \\left(\\begin{matrix}0.0 & 1.0 & 0.0 & 0.0\\\\0.0 & 0.0 & 0.0 & 0.0\\\\0.0 & 0.0 & 0.0 & -1.0\\\\0.0 & 0.0 & 0.0 & 0.0\\\\\\end{matrix}\\right)$"
      ],
      "text/plain": [
       "Quantum object: dims = [[2, 2], [2, 2]], shape = (4, 4), type = oper, isherm = False\n",
       "Qobj data =\n",
       "[[ 0.  1.  0.  0.]\n",
       " [ 0.  0.  0.  0.]\n",
       " [ 0.  0.  0. -1.]\n",
       " [ 0.  0.  0.  0.]]"
      ]
     },
     "execution_count": 144,
     "metadata": {},
     "output_type": "execute_result"
    }
   ],
   "source": [
    "f[1].dag()"
   ]
  },
  {
   "cell_type": "code",
   "execution_count": 138,
   "metadata": {},
   "outputs": [
    {
     "data": {
      "text/plain": [
       "[Quantum object: dims = [[2, 2], [2, 2]], shape = (4, 4), type = oper, isherm = False\n",
       " Qobj data =\n",
       " [[0. 0. 0. 0.]\n",
       "  [0. 0. 0. 0.]\n",
       "  [1. 0. 0. 0.]\n",
       "  [0. 1. 0. 0.]],\n",
       " Quantum object: dims = [[2, 2], [2, 2]], shape = (4, 4), type = oper, isherm = False\n",
       " Qobj data =\n",
       " [[ 0.  0.  0.  0.]\n",
       "  [ 1.  0.  0.  0.]\n",
       "  [ 0.  0.  0.  0.]\n",
       "  [ 0.  0. -1.  0.]]]"
      ]
     },
     "execution_count": 138,
     "metadata": {},
     "output_type": "execute_result"
    }
   ],
   "source": [
    "f"
   ]
  },
  {
   "cell_type": "code",
   "execution_count": 151,
   "metadata": {},
   "outputs": [],
   "source": [
    "c2=Qobj([[0,0,0,0],[1,0,0,0],[0,0,0,0],[0,0,1,0]])"
   ]
  },
  {
   "cell_type": "code",
   "execution_count": 150,
   "metadata": {},
   "outputs": [],
   "source": [
    "c1=Qobj([[0,0,0,0],[0,0,0,0],[1,0,0,0],[0,-1,0,0]])"
   ]
  },
  {
   "cell_type": "code",
   "execution_count": 162,
   "metadata": {},
   "outputs": [
    {
     "data": {
      "text/latex": [
       "Quantum object: dims = [[2, 2], [2, 2]], shape = (4, 4), type = oper, isherm = True $ \\\\ \\left(\\begin{matrix}0.0 & 0.0 & 0.0 & 0.0\\\\0.0 & 1.0 & 0.0 & 0.0\\\\0.0 & 0.0 & 1.0 & 0.0\\\\0.0 & 0.0 & 0.0 & 2.0\\\\\\end{matrix}\\right)$"
      ],
      "text/plain": [
       "Quantum object: dims = [[2, 2], [2, 2]], shape = (4, 4), type = oper, isherm = True\n",
       "Qobj data =\n",
       "[[0. 0. 0. 0.]\n",
       " [0. 1. 0. 0.]\n",
       " [0. 0. 1. 0.]\n",
       " [0. 0. 0. 2.]]"
      ]
     },
     "execution_count": 162,
     "metadata": {},
     "output_type": "execute_result"
    }
   ],
   "source": [
    "c1=tensor(sigmam(),sigmaz())\n",
    "c2=tensor(identity(2),sigmam())\n",
    "c1*c1.dag()+c2*c2.dag()"
   ]
  },
  {
   "cell_type": "code",
   "execution_count": 157,
   "metadata": {},
   "outputs": [],
   "source": [
    "c12=tensor(sigmaz(),sigmam())\n",
    "c22=tensor(sigmam(),identity(2))"
   ]
  },
  {
   "cell_type": "code",
   "execution_count": 158,
   "metadata": {},
   "outputs": [
    {
     "data": {
      "text/latex": [
       "Quantum object: dims = [[2, 2], [2, 2]], shape = (4, 4), type = oper, isherm = True $ \\\\ \\left(\\begin{matrix}0.0 & 0.0 & 0.0 & 0.0\\\\0.0 & 1.0 & 0.0 & 0.0\\\\0.0 & 0.0 & 1.0 & 0.0\\\\0.0 & 0.0 & 0.0 & 2.0\\\\\\end{matrix}\\right)$"
      ],
      "text/plain": [
       "Quantum object: dims = [[2, 2], [2, 2]], shape = (4, 4), type = oper, isherm = True\n",
       "Qobj data =\n",
       "[[0. 0. 0. 0.]\n",
       " [0. 1. 0. 0.]\n",
       " [0. 0. 1. 0.]\n",
       " [0. 0. 0. 2.]]"
      ]
     },
     "execution_count": 158,
     "metadata": {},
     "output_type": "execute_result"
    }
   ],
   "source": [
    "c12*c12.dag()+c22*c22.dag()"
   ]
  },
  {
   "cell_type": "code",
   "execution_count": 161,
   "metadata": {},
   "outputs": [
    {
     "data": {
      "text/latex": [
       "Quantum object: dims = [[2, 2], [2, 2]], shape = (4, 4), type = oper, isherm = True $ \\\\ \\left(\\begin{matrix}2.0 & 0.0 & 0.0 & 0.0\\\\0.0 & 1.0 & 0.0 & 0.0\\\\0.0 & 0.0 & 1.0 & 0.0\\\\0.0 & 0.0 & 0.0 & 0.0\\\\\\end{matrix}\\right)$"
      ],
      "text/plain": [
       "Quantum object: dims = [[2, 2], [2, 2]], shape = (4, 4), type = oper, isherm = True\n",
       "Qobj data =\n",
       "[[2. 0. 0. 0.]\n",
       " [0. 1. 0. 0.]\n",
       " [0. 0. 1. 0.]\n",
       " [0. 0. 0. 0.]]"
      ]
     },
     "execution_count": 161,
     "metadata": {},
     "output_type": "execute_result"
    }
   ],
   "source": [
    "c13=tensor(identity(2),sigmam())\n",
    "c23=tensor(sigmam(),sigmaz())\n",
    "c13.dag()*c13+c23.dag()*c23"
   ]
  },
  {
   "cell_type": "code",
   "execution_count": 146,
   "metadata": {},
   "outputs": [
    {
     "data": {
      "text/latex": [
       "Quantum object: dims = [[2, 2], [2, 2]], shape = (4, 4), type = oper, isherm = True $ \\\\ \\left(\\begin{matrix}2.0 & 0.0 & 0.0 & 0.0\\\\0.0 & 1.0 & 0.0 & 0.0\\\\0.0 & 0.0 & 1.0 & 0.0\\\\0.0 & 0.0 & 0.0 & 0.0\\\\\\end{matrix}\\right)$"
      ],
      "text/plain": [
       "Quantum object: dims = [[2, 2], [2, 2]], shape = (4, 4), type = oper, isherm = True\n",
       "Qobj data =\n",
       "[[2. 0. 0. 0.]\n",
       " [0. 1. 0. 0.]\n",
       " [0. 0. 1. 0.]\n",
       " [0. 0. 0. 0.]]"
      ]
     },
     "execution_count": 146,
     "metadata": {},
     "output_type": "execute_result"
    }
   ],
   "source": [
    "f[1].dag()*f[1]+f[0].dag()*f[0]"
   ]
  },
  {
   "cell_type": "code",
   "execution_count": 115,
   "metadata": {},
   "outputs": [],
   "source": [
    "poles=2\n",
    "f=[Jordan_wigner_transform(i,2*poles) for i in range(2*poles)]"
   ]
  },
  {
   "cell_type": "code",
   "execution_count": 98,
   "metadata": {},
   "outputs": [],
   "source": [
    "from scipy.sparse import csc_matrix\n",
    "x=csc_matrix(f[0].data.tocoo())"
   ]
  },
  {
   "cell_type": "code",
   "execution_count": 130,
   "metadata": {},
   "outputs": [
    {
     "data": {
      "text/latex": [
       "Quantum object: dims = [[2, 2], [2, 2]], shape = (4, 4), type = oper, isherm = False $ \\\\ \\left(\\begin{matrix}0.0 & 0.0 & 1.0 & 0.0\\\\0.0 & 0.0 & 0.0 & 1.0\\\\0.0 & 0.0 & 0.0 & 0.0\\\\0.0 & 0.0 & 0.0 & 0.0\\\\\\end{matrix}\\right)$"
      ],
      "text/plain": [
       "Quantum object: dims = [[2, 2], [2, 2]], shape = (4, 4), type = oper, isherm = False\n",
       "Qobj data =\n",
       "[[0. 0. 1. 0.]\n",
       " [0. 0. 0. 1.]\n",
       " [0. 0. 0. 0.]\n",
       " [0. 0. 0. 0.]]"
      ]
     },
     "execution_count": 130,
     "metadata": {},
     "output_type": "execute_result"
    }
   ],
   "source": [
    "f[0].dag()"
   ]
  },
  {
   "cell_type": "code",
   "execution_count": 133,
   "metadata": {},
   "outputs": [
    {
     "name": "stdout",
     "output_type": "stream",
     "text": [
      "Quantum object: dims = [[2, 2, 2, 2], [2, 2, 2, 2]], shape = (16, 16), type = oper, isherm = False\n",
      "Qobj data =\n",
      "[[0. 0. 0. 0. 0. 0. 0. 0. 0. 0. 0. 0. 0. 0. 0. 0.]\n",
      " [0. 0. 0. 0. 0. 0. 0. 0. 0. 0. 0. 0. 0. 0. 0. 0.]\n",
      " [0. 0. 0. 0. 0. 0. 0. 0. 0. 0. 0. 0. 0. 0. 0. 0.]\n",
      " [0. 0. 0. 0. 0. 0. 0. 0. 0. 0. 0. 0. 0. 0. 0. 0.]\n",
      " [0. 0. 0. 0. 0. 0. 0. 0. 0. 0. 0. 0. 0. 0. 0. 0.]\n",
      " [0. 0. 0. 0. 0. 0. 0. 0. 0. 0. 0. 0. 0. 0. 0. 0.]\n",
      " [0. 0. 0. 0. 0. 0. 0. 0. 0. 0. 0. 0. 0. 0. 0. 0.]\n",
      " [0. 0. 0. 0. 0. 0. 0. 0. 0. 0. 0. 0. 0. 0. 0. 0.]\n",
      " [0. 0. 1. 0. 0. 0. 0. 0. 0. 0. 0. 0. 0. 0. 0. 0.]\n",
      " [0. 0. 0. 1. 0. 0. 0. 0. 0. 0. 0. 0. 0. 0. 0. 0.]\n",
      " [0. 0. 0. 0. 0. 0. 0. 0. 0. 0. 0. 0. 0. 0. 0. 0.]\n",
      " [0. 0. 0. 0. 0. 0. 0. 0. 0. 0. 0. 0. 0. 0. 0. 0.]\n",
      " [0. 0. 0. 0. 0. 0. 1. 0. 0. 0. 0. 0. 0. 0. 0. 0.]\n",
      " [0. 0. 0. 0. 0. 0. 0. 1. 0. 0. 0. 0. 0. 0. 0. 0.]\n",
      " [0. 0. 0. 0. 0. 0. 0. 0. 0. 0. 0. 0. 0. 0. 0. 0.]\n",
      " [0. 0. 0. 0. 0. 0. 0. 0. 0. 0. 0. 0. 0. 0. 0. 0.]]\n"
     ]
    }
   ],
   "source": [
    "print(tensor(f[0],f[0].dag()))"
   ]
  },
  {
   "cell_type": "code",
   "execution_count": 132,
   "metadata": {},
   "outputs": [
    {
     "data": {
      "text/latex": [
       "Quantum object: dims = [[2, 2], [2, 2]], shape = (4, 4), type = oper, isherm = False $ \\\\ \\left(\\begin{matrix}0.0 & 1.0 & 0.0 & 0.0\\\\0.0 & 0.0 & 0.0 & 0.0\\\\0.0 & 0.0 & 0.0 & -1.0\\\\0.0 & 0.0 & 0.0 & 0.0\\\\\\end{matrix}\\right)$"
      ],
      "text/plain": [
       "Quantum object: dims = [[2, 2], [2, 2]], shape = (4, 4), type = oper, isherm = False\n",
       "Qobj data =\n",
       "[[ 0.  1.  0.  0.]\n",
       " [ 0.  0.  0.  0.]\n",
       " [ 0.  0.  0. -1.]\n",
       " [ 0.  0.  0.  0.]]"
      ]
     },
     "execution_count": 132,
     "metadata": {},
     "output_type": "execute_result"
    }
   ],
   "source": [
    "f[1].dag()"
   ]
  },
  {
   "cell_type": "code",
   "execution_count": 134,
   "metadata": {},
   "outputs": [
    {
     "name": "stdout",
     "output_type": "stream",
     "text": [
      "Quantum object: dims = [[2, 2, 2, 2], [2, 2, 2, 2]], shape = (16, 16), type = oper, isherm = False\n",
      "Qobj data =\n",
      "[[ 0.  0.  0.  0.  0.  0.  0.  0.  0.  0.  0.  0.  0.  0.  0.  0.]\n",
      " [ 0.  0.  0.  0.  0.  0.  0.  0.  0.  0.  0.  0.  0.  0.  0.  0.]\n",
      " [ 0.  0.  0.  0.  0.  0.  0.  0.  0.  0.  0.  0.  0.  0.  0.  0.]\n",
      " [ 0.  0.  0.  0.  0.  0.  0.  0.  0.  0.  0.  0.  0.  0.  0.  0.]\n",
      " [ 0.  1.  0.  0.  0.  0.  0.  0.  0.  0.  0.  0.  0.  0.  0.  0.]\n",
      " [ 0.  0.  0.  0.  0.  0.  0.  0.  0.  0.  0.  0.  0.  0.  0.  0.]\n",
      " [ 0.  0.  0. -1.  0.  0.  0.  0.  0.  0.  0.  0.  0.  0.  0.  0.]\n",
      " [ 0.  0.  0.  0.  0.  0.  0.  0.  0.  0.  0.  0.  0.  0.  0.  0.]\n",
      " [ 0.  0.  0.  0.  0.  0.  0.  0.  0.  0.  0.  0.  0.  0.  0.  0.]\n",
      " [ 0.  0.  0.  0.  0.  0.  0.  0.  0.  0.  0.  0.  0.  0.  0.  0.]\n",
      " [ 0.  0.  0.  0.  0.  0.  0.  0.  0.  0.  0.  0.  0.  0.  0.  0.]\n",
      " [ 0.  0.  0.  0.  0.  0.  0.  0.  0.  0.  0.  0.  0.  0.  0.  0.]\n",
      " [ 0.  0.  0.  0.  0.  0.  0.  0.  0. -1.  0.  0.  0.  0.  0.  0.]\n",
      " [ 0.  0.  0.  0.  0.  0.  0.  0.  0.  0.  0.  0.  0.  0.  0.  0.]\n",
      " [ 0.  0.  0.  0.  0.  0.  0.  0.  0.  0.  0.  1.  0.  0.  0.  0.]\n",
      " [ 0.  0.  0.  0.  0.  0.  0.  0.  0.  0.  0.  0.  0.  0.  0.  0.]]\n"
     ]
    }
   ],
   "source": [
    "print(tensor(f[1],f[1].dag()))"
   ]
  },
  {
   "cell_type": "code",
   "execution_count": 125,
   "metadata": {},
   "outputs": [
    {
     "data": {
      "text/latex": [
       "Quantum object: dims = [[2, 2], [2, 2]], shape = (4, 4), type = oper, isherm = False $ \\\\ \\left(\\begin{matrix}0.0 & 0.0 & 0.0 & 0.0\\\\1.0 & 0.0 & 0.0 & 0.0\\\\0.0 & 0.0 & 0.0 & 0.0\\\\0.0 & 0.0 & -1.0 & 0.0\\\\\\end{matrix}\\right)$"
      ],
      "text/plain": [
       "Quantum object: dims = [[2, 2], [2, 2]], shape = (4, 4), type = oper, isherm = False\n",
       "Qobj data =\n",
       "[[ 0.  0.  0.  0.]\n",
       " [ 1.  0.  0.  0.]\n",
       " [ 0.  0.  0.  0.]\n",
       " [ 0.  0. -1.  0.]]"
      ]
     },
     "execution_count": 125,
     "metadata": {},
     "output_type": "execute_result"
    }
   ],
   "source": [
    "f[1]"
   ]
  },
  {
   "cell_type": "code",
   "execution_count": 121,
   "metadata": {},
   "outputs": [
    {
     "name": "stdout",
     "output_type": "stream",
     "text": [
      "  (1, 8)\t(1+0j)\n",
      "  (3, 10)\t(-1+0j)\n",
      "  (5, 12)\t(1+0j)\n",
      "  (7, 14)\t(-1+0j)\n"
     ]
    }
   ],
   "source": [
    "print(tensor(f[0].dag(),f[1]).data.tocoo())"
   ]
  },
  {
   "cell_type": "code",
   "execution_count": 122,
   "metadata": {},
   "outputs": [
    {
     "name": "stdout",
     "output_type": "stream",
     "text": [
      "  (2, 4)\t(1+0j)\n",
      "  (3, 5)\t(1+0j)\n",
      "  (10, 12)\t(-1+0j)\n",
      "  (11, 13)\t(-1+0j)\n"
     ]
    }
   ],
   "source": [
    "print(tensor(f[1].dag(),f[0]).data.tocoo())"
   ]
  },
  {
   "cell_type": "code",
   "execution_count": 114,
   "metadata": {},
   "outputs": [
    {
     "name": "stdout",
     "output_type": "stream",
     "text": [
      "  (0, 4)\t(1+0j)\n",
      "  (1, 5)\t(1+0j)\n",
      "  (2, 6)\t(1+0j)\n",
      "  (3, 7)\t(1+0j)\n",
      "  (8, 12)\t(-1+0j)\n",
      "  (9, 13)\t(-1+0j)\n",
      "  (10, 14)\t(-1+0j)\n",
      "  (11, 15)\t(-1+0j)\n"
     ]
    }
   ],
   "source": [
    "print(tensor(f[1].dag(),identity(4)).data.tocoo())"
   ]
  },
  {
   "cell_type": "code",
   "execution_count": 118,
   "metadata": {},
   "outputs": [
    {
     "name": "stdout",
     "output_type": "stream",
     "text": [
      "  (0, 1)\t(1-0j)\n",
      "  (2, 3)\t(-1-0j)\n",
      "  (4, 5)\t(-1-0j)\n",
      "  (6, 7)\t(1-0j)\n",
      "  (8, 9)\t(-1-0j)\n",
      "  (10, 11)\t(1-0j)\n",
      "  (12, 13)\t(1-0j)\n",
      "  (14, 15)\t(-1-0j)\n"
     ]
    }
   ],
   "source": [
    "print(f[3].dag().data.tocoo())"
   ]
  },
  {
   "cell_type": "code",
   "execution_count": 119,
   "metadata": {},
   "outputs": [
    {
     "name": "stdout",
     "output_type": "stream",
     "text": [
      "  (0, 2)\t(1-0j)\n",
      "  (1, 3)\t(1-0j)\n",
      "  (4, 6)\t(-1-0j)\n",
      "  (5, 7)\t(-1-0j)\n",
      "  (8, 10)\t(-1-0j)\n",
      "  (9, 11)\t(-1-0j)\n",
      "  (12, 14)\t(1-0j)\n",
      "  (13, 15)\t(1-0j)\n"
     ]
    }
   ],
   "source": [
    "print(f[2].dag().data.tocoo())"
   ]
  },
  {
   "cell_type": "code",
   "execution_count": 116,
   "metadata": {},
   "outputs": [
    {
     "name": "stdout",
     "output_type": "stream",
     "text": [
      "  (0, 4)\t(1-0j)\n",
      "  (1, 5)\t(1-0j)\n",
      "  (2, 6)\t(1-0j)\n",
      "  (3, 7)\t(1-0j)\n",
      "  (8, 12)\t(-1-0j)\n",
      "  (9, 13)\t(-1-0j)\n",
      "  (10, 14)\t(-1-0j)\n",
      "  (11, 15)\t(-1-0j)\n"
     ]
    }
   ],
   "source": [
    "print(f[1].dag().data.tocoo())"
   ]
  },
  {
   "cell_type": "code",
   "execution_count": 117,
   "metadata": {},
   "outputs": [
    {
     "name": "stdout",
     "output_type": "stream",
     "text": [
      "  (0, 8)\t(1-0j)\n",
      "  (1, 9)\t(1-0j)\n",
      "  (2, 10)\t(1-0j)\n",
      "  (3, 11)\t(1-0j)\n",
      "  (4, 12)\t(1-0j)\n",
      "  (5, 13)\t(1-0j)\n",
      "  (6, 14)\t(1-0j)\n",
      "  (7, 15)\t(1-0j)\n"
     ]
    }
   ],
   "source": [
    "print(f[0].dag().data.tocoo())"
   ]
  },
  {
   "cell_type": "code",
   "execution_count": 86,
   "metadata": {},
   "outputs": [
    {
     "data": {
      "text/plain": [
       "(Quantum object: dims = [[2, 2], [2, 2]], shape = (4, 4), type = oper, isherm = False\n",
       " Qobj data =\n",
       " [[0. 0. 0. 0.]\n",
       "  [0. 0. 0. 0.]\n",
       "  [1. 0. 0. 0.]\n",
       "  [0. 1. 0. 0.]],\n",
       " Quantum object: dims = [[2, 2], [2, 2]], shape = (4, 4), type = oper, isherm = False\n",
       " Qobj data =\n",
       " [[ 0.  0.  0.  0.]\n",
       "  [ 1.  0.  0.  0.]\n",
       "  [ 0.  0.  0.  0.]\n",
       "  [ 0.  0. -1.  0.]])"
      ]
     },
     "execution_count": 86,
     "metadata": {},
     "output_type": "execute_result"
    }
   ],
   "source": [
    "f[0],f[1]"
   ]
  },
  {
   "cell_type": "code",
   "execution_count": 41,
   "metadata": {},
   "outputs": [
    {
     "data": {
      "text/plain": [
       "array([[0.+0.j, 0.+0.j, 0.+0.j, 0.+0.j],\n",
       "       [0.+0.j, 0.+0.j, 0.+0.j, 0.+0.j],\n",
       "       [1.+0.j, 0.+0.j, 0.+0.j, 0.+0.j],\n",
       "       [0.+0.j, 1.+0.j, 0.+0.j, 0.+0.j]])"
      ]
     },
     "execution_count": 41,
     "metadata": {},
     "output_type": "execute_result"
    }
   ],
   "source": [
    "c[0].data.toarray()"
   ]
  },
  {
   "cell_type": "code",
   "execution_count": 55,
   "metadata": {},
   "outputs": [
    {
     "data": {
      "text/latex": [
       "Quantum object: dims = [[2, 2], [2, 2]], shape = (4, 4), type = oper, isherm = False $ \\\\ \\left(\\begin{matrix}0.0 & 0.0 & 0.0 & 0.0\\\\0.0 & 0.0 & 0.0 & 0.0\\\\1.0 & 0.0 & 0.0 & 0.0\\\\0.0 & 1.0 & 0.0 & 0.0\\\\\\end{matrix}\\right)$"
      ],
      "text/plain": [
       "Quantum object: dims = [[2, 2], [2, 2]], shape = (4, 4), type = oper, isherm = False\n",
       "Qobj data =\n",
       "[[0. 0. 0. 0.]\n",
       " [0. 0. 0. 0.]\n",
       " [1. 0. 0. 0.]\n",
       " [0. 1. 0. 0.]]"
      ]
     },
     "execution_count": 55,
     "metadata": {},
     "output_type": "execute_result"
    }
   ],
   "source": [
    "tensor(sigmam(),identity(2))"
   ]
  },
  {
   "cell_type": "code",
   "execution_count": 46,
   "metadata": {},
   "outputs": [
    {
     "data": {
      "text/plain": [
       "(1+0j)"
      ]
     },
     "execution_count": 46,
     "metadata": {},
     "output_type": "execute_result"
    }
   ],
   "source": [
    "c[0][3,1]"
   ]
  },
  {
   "cell_type": "code",
   "execution_count": 108,
   "metadata": {},
   "outputs": [
    {
     "data": {
      "text/plain": [
       "(Quantum object: dims = [[2, 2], [2, 2]], shape = (4, 4), type = oper, isherm = False\n",
       " Qobj data =\n",
       " [[0. 0. 1. 0.]\n",
       "  [0. 0. 0. 1.]\n",
       "  [0. 0. 0. 0.]\n",
       "  [0. 0. 0. 0.]],\n",
       " Quantum object: dims = [[2, 2], [2, 2]], shape = (4, 4), type = oper, isherm = False\n",
       " Qobj data =\n",
       " [[ 0.  1.  0.  0.]\n",
       "  [ 0.  0.  0.  0.]\n",
       "  [ 0.  0.  0. -1.]\n",
       "  [ 0.  0.  0.  0.]])"
      ]
     },
     "execution_count": 108,
     "metadata": {},
     "output_type": "execute_result"
    }
   ],
   "source": [
    "c[0].dag(),c[1].dag()"
   ]
  },
  {
   "cell_type": "code",
   "execution_count": 66,
   "metadata": {},
   "outputs": [],
   "source": [
    "ddagu=tensor(f[0].dag(),f[1].dag())\n",
    "ddagd=tensor(f[1].dag(),f[0].dag())"
   ]
  },
  {
   "cell_type": "code",
   "execution_count": 4,
   "metadata": {},
   "outputs": [],
   "source": [
    "Gamma=0.3\n",
    "H=(ddagu+ddagd)*Gamma\n",
    "H=H+H.dag()\n",
    "Hgfin=H.data.toarray()"
   ]
  },
  {
   "cell_type": "code",
   "execution_count": 5,
   "metadata": {},
   "outputs": [
    {
     "data": {
      "text/latex": [
       "Quantum object: dims = [[16], [16]], shape = (16, 16), type = oper, isherm = True $ \\\\ \\left(\\begin{matrix}0.0 & 0.0 & 0.0 & 0.0 & 0.0 & \\cdots & 0.0 & 0.0 & 0.0 & 0.0 & 0.0\\\\0.0 & 0.0 & 0.0 & 0.0 & 0.0 & \\cdots & 0.0 & 0.0 & 0.0 & 0.0 & 0.0\\\\0.0 & 0.0 & 0.0 & 0.0 & 0.0 & \\cdots & -0.300 & 0.0 & 0.0 & 0.0 & 0.0\\\\0.0 & 0.0 & 0.0 & 0.0 & 0.0 & \\cdots & 0.0 & 0.0 & 0.0 & 0.0 & 0.0\\\\0.0 & 0.0 & 0.0 & 0.0 & 0.0 & \\cdots & 0.0 & 0.0 & 0.300 & 0.0 & 0.0\\\\\\vdots & \\vdots & \\vdots & \\vdots & \\vdots & \\ddots & \\vdots & \\vdots & \\vdots & \\vdots & \\vdots\\\\0.0 & 0.0 & -0.300 & 0.0 & 0.0 & \\cdots & 0.0 & 0.0 & 0.0 & 0.0 & 0.0\\\\0.0 & 0.0 & 0.0 & 0.0 & 0.0 & \\cdots & 0.0 & 0.0 & 0.0 & 0.0 & 0.0\\\\0.0 & 0.0 & 0.0 & 0.0 & 0.300 & \\cdots & 0.0 & 0.0 & 0.0 & 0.0 & 0.0\\\\0.0 & 0.0 & 0.0 & 0.0 & 0.0 & \\cdots & 0.0 & 0.0 & 0.0 & 0.0 & 0.0\\\\0.0 & 0.0 & 0.0 & 0.0 & 0.0 & \\cdots & 0.0 & 0.0 & 0.0 & 0.0 & 0.0\\\\\\end{matrix}\\right)$"
      ],
      "text/plain": [
       "Quantum object: dims = [[16], [16]], shape = (16, 16), type = oper, isherm = True\n",
       "Qobj data =\n",
       "[[ 0.   0.   0.   0.   0.   0.   0.3  0.   0.   0.3  0.   0.   0.   0.\n",
       "   0.   0. ]\n",
       " [ 0.   0.   0.   0.   0.   0.   0.   0.3  0.   0.   0.   0.   0.   0.\n",
       "   0.   0. ]\n",
       " [ 0.   0.   0.   0.   0.   0.   0.   0.   0.   0.   0.  -0.3  0.   0.\n",
       "   0.   0. ]\n",
       " [ 0.   0.   0.   0.   0.   0.   0.   0.   0.   0.   0.   0.   0.   0.\n",
       "   0.   0. ]\n",
       " [ 0.   0.   0.   0.   0.   0.   0.   0.   0.   0.   0.   0.   0.   0.3\n",
       "   0.   0. ]\n",
       " [ 0.   0.   0.   0.   0.   0.   0.   0.   0.   0.   0.   0.   0.   0.\n",
       "   0.   0. ]\n",
       " [ 0.3  0.   0.   0.   0.   0.   0.   0.   0.   0.   0.   0.   0.   0.\n",
       "   0.  -0.3]\n",
       " [ 0.   0.3  0.   0.   0.   0.   0.   0.   0.   0.   0.   0.   0.   0.\n",
       "   0.   0. ]\n",
       " [ 0.   0.   0.   0.   0.   0.   0.   0.   0.   0.   0.   0.   0.   0.\n",
       "  -0.3  0. ]\n",
       " [ 0.3  0.   0.   0.   0.   0.   0.   0.   0.   0.   0.   0.   0.   0.\n",
       "   0.  -0.3]\n",
       " [ 0.   0.   0.   0.   0.   0.   0.   0.   0.   0.   0.   0.   0.   0.\n",
       "   0.   0. ]\n",
       " [ 0.   0.  -0.3  0.   0.   0.   0.   0.   0.   0.   0.   0.   0.   0.\n",
       "   0.   0. ]\n",
       " [ 0.   0.   0.   0.   0.   0.   0.   0.   0.   0.   0.   0.   0.   0.\n",
       "   0.   0. ]\n",
       " [ 0.   0.   0.   0.   0.3  0.   0.   0.   0.   0.   0.   0.   0.   0.\n",
       "   0.   0. ]\n",
       " [ 0.   0.   0.   0.   0.   0.   0.   0.  -0.3  0.   0.   0.   0.   0.\n",
       "   0.   0. ]\n",
       " [ 0.   0.   0.   0.   0.   0.  -0.3  0.   0.  -0.3  0.   0.   0.   0.\n",
       "   0.   0. ]]"
      ]
     },
     "execution_count": 5,
     "metadata": {},
     "output_type": "execute_result"
    }
   ],
   "source": [
    "Qobj(Hgfin)"
   ]
  },
  {
   "cell_type": "code",
   "execution_count": 6,
   "metadata": {},
   "outputs": [
    {
     "data": {
      "text/latex": [
       "Quantum object: dims = [[16], [16]], shape = (16, 16), type = oper, isherm = True $ \\\\ \\left(\\begin{matrix}0.0 & 0.0 & 0.0 & 0.0 & 0.0 & \\cdots & 0.0 & 0.0 & 0.0 & 0.0 & 0.0\\\\0.0 & -1.500 & 0.0 & 0.0 & 0.0 & \\cdots & 0.0 & 0.0 & 0.0 & 0.0 & 0.0\\\\0.0 & 0.0 & -1.500 & 0.0 & 0.0 & \\cdots & -0.300 & 0.0 & 0.0 & 0.0 & 0.0\\\\0.0 & 0.0 & 0.0 & 0.0 & 0.0 & \\cdots & 0.0 & 0.0 & 0.0 & 0.0 & 0.0\\\\0.0 & 0.0 & 0.0 & 0.0 & 0.0 & \\cdots & 0.0 & 0.0 & 0.300 & 0.0 & 0.0\\\\\\vdots & \\vdots & \\vdots & \\vdots & \\vdots & \\ddots & \\vdots & \\vdots & \\vdots & \\vdots & \\vdots\\\\0.0 & 0.0 & -0.300 & 0.0 & 0.0 & \\cdots & 0.0 & 0.0 & 0.0 & 0.0 & 0.0\\\\0.0 & 0.0 & 0.0 & 0.0 & 0.0 & \\cdots & 0.0 & 0.0 & 0.0 & 0.0 & 0.0\\\\0.0 & 0.0 & 0.0 & 0.0 & 0.300 & \\cdots & 0.0 & 0.0 & -1.500 & 0.0 & 0.0\\\\0.0 & 0.0 & 0.0 & 0.0 & 0.0 & \\cdots & 0.0 & 0.0 & 0.0 & -1.500 & 0.0\\\\0.0 & 0.0 & 0.0 & 0.0 & 0.0 & \\cdots & 0.0 & 0.0 & 0.0 & 0.0 & 0.0\\\\\\end{matrix}\\right)$"
      ],
      "text/plain": [
       "Quantum object: dims = [[16], [16]], shape = (16, 16), type = oper, isherm = True\n",
       "Qobj data =\n",
       "[[ 0.   0.   0.   0.   0.   0.   0.3  0.   0.   0.3  0.   0.   0.   0.\n",
       "   0.   0. ]\n",
       " [ 0.  -1.5  0.   0.   0.   0.   0.   0.3  0.   0.   0.   0.   0.   0.\n",
       "   0.   0. ]\n",
       " [ 0.   0.  -1.5  0.   0.   0.   0.   0.   0.   0.   0.  -0.3  0.   0.\n",
       "   0.   0. ]\n",
       " [ 0.   0.   0.   0.   0.   0.   0.   0.   0.   0.   0.   0.   0.   0.\n",
       "   0.   0. ]\n",
       " [ 0.   0.   0.   0.   0.   0.   0.   0.   0.   0.   0.   0.   0.   0.3\n",
       "   0.   0. ]\n",
       " [ 0.   0.   0.   0.   0.  -1.5  0.   0.   0.   0.   0.   0.   0.   0.\n",
       "   0.   0. ]\n",
       " [ 0.3  0.   0.   0.   0.   0.  -1.5  0.   0.   0.   0.   0.   0.   0.\n",
       "   0.  -0.3]\n",
       " [ 0.   0.3  0.   0.   0.   0.   0.   0.   0.   0.   0.   0.   0.   0.\n",
       "   0.   0. ]\n",
       " [ 0.   0.   0.   0.   0.   0.   0.   0.   0.   0.   0.   0.   0.   0.\n",
       "  -0.3  0. ]\n",
       " [ 0.3  0.   0.   0.   0.   0.   0.   0.   0.  -1.5  0.   0.   0.   0.\n",
       "   0.  -0.3]\n",
       " [ 0.   0.   0.   0.   0.   0.   0.   0.   0.   0.  -1.5  0.   0.   0.\n",
       "   0.   0. ]\n",
       " [ 0.   0.  -0.3  0.   0.   0.   0.   0.   0.   0.   0.   0.   0.   0.\n",
       "   0.   0. ]\n",
       " [ 0.   0.   0.   0.   0.   0.   0.   0.   0.   0.   0.   0.   0.   0.\n",
       "   0.   0. ]\n",
       " [ 0.   0.   0.   0.   0.3  0.   0.   0.   0.   0.   0.   0.   0.  -1.5\n",
       "   0.   0. ]\n",
       " [ 0.   0.   0.   0.   0.   0.   0.   0.  -0.3  0.   0.   0.   0.   0.\n",
       "  -1.5  0. ]\n",
       " [ 0.   0.   0.   0.   0.   0.  -0.3  0.   0.  -0.3  0.   0.   0.   0.\n",
       "   0.   0. ]]"
      ]
     },
     "execution_count": 6,
     "metadata": {},
     "output_type": "execute_result"
    }
   ],
   "source": [
    "dof=f[0].shape[0]\n",
    "Ed=-3/2\n",
    "U=3\n",
    "\n",
    "for i in range(dof):\n",
    "    Hgfin[i*dof+1,i*dof+1]=Ed\n",
    "    Hgfin[i*dof+2,i*dof+2]=Ed\n",
    "    Hgfin[i*dof+3,i*dof+3]=2*Ed+U\n",
    "Qobj(Hgfin)"
   ]
  },
  {
   "cell_type": "code",
   "execution_count": 67,
   "metadata": {},
   "outputs": [],
   "source": [
    "fdagu=tensor(f[0].dag(),identity(4)).data.toarray()\n",
    "fdagd=tensor(f[1].dag(),identity(4)).data.toarray()"
   ]
  },
  {
   "cell_type": "code",
   "execution_count": 53,
   "metadata": {},
   "outputs": [
    {
     "data": {
      "text/plain": [
       "array([[0.+0.j, 0.+0.j, 0.+0.j, 0.+0.j, 0.+0.j, 0.+0.j, 0.+0.j, 0.+0.j,\n",
       "        1.+0.j, 0.+0.j, 0.+0.j, 0.+0.j, 0.+0.j, 0.+0.j, 0.+0.j, 0.+0.j],\n",
       "       [0.+0.j, 0.+0.j, 0.+0.j, 0.+0.j, 0.+0.j, 0.+0.j, 0.+0.j, 0.+0.j,\n",
       "        0.+0.j, 1.+0.j, 0.+0.j, 0.+0.j, 0.+0.j, 0.+0.j, 0.+0.j, 0.+0.j],\n",
       "       [0.+0.j, 0.+0.j, 0.+0.j, 0.+0.j, 0.+0.j, 0.+0.j, 0.+0.j, 0.+0.j,\n",
       "        0.+0.j, 0.+0.j, 1.+0.j, 0.+0.j, 0.+0.j, 0.+0.j, 0.+0.j, 0.+0.j],\n",
       "       [0.+0.j, 0.+0.j, 0.+0.j, 0.+0.j, 0.+0.j, 0.+0.j, 0.+0.j, 0.+0.j,\n",
       "        0.+0.j, 0.+0.j, 0.+0.j, 1.+0.j, 0.+0.j, 0.+0.j, 0.+0.j, 0.+0.j],\n",
       "       [0.+0.j, 0.+0.j, 0.+0.j, 0.+0.j, 0.+0.j, 0.+0.j, 0.+0.j, 0.+0.j,\n",
       "        0.+0.j, 0.+0.j, 0.+0.j, 0.+0.j, 1.+0.j, 0.+0.j, 0.+0.j, 0.+0.j],\n",
       "       [0.+0.j, 0.+0.j, 0.+0.j, 0.+0.j, 0.+0.j, 0.+0.j, 0.+0.j, 0.+0.j,\n",
       "        0.+0.j, 0.+0.j, 0.+0.j, 0.+0.j, 0.+0.j, 1.+0.j, 0.+0.j, 0.+0.j],\n",
       "       [0.+0.j, 0.+0.j, 0.+0.j, 0.+0.j, 0.+0.j, 0.+0.j, 0.+0.j, 0.+0.j,\n",
       "        0.+0.j, 0.+0.j, 0.+0.j, 0.+0.j, 0.+0.j, 0.+0.j, 1.+0.j, 0.+0.j],\n",
       "       [0.+0.j, 0.+0.j, 0.+0.j, 0.+0.j, 0.+0.j, 0.+0.j, 0.+0.j, 0.+0.j,\n",
       "        0.+0.j, 0.+0.j, 0.+0.j, 0.+0.j, 0.+0.j, 0.+0.j, 0.+0.j, 1.+0.j],\n",
       "       [0.+0.j, 0.+0.j, 0.+0.j, 0.+0.j, 0.+0.j, 0.+0.j, 0.+0.j, 0.+0.j,\n",
       "        0.+0.j, 0.+0.j, 0.+0.j, 0.+0.j, 0.+0.j, 0.+0.j, 0.+0.j, 0.+0.j],\n",
       "       [0.+0.j, 0.+0.j, 0.+0.j, 0.+0.j, 0.+0.j, 0.+0.j, 0.+0.j, 0.+0.j,\n",
       "        0.+0.j, 0.+0.j, 0.+0.j, 0.+0.j, 0.+0.j, 0.+0.j, 0.+0.j, 0.+0.j],\n",
       "       [0.+0.j, 0.+0.j, 0.+0.j, 0.+0.j, 0.+0.j, 0.+0.j, 0.+0.j, 0.+0.j,\n",
       "        0.+0.j, 0.+0.j, 0.+0.j, 0.+0.j, 0.+0.j, 0.+0.j, 0.+0.j, 0.+0.j],\n",
       "       [0.+0.j, 0.+0.j, 0.+0.j, 0.+0.j, 0.+0.j, 0.+0.j, 0.+0.j, 0.+0.j,\n",
       "        0.+0.j, 0.+0.j, 0.+0.j, 0.+0.j, 0.+0.j, 0.+0.j, 0.+0.j, 0.+0.j],\n",
       "       [0.+0.j, 0.+0.j, 0.+0.j, 0.+0.j, 0.+0.j, 0.+0.j, 0.+0.j, 0.+0.j,\n",
       "        0.+0.j, 0.+0.j, 0.+0.j, 0.+0.j, 0.+0.j, 0.+0.j, 0.+0.j, 0.+0.j],\n",
       "       [0.+0.j, 0.+0.j, 0.+0.j, 0.+0.j, 0.+0.j, 0.+0.j, 0.+0.j, 0.+0.j,\n",
       "        0.+0.j, 0.+0.j, 0.+0.j, 0.+0.j, 0.+0.j, 0.+0.j, 0.+0.j, 0.+0.j],\n",
       "       [0.+0.j, 0.+0.j, 0.+0.j, 0.+0.j, 0.+0.j, 0.+0.j, 0.+0.j, 0.+0.j,\n",
       "        0.+0.j, 0.+0.j, 0.+0.j, 0.+0.j, 0.+0.j, 0.+0.j, 0.+0.j, 0.+0.j],\n",
       "       [0.+0.j, 0.+0.j, 0.+0.j, 0.+0.j, 0.+0.j, 0.+0.j, 0.+0.j, 0.+0.j,\n",
       "        0.+0.j, 0.+0.j, 0.+0.j, 0.+0.j, 0.+0.j, 0.+0.j, 0.+0.j, 0.+0.j]])"
      ]
     },
     "execution_count": 53,
     "metadata": {},
     "output_type": "execute_result"
    }
   ],
   "source": [
    "fdagu"
   ]
  },
  {
   "cell_type": "code",
   "execution_count": 59,
   "metadata": {},
   "outputs": [],
   "source": [
    "Q=-1.j*sigmay()\n",
    "Sz=sigmaz()"
   ]
  },
  {
   "cell_type": "code",
   "execution_count": 54,
   "metadata": {},
   "outputs": [],
   "source": [
    "Sz,Qz=np.array([0, 1, -1, 0]),np.array([-1, 0, 0, 1])\n",
    "Kodep=(Sz+50)*100+(Qz+50)"
   ]
  },
  {
   "cell_type": "code",
   "execution_count": 55,
   "metadata": {},
   "outputs": [],
   "source": [
    "dSz,dQz=np.array([0, 1, -1, 0]),np.array([-1, 0, 0, 1])\n",
    "\n",
    "def delta_enkode(dSz,dQz):\n",
    "    return dSz*100 + dQz\n",
    "\n",
    "\n",
    "Kode=np.array([])\n",
    "for i in range(dof):\n",
    "    Kode=np.append(Kode,Kodep + delta_enkode(dSz[i],dQz[i])).flatten() "
   ]
  },
  {
   "cell_type": "code",
   "execution_count": 10,
   "metadata": {},
   "outputs": [
    {
     "data": {
      "text/plain": [
       "(array([5049, 5150, 4950, 5051]),\n",
       " array([5048., 5149., 4949., 5050., 5149., 5250., 5050., 5151., 4949.,\n",
       "        5050., 4850., 4951., 5050., 5151., 4951., 5052.]))"
      ]
     },
     "execution_count": 10,
     "metadata": {},
     "output_type": "execute_result"
    }
   ],
   "source": [
    "Kodep,Kode"
   ]
  },
  {
   "cell_type": "code",
   "execution_count": 56,
   "metadata": {},
   "outputs": [],
   "source": [
    "L=dof\n",
    "newL=dof*L"
   ]
  },
  {
   "cell_type": "code",
   "execution_count": 12,
   "metadata": {},
   "outputs": [
    {
     "data": {
      "text/plain": [
       "array([5048., 5149., 4949., 5050., 5149., 5250., 5050., 5151., 4949.,\n",
       "       5050., 4850., 4951., 5050., 5151., 4951., 5052.])"
      ]
     },
     "execution_count": 12,
     "metadata": {},
     "output_type": "execute_result"
    }
   ],
   "source": [
    "Kode[:newL]"
   ]
  },
  {
   "cell_type": "code",
   "execution_count": 13,
   "metadata": {},
   "outputs": [
    {
     "data": {
      "text/plain": [
       "array([5048., 5149., 4949., 5050., 5149., 5250., 5050., 5151., 4949.,\n",
       "       5050., 4850., 4951., 5050., 5151., 4951., 5052.])"
      ]
     },
     "execution_count": 13,
     "metadata": {},
     "output_type": "execute_result"
    }
   ],
   "source": [
    "Kode"
   ]
  },
  {
   "cell_type": "code",
   "execution_count": 14,
   "metadata": {},
   "outputs": [
    {
     "data": {
      "text/plain": [
       "array([5049, 5150, 4950, 5051])"
      ]
     },
     "execution_count": 14,
     "metadata": {},
     "output_type": "execute_result"
    }
   ],
   "source": [
    "Kodep"
   ]
  },
  {
   "cell_type": "code",
   "execution_count": 57,
   "metadata": {},
   "outputs": [],
   "source": [
    "xK=np.unique(Kode[:newL])\n",
    "nK=xK.shape[0]\n",
    "iK=0\n",
    "E=np.zeros(newL)\n",
    "c=np.zeros((newL,newL))\n",
    "Hk=np.zeros((newL,newL))\n",
    "Kodep=np.append(Kodep,np.zeros(newL-L))\n",
    "\n",
    "for blk in range(nK):\n",
    "    b=np.argwhere(Kode[:newL] == xK[blk])\n",
    "    LK=b.shape[0]\n",
    "\n",
    "    for i in range(LK):\n",
    "        for j in range(LK):\n",
    "            Hk[i,j]=Hgfin[b[i,0],b[j,0]]\n",
    "\n",
    "    EK,cK=scipy.linalg.eigh(Hk[:LK,:LK])\n",
    "\n",
    "    for i in range(LK):\n",
    "        for j in range(LK):\n",
    "            c[b[i,0],b[j,0]]=cK[i,j]\n",
    "        E[b[i,0]]=EK[i]\n",
    "        Kodep[b[i,0]]=xK[blk]\n",
    "    iK+=LK\n",
    "\n",
    "Lambda = 3.0\n",
    "\n",
    "E*=Lambda**(-0.5)"
   ]
  },
  {
   "cell_type": "code",
   "execution_count": 16,
   "metadata": {},
   "outputs": [
    {
     "data": {
      "text/plain": [
       "array([ 0.       , -0.8660254, -0.8660254, -0.8660254,  0.       ,\n",
       "       -0.8660254, -0.8660254, -0.8660254,  0.       ,  0.       ,\n",
       "       -0.8660254, -0.8660254,  0.       ,  0.       ,  0.       ,\n",
       "        0.       ])"
      ]
     },
     "execution_count": 16,
     "metadata": {},
     "output_type": "execute_result"
    }
   ],
   "source": [
    "E"
   ]
  },
  {
   "cell_type": "code",
   "execution_count": 17,
   "metadata": {},
   "outputs": [
    {
     "data": {
      "text/plain": [
       "(array([ 0.       , -0.8660254, -0.8660254, -0.8660254,  0.       ,\n",
       "        -0.8660254, -0.8660254, -0.8660254,  0.       ,  0.       ,\n",
       "        -0.8660254, -0.8660254,  0.       ,  0.       ,  0.       ,\n",
       "         0.       ]),\n",
       " array([[ 1.,  0.,  0.,  0.,  0.,  0.,  0.,  0.,  0.,  0.,  0.,  0.,  0.,\n",
       "          0.,  0.,  0.],\n",
       "        [ 0., -1.,  0.,  0., -0.,  0.,  0.,  0.,  0.,  0.,  0.,  0.,  0.,\n",
       "          0.,  0.,  0.],\n",
       "        [ 0.,  0., -1.,  0.,  0.,  0.,  0.,  0., -0.,  0.,  0.,  0.,  0.,\n",
       "          0.,  0.,  0.],\n",
       "        [ 0.,  0.,  0.,  0.,  0.,  0.,  0.,  0.,  0.,  1.,  0.,  0.,  0.,\n",
       "          0.,  0.,  0.],\n",
       "        [ 0.,  0.,  0.,  0., -1.,  0.,  0.,  0.,  0.,  0.,  0.,  0.,  0.,\n",
       "          0.,  0.,  0.],\n",
       "        [ 0.,  0.,  0.,  0.,  0.,  1.,  0.,  0.,  0.,  0.,  0.,  0.,  0.,\n",
       "          0.,  0.,  0.],\n",
       "        [ 0.,  0.,  0.,  1.,  0.,  0.,  0.,  0.,  0.,  0.,  0.,  0.,  0.,\n",
       "          0.,  0.,  0.],\n",
       "        [ 0.,  0.,  0.,  0.,  0.,  0.,  0., -0.,  0.,  0.,  0.,  0.,  0.,\n",
       "         -1.,  0.,  0.],\n",
       "        [ 0.,  0.,  0.,  0.,  0.,  0.,  0.,  0., -1.,  0.,  0.,  0.,  0.,\n",
       "          0.,  0.,  0.],\n",
       "        [ 0.,  0.,  0.,  0.,  0.,  0.,  1.,  0.,  0.,  0.,  0.,  0.,  0.,\n",
       "          0.,  0.,  0.],\n",
       "        [ 0.,  0.,  0.,  0.,  0.,  0.,  0.,  0.,  0.,  0.,  1.,  0.,  0.,\n",
       "          0.,  0.,  0.],\n",
       "        [ 0.,  0.,  0.,  0.,  0.,  0.,  0.,  0.,  0.,  0.,  0., -0.,  0.,\n",
       "          0., -1.,  0.],\n",
       "        [ 0.,  0.,  0.,  0.,  0.,  0.,  0.,  0.,  0.,  0.,  0.,  0.,  1.,\n",
       "          0.,  0.,  0.],\n",
       "        [ 0.,  0.,  0.,  0.,  0.,  0.,  0.,  1.,  0.,  0.,  0.,  0.,  0.,\n",
       "         -0.,  0.,  0.],\n",
       "        [ 0.,  0.,  0.,  0.,  0.,  0.,  0.,  0.,  0.,  0.,  0.,  1.,  0.,\n",
       "          0., -0.,  0.],\n",
       "        [ 0.,  0.,  0.,  0.,  0.,  0.,  0.,  0.,  0.,  0.,  0.,  0.,  0.,\n",
       "          0.,  0.,  1.]]),\n",
       " array([5048., 5149., 4949., 5050., 5149., 5250., 5050., 5151., 4949.,\n",
       "        5050., 4850., 4951., 5050., 5151., 4951., 5052.]),\n",
       " 16)"
      ]
     },
     "execution_count": 17,
     "metadata": {},
     "output_type": "execute_result"
    }
   ],
   "source": [
    "E,c,Kodep,newL"
   ]
  },
  {
   "cell_type": "code",
   "execution_count": 58,
   "metadata": {},
   "outputs": [],
   "source": [
    "def Esort(E0,c0,Kodep0,L):\n",
    "    ix=np.argsort(E0)\n",
    "    Es=E0[ix]\n",
    "    cs=np.zeros((L,L))\n",
    "    Ks=np.zeros(L)\n",
    "    for i in range(L):\n",
    "        cs[:,i]=c0[:,ix[i]]\n",
    "        Ks[i]=Kodep0[ix[i]]\n",
    "    return (Es,cs,Ks)\n",
    "\n",
    "(E,c,Kodep) = Esort(E,c,Kodep,newL)"
   ]
  },
  {
   "cell_type": "code",
   "execution_count": 59,
   "metadata": {},
   "outputs": [
    {
     "data": {
      "text/plain": [
       "(array([-0.8660254, -0.8660254, -0.8660254, -0.8660254, -0.8660254,\n",
       "        -0.8660254, -0.8660254, -0.8660254,  0.       ,  0.       ,\n",
       "         0.       ,  0.       ,  0.       ,  0.       ,  0.       ,\n",
       "         0.       ]),\n",
       " 16)"
      ]
     },
     "execution_count": 59,
     "metadata": {},
     "output_type": "execute_result"
    }
   ],
   "source": [
    "E,newL"
   ]
  },
  {
   "cell_type": "code",
   "execution_count": 60,
   "metadata": {},
   "outputs": [],
   "source": [
    "def Impose(E0,L,SMALL):\n",
    "    E1=E0\n",
    "    i=0\n",
    "    while i<L:\n",
    "        j=i+1\n",
    "        while j<L and abs(E0[j]-E0[i])<SMALL:\n",
    "            j+=1\n",
    "        E1[i:j]=np.mean(E0[i:j])\n",
    "        i=j\n",
    "    return E1\n",
    "\n",
    "KEPT=800\n",
    "K=newL\n",
    "IMPOSE = True\n",
    "SMALL = 1e-6\n",
    "if newL>KEPT:\n",
    "    newL=KEPT\n",
    "if IMPOSE:\n",
    "    E=Impose(E,newL,SMALL)\n",
    "\n",
    "E=E-E[0]"
   ]
  },
  {
   "cell_type": "code",
   "execution_count": 61,
   "metadata": {},
   "outputs": [
    {
     "data": {
      "text/plain": [
       "array([0.       , 0.       , 0.       , 0.       , 0.       , 0.       ,\n",
       "       0.       , 0.       , 0.8660254, 0.8660254, 0.8660254, 0.8660254,\n",
       "       0.8660254, 0.8660254, 0.8660254, 0.8660254])"
      ]
     },
     "execution_count": 61,
     "metadata": {},
     "output_type": "execute_result"
    }
   ],
   "source": [
    "E"
   ]
  },
  {
   "cell_type": "code",
   "execution_count": 23,
   "metadata": {},
   "outputs": [
    {
     "data": {
      "text/plain": [
       "16"
      ]
     },
     "execution_count": 23,
     "metadata": {},
     "output_type": "execute_result"
    }
   ],
   "source": [
    "newL"
   ]
  },
  {
   "cell_type": "code",
   "execution_count": 31,
   "metadata": {},
   "outputs": [
    {
     "data": {
      "text/plain": [
       "array([[ 0., -1.,  0.,  0.,  0.,  0.,  0.,  0.,  0.,  0.,  0.,  0.,  0.,\n",
       "         0.,  0.,  0.],\n",
       "       [ 0.,  0., -1.,  0.,  0.,  0.,  0.,  0.,  0.,  0.,  0.,  0.,  0.,\n",
       "         0.,  0.,  0.],\n",
       "       [ 0.,  0.,  0.,  0.,  0.,  0.,  1.,  0.,  0.,  0.,  0.,  0.,  0.,\n",
       "         0.,  0.,  0.],\n",
       "       [ 0.,  0.,  0.,  0.,  0.,  1.,  0.,  0.,  0.,  0.,  0.,  0.,  0.,\n",
       "         0.,  0.,  0.],\n",
       "       [ 0.,  0.,  0.,  0.,  0.,  0.,  0.,  0.,  0.,  1.,  0.,  0.,  0.,\n",
       "         0.,  0.,  0.],\n",
       "       [ 0.,  0.,  0.,  0.,  0.,  0.,  0., -0.,  0.,  0.,  0.,  0.,  0.,\n",
       "         1.,  0.,  0.],\n",
       "       [ 0.,  0.,  0.,  0.,  0.,  0.,  0.,  0.,  0.,  0.,  1.,  0.,  0.,\n",
       "         0.,  0.,  0.],\n",
       "       [ 0.,  0.,  0.,  0.,  0.,  0.,  0.,  0.,  0.,  0.,  0., -0.,  0.,\n",
       "         0.,  1.,  0.],\n",
       "       [ 1.,  0.,  0.,  0.,  0.,  0.,  0.,  0.,  0.,  0.,  0.,  0.,  0.,\n",
       "         0.,  0.,  0.],\n",
       "       [ 0., -0.,  0.,  0., -1.,  0.,  0.,  0.,  0.,  0.,  0.,  0.,  0.,\n",
       "         0.,  0.,  0.],\n",
       "       [ 0.,  0., -0.,  0.,  0.,  0.,  0.,  0., -1.,  0.,  0.,  0.,  0.,\n",
       "         0.,  0.,  0.],\n",
       "       [ 0.,  0.,  0.,  1.,  0.,  0.,  0.,  0.,  0.,  0.,  0.,  0.,  0.,\n",
       "         0.,  0.,  0.],\n",
       "       [ 0.,  0.,  0.,  0.,  0.,  0.,  0.,  0.,  0.,  0.,  0.,  0.,  1.,\n",
       "         0.,  0.,  0.],\n",
       "       [ 0.,  0.,  0.,  0.,  0.,  0.,  0., -1.,  0.,  0.,  0.,  0.,  0.,\n",
       "        -0.,  0.,  0.],\n",
       "       [ 0.,  0.,  0.,  0.,  0.,  0.,  0.,  0.,  0.,  0.,  0., -1.,  0.,\n",
       "         0., -0.,  0.],\n",
       "       [ 0.,  0.,  0.,  0.,  0.,  0.,  0.,  0.,  0.,  0.,  0.,  0.,  0.,\n",
       "         0.,  0.,  1.]])"
      ]
     },
     "execution_count": 31,
     "metadata": {},
     "output_type": "execute_result"
    }
   ],
   "source": [
    "fdagu.dag()\n",
    "c[:K,:newL].conj().T"
   ]
  },
  {
   "cell_type": "code",
   "execution_count": 49,
   "metadata": {},
   "outputs": [
    {
     "data": {
      "text/plain": [
       "array([[ 0.+0.j,  0.+0.j,  0.+0.j,  0.+0.j,  1.+0.j,  0.+0.j,  0.+0.j,\n",
       "         0.+0.j,  0.+0.j,  0.+0.j,  0.+0.j,  0.+0.j,  0.+0.j,  0.+0.j,\n",
       "         0.+0.j,  0.+0.j],\n",
       "       [ 0.+0.j,  0.+0.j,  0.+0.j,  0.+0.j,  0.+0.j,  1.+0.j,  0.+0.j,\n",
       "         0.+0.j,  0.+0.j,  0.+0.j,  0.+0.j,  0.+0.j,  0.+0.j,  0.+0.j,\n",
       "         0.+0.j,  0.+0.j],\n",
       "       [ 0.+0.j,  0.+0.j,  0.+0.j,  0.+0.j,  0.+0.j,  0.+0.j,  1.+0.j,\n",
       "         0.+0.j,  0.+0.j,  0.+0.j,  0.+0.j,  0.+0.j,  0.+0.j,  0.+0.j,\n",
       "         0.+0.j,  0.+0.j],\n",
       "       [ 0.+0.j,  0.+0.j,  0.+0.j,  0.+0.j,  0.+0.j,  0.+0.j,  0.+0.j,\n",
       "         1.+0.j,  0.+0.j,  0.+0.j,  0.+0.j,  0.+0.j,  0.+0.j,  0.+0.j,\n",
       "         0.+0.j,  0.+0.j],\n",
       "       [ 0.+0.j,  0.+0.j,  0.+0.j,  0.+0.j,  0.+0.j,  0.+0.j,  0.+0.j,\n",
       "         0.+0.j,  0.+0.j,  0.+0.j,  0.+0.j,  0.+0.j,  0.+0.j,  0.+0.j,\n",
       "         0.+0.j,  0.+0.j],\n",
       "       [ 0.+0.j,  0.+0.j,  0.+0.j,  0.+0.j,  0.+0.j,  0.+0.j,  0.+0.j,\n",
       "         0.+0.j,  0.+0.j,  0.+0.j,  0.+0.j,  0.+0.j,  0.+0.j,  0.+0.j,\n",
       "         0.+0.j,  0.+0.j],\n",
       "       [ 0.+0.j,  0.+0.j,  0.+0.j,  0.+0.j,  0.+0.j,  0.+0.j,  0.+0.j,\n",
       "         0.+0.j,  0.+0.j,  0.+0.j,  0.+0.j,  0.+0.j,  0.+0.j,  0.+0.j,\n",
       "         0.+0.j,  0.+0.j],\n",
       "       [ 0.+0.j,  0.+0.j,  0.+0.j,  0.+0.j,  0.+0.j,  0.+0.j,  0.+0.j,\n",
       "         0.+0.j,  0.+0.j,  0.+0.j,  0.+0.j,  0.+0.j,  0.+0.j,  0.+0.j,\n",
       "         0.+0.j,  0.+0.j],\n",
       "       [ 0.+0.j,  0.+0.j,  0.+0.j,  0.+0.j,  0.+0.j,  0.+0.j,  0.+0.j,\n",
       "         0.+0.j,  0.+0.j,  0.+0.j,  0.+0.j,  0.+0.j, -1.+0.j,  0.+0.j,\n",
       "         0.+0.j,  0.+0.j],\n",
       "       [ 0.+0.j,  0.+0.j,  0.+0.j,  0.+0.j,  0.+0.j,  0.+0.j,  0.+0.j,\n",
       "         0.+0.j,  0.+0.j,  0.+0.j,  0.+0.j,  0.+0.j,  0.+0.j, -1.+0.j,\n",
       "         0.+0.j,  0.+0.j],\n",
       "       [ 0.+0.j,  0.+0.j,  0.+0.j,  0.+0.j,  0.+0.j,  0.+0.j,  0.+0.j,\n",
       "         0.+0.j,  0.+0.j,  0.+0.j,  0.+0.j,  0.+0.j,  0.+0.j,  0.+0.j,\n",
       "        -1.+0.j,  0.+0.j],\n",
       "       [ 0.+0.j,  0.+0.j,  0.+0.j,  0.+0.j,  0.+0.j,  0.+0.j,  0.+0.j,\n",
       "         0.+0.j,  0.+0.j,  0.+0.j,  0.+0.j,  0.+0.j,  0.+0.j,  0.+0.j,\n",
       "         0.+0.j, -1.+0.j],\n",
       "       [ 0.+0.j,  0.+0.j,  0.+0.j,  0.+0.j,  0.+0.j,  0.+0.j,  0.+0.j,\n",
       "         0.+0.j,  0.+0.j,  0.+0.j,  0.+0.j,  0.+0.j,  0.+0.j,  0.+0.j,\n",
       "         0.+0.j,  0.+0.j],\n",
       "       [ 0.+0.j,  0.+0.j,  0.+0.j,  0.+0.j,  0.+0.j,  0.+0.j,  0.+0.j,\n",
       "         0.+0.j,  0.+0.j,  0.+0.j,  0.+0.j,  0.+0.j,  0.+0.j,  0.+0.j,\n",
       "         0.+0.j,  0.+0.j],\n",
       "       [ 0.+0.j,  0.+0.j,  0.+0.j,  0.+0.j,  0.+0.j,  0.+0.j,  0.+0.j,\n",
       "         0.+0.j,  0.+0.j,  0.+0.j,  0.+0.j,  0.+0.j,  0.+0.j,  0.+0.j,\n",
       "         0.+0.j,  0.+0.j],\n",
       "       [ 0.+0.j,  0.+0.j,  0.+0.j,  0.+0.j,  0.+0.j,  0.+0.j,  0.+0.j,\n",
       "         0.+0.j,  0.+0.j,  0.+0.j,  0.+0.j,  0.+0.j,  0.+0.j,  0.+0.j,\n",
       "         0.+0.j,  0.+0.j]])"
      ]
     },
     "execution_count": 49,
     "metadata": {},
     "output_type": "execute_result"
    }
   ],
   "source": [
    "fdagd"
   ]
  },
  {
   "cell_type": "code",
   "execution_count": 48,
   "metadata": {},
   "outputs": [
    {
     "data": {
      "text/plain": [
       "array([[ 0., -0.,  0.,  0.,  0.,  0.,  0.,  0.,  0.,  0.,  0.,  0.,  0.,\n",
       "         0.,  0.,  0.],\n",
       "       [-0.,  0., -0.,  0.,  0.,  0.,  0.,  0.,  0., -0.,  0.,  0.,  0.,\n",
       "         0.,  0.,  0.],\n",
       "       [ 0., -0.,  0.,  0.,  0.,  0.,  0.,  0.,  0.,  0., -0.,  0.,  0.,\n",
       "         0.,  0.,  0.],\n",
       "       [ 0.,  0.,  0.,  0.,  0.,  0.,  0.,  0.,  0.,  0.,  0.,  0.,  0.,\n",
       "         0.,  0.,  0.],\n",
       "       [ 0.,  0.,  0.,  0.,  0.,  0.,  0.,  0.,  0., -1.,  0.,  0.,  0.,\n",
       "         0.,  0.,  0.],\n",
       "       [ 0.,  0.,  0.,  0.,  0.,  0.,  0., -0.,  0.,  0.,  0.,  0.,  0.,\n",
       "         0.,  0.,  0.],\n",
       "       [ 0.,  0.,  0.,  0.,  0.,  0.,  0.,  0.,  0.,  0.,  0.,  0.,  0.,\n",
       "         0.,  0.,  0.],\n",
       "       [ 0.,  0.,  0.,  0.,  0., -0.,  0.,  0.,  0.,  0.,  0., -0.,  0.,\n",
       "        -0.,  0.,  0.],\n",
       "       [ 0.,  0.,  0.,  0.,  0.,  0.,  0.,  0.,  0.,  0., -0.,  0.,  0.,\n",
       "         0.,  0.,  0.],\n",
       "       [ 0., -0.,  0.,  0., -1.,  0.,  0.,  0.,  0.,  0.,  0.,  0.,  0.,\n",
       "         0.,  0.,  0.],\n",
       "       [ 0.,  0., -0.,  0.,  0.,  0.,  0.,  0., -0.,  0.,  0.,  0.,  0.,\n",
       "         0.,  0.,  0.],\n",
       "       [ 0.,  0.,  0.,  0.,  0.,  0.,  0., -0.,  0.,  0.,  0.,  0.,  0.,\n",
       "         0., -0.,  0.],\n",
       "       [ 0.,  0.,  0.,  0.,  0.,  0.,  0.,  0.,  0.,  0.,  0.,  0.,  1.,\n",
       "         0.,  0.,  0.],\n",
       "       [ 0.,  0.,  0.,  0.,  0.,  0.,  0., -0.,  0.,  0.,  0.,  0.,  0.,\n",
       "         0.,  0.,  0.],\n",
       "       [ 0.,  0.,  0.,  0.,  0.,  0.,  0.,  0.,  0.,  0.,  0., -0.,  0.,\n",
       "         0.,  0.,  0.],\n",
       "       [ 0.,  0.,  0.,  0.,  0.,  0.,  0.,  0.,  0.,  0.,  0.,  0.,  0.,\n",
       "         0.,  0.,  1.]])"
      ]
     },
     "execution_count": 48,
     "metadata": {},
     "output_type": "execute_result"
    }
   ],
   "source": [
    "c[:K,:newL].conj().T*c[:K,:newL]"
   ]
  },
  {
   "cell_type": "code",
   "execution_count": 69,
   "metadata": {},
   "outputs": [],
   "source": [
    "#fdagu=c[:K,:newL].conj().T*fdagu*c[:K,:newL]\n",
    "#fdagd=c[:K,:newL].conj().T*fdagd*c[:K,:newL]\n",
    "fdagu=c[:K,:newL].conj().T@fdagu@c[:K,:newL]\n",
    "fdagd=c[:K,:newL].conj().T@fdagd@c[:K,:newL]"
   ]
  },
  {
   "cell_type": "code",
   "execution_count": 71,
   "metadata": {},
   "outputs": [
    {
     "data": {
      "text/plain": [
       "3"
      ]
     },
     "execution_count": 71,
     "metadata": {},
     "output_type": "execute_result"
    }
   ],
   "source": [
    "np.remainder(23,5)"
   ]
  },
  {
   "cell_type": "code",
   "execution_count": 74,
   "metadata": {},
   "outputs": [],
   "source": [
    "Sz,Qz=np.array([0, 1, -1, 0]),np.array([-1, 0, 0, 1])\n",
    "#Kodep=(Sz+50)*100+(Qz+50)"
   ]
  },
  {
   "cell_type": "code",
   "execution_count": 75,
   "metadata": {},
   "outputs": [
    {
     "data": {
      "text/plain": [
       "array([5049, 5150, 4950, 5051])"
      ]
     },
     "execution_count": 75,
     "metadata": {},
     "output_type": "execute_result"
    }
   ],
   "source": [
    "kode=enkode(Sz,Qz)\n",
    "kode"
   ]
  },
  {
   "cell_type": "code",
   "execution_count": 76,
   "metadata": {},
   "outputs": [
    {
     "data": {
      "text/plain": [
       "(array([ 0.,  1., -1.,  0.]), array([-1,  0,  0,  1], dtype=int32))"
      ]
     },
     "execution_count": 76,
     "metadata": {},
     "output_type": "execute_result"
    }
   ],
   "source": [
    "dekode(kode)"
   ]
  },
  {
   "cell_type": "code",
   "execution_count": 73,
   "metadata": {},
   "outputs": [],
   "source": [
    "def enkode(Sz,Qz):\n",
    "    kode=(Sz+50)*100+(Qz+50)\n",
    "    return kode\n",
    "\n",
    "def dekode(kode):\n",
    "    Qz=np.remainder(kode,100)-50\n",
    "    Sz=(kode-np.remainder(kode,100))/100-50\n",
    "    return (Sz,Qz)"
   ]
  },
  {
   "cell_type": "code",
   "execution_count": 80,
   "metadata": {},
   "outputs": [],
   "source": [
    "Sz=np.append(Sz,np.zeros(newL-L))\n",
    "Qz=np.append(Qz,np.zeros(newL-L))\n",
    "print(Sz)\n",
    "(Sz[:newL],Qz[:newL]) = dekode(Kodep[:newL])"
   ]
  },
  {
   "cell_type": "code",
   "execution_count": null,
   "metadata": {},
   "outputs": [],
   "source": []
  },
  {
   "cell_type": "code",
   "execution_count": 81,
   "metadata": {},
   "outputs": [
    {
     "data": {
      "text/plain": [
       "(array([ 1., -1.,  0.,  2.,  0.,  1., -2., -1.,  0.,  1., -1.,  0.,  0.,\n",
       "         1., -1.,  0.]),\n",
       " array([-1., -1.,  0.,  0.,  0.,  1.,  0.,  1., -2., -1., -1.,  0.,  0.,\n",
       "         1.,  1.,  2.]))"
      ]
     },
     "execution_count": 81,
     "metadata": {},
     "output_type": "execute_result"
    }
   ],
   "source": [
    "Sz,Qz"
   ]
  },
  {
   "cell_type": "code",
   "execution_count": 61,
   "metadata": {},
   "outputs": [
    {
     "data": {
      "text/latex": [
       "Quantum object: dims = [[2, 2, 2, 2], [2, 2, 2, 2]], shape = (16, 16), type = oper, isherm = False $ \\\\ \\left(\\begin{matrix}0.0 & 0.0 & 0.0 & 0.0 & 0.0 & \\cdots & 0.0 & 0.0 & 0.0 & 0.0 & 0.0\\\\0.0 & 0.0 & 0.0 & 0.0 & 0.0 & \\cdots & 0.0 & 0.0 & 0.0 & 0.0 & 0.0\\\\0.0 & 0.0 & 0.0 & 0.0 & 0.0 & \\cdots & 0.0 & 0.0 & 0.0 & 0.0 & 0.0\\\\0.0 & 0.0 & 0.0 & 0.0 & 0.0 & \\cdots & 0.0 & 0.0 & 0.0 & 0.0 & 0.0\\\\0.0 & 0.0 & 0.0 & 0.0 & 0.0 & \\cdots & 0.0 & 0.0 & 0.0 & 0.0 & 0.0\\\\\\vdots & \\vdots & \\vdots & \\vdots & \\vdots & \\ddots & \\vdots & \\vdots & \\vdots & \\vdots & \\vdots\\\\0.0 & 0.0 & 0.0 & 0.0 & 0.0 & \\cdots & 0.0 & 0.0 & 0.0 & 0.0 & 0.0\\\\0.0 & 0.0 & 0.0 & 0.0 & 0.0 & \\cdots & 0.0 & 0.0 & 0.0 & 0.0 & 0.0\\\\0.0 & 0.0 & 0.0 & 0.0 & 0.0 & \\cdots & 0.0 & 0.0 & 0.0 & 0.0 & 0.0\\\\0.0 & 0.0 & 0.0 & 0.0 & 0.0 & \\cdots & 0.0 & 0.0 & 0.0 & 0.0 & 0.0\\\\0.0 & 0.0 & 0.0 & 0.0 & 0.0 & \\cdots & 0.0 & 0.0 & 0.0 & 0.0 & 0.0\\\\\\end{matrix}\\right)$"
      ],
      "text/plain": [
       "Quantum object: dims = [[2, 2, 2, 2], [2, 2, 2, 2]], shape = (16, 16), type = oper, isherm = False\n",
       "Qobj data =\n",
       "[[ 0.  0.  0.  0.  0.  0.  0.  0.  0.  0.  0.  0.  0.  0.  0.  0.]\n",
       " [ 0.  0.  0.  0.  0.  0.  0.  0.  0.  0.  0.  0.  0.  0.  0.  0.]\n",
       " [ 0.  0.  0.  0.  0.  0.  0.  0.  0.  0.  0.  0.  0.  0.  0.  0.]\n",
       " [ 0.  0.  0.  0.  0.  0.  0.  0.  0.  0.  0.  0.  0.  0.  0.  0.]\n",
       " [ 0.  0.  0.  0.  0.  0.  0.  0.  0.  0.  0.  0.  0.  0.  0.  0.]\n",
       " [ 0.  0.  0.  0.  0.  0.  0.  0.  0.  0.  0.  0.  0.  0.  0.  0.]\n",
       " [ 0.  0.  0.  0.  0.  0.  0.  0.  0.  0.  0.  0.  0.  0.  0.  0.]\n",
       " [ 0.  0.  0.  0.  0.  0.  0.  0.  0.  0.  0.  0.  0.  0.  0.  0.]\n",
       " [ 0.  1.  0.  0.  0.  0.  0.  0.  0.  0.  0.  0.  0.  0.  0.  0.]\n",
       " [ 0.  0.  0.  0.  0.  0.  0.  0.  0.  0.  0.  0.  0.  0.  0.  0.]\n",
       " [ 0.  0.  0. -1.  0.  0.  0.  0.  0.  0.  0.  0.  0.  0.  0.  0.]\n",
       " [ 0.  0.  0.  0.  0.  0.  0.  0.  0.  0.  0.  0.  0.  0.  0.  0.]\n",
       " [ 0.  0.  0.  0.  0.  1.  0.  0.  0.  0.  0.  0.  0.  0.  0.  0.]\n",
       " [ 0.  0.  0.  0.  0.  0.  0.  0.  0.  0.  0.  0.  0.  0.  0.  0.]\n",
       " [ 0.  0.  0.  0.  0.  0.  0. -1.  0.  0.  0.  0.  0.  0.  0.  0.]\n",
       " [ 0.  0.  0.  0.  0.  0.  0.  0.  0.  0.  0.  0.  0.  0.  0.  0.]]"
      ]
     },
     "execution_count": 61,
     "metadata": {},
     "output_type": "execute_result"
    }
   ],
   "source": [
    "tensor(c[0],c[1].dag())"
   ]
  },
  {
   "cell_type": "code",
   "execution_count": 40,
   "metadata": {},
   "outputs": [
    {
     "data": {
      "text/latex": [
       "Quantum object: dims = [[16], [16]], shape = (16, 16), type = oper, isherm = True $ \\\\ \\left(\\begin{matrix}0.0 & 0.0 & 0.0 & 0.0 & 0.0 & \\cdots & 0.0 & 0.0 & 0.0 & 0.0 & 0.0\\\\0.0 & 1.0 & 0.0 & 0.0 & 0.0 & \\cdots & 0.0 & 0.0 & 0.0 & 0.0 & 0.0\\\\0.0 & 0.0 & 0.0 & 0.0 & 0.0 & \\cdots & 0.0 & 0.0 & 0.0 & 0.0 & 0.0\\\\0.0 & 0.0 & 0.0 & 0.0 & 0.0 & \\cdots & 0.0 & 0.0 & 0.0 & 0.0 & 0.0\\\\0.0 & 0.0 & 0.0 & 0.0 & 0.0 & \\cdots & 0.0 & 0.0 & 0.0 & 0.0 & 0.0\\\\\\vdots & \\vdots & \\vdots & \\vdots & \\vdots & \\ddots & \\vdots & \\vdots & \\vdots & \\vdots & \\vdots\\\\0.0 & 0.0 & 0.0 & 0.0 & 0.0 & \\cdots & 0.0 & 0.0 & 0.0 & 0.0 & 0.0\\\\0.0 & 0.0 & 0.0 & 0.0 & 0.0 & \\cdots & 0.0 & 0.0 & 0.0 & 0.0 & 0.0\\\\0.0 & 0.0 & 0.0 & 0.0 & 0.0 & \\cdots & 0.0 & 0.0 & 0.0 & 0.0 & 0.0\\\\0.0 & 0.0 & 0.0 & 0.0 & 0.0 & \\cdots & 0.0 & 0.0 & 0.0 & 0.0 & 0.0\\\\0.0 & 0.0 & 0.0 & 0.0 & 0.0 & \\cdots & 0.0 & 0.0 & 0.0 & 0.0 & 0.0\\\\\\end{matrix}\\right)$"
      ],
      "text/plain": [
       "Quantum object: dims = [[16], [16]], shape = (16, 16), type = oper, isherm = True\n",
       "Qobj data =\n",
       "[[0. 0. 0. 0. 0. 0. 0. 0. 0. 0. 0. 0. 0. 0. 0. 0.]\n",
       " [0. 1. 0. 0. 0. 0. 0. 0. 0. 0. 0. 0. 0. 0. 0. 0.]\n",
       " [0. 0. 0. 0. 0. 0. 0. 0. 0. 0. 0. 0. 0. 0. 0. 0.]\n",
       " [0. 0. 0. 0. 0. 0. 0. 0. 0. 0. 0. 0. 0. 0. 0. 0.]\n",
       " [0. 0. 0. 0. 0. 0. 0. 0. 0. 0. 0. 0. 0. 0. 0. 0.]\n",
       " [0. 0. 0. 0. 0. 0. 0. 0. 0. 0. 0. 0. 0. 0. 0. 0.]\n",
       " [0. 0. 0. 0. 0. 0. 0. 0. 0. 0. 0. 0. 0. 0. 0. 0.]\n",
       " [0. 0. 0. 0. 0. 0. 0. 0. 0. 0. 0. 0. 0. 0. 0. 0.]\n",
       " [0. 0. 0. 0. 0. 0. 0. 0. 0. 0. 0. 0. 0. 0. 0. 0.]\n",
       " [0. 0. 0. 0. 0. 0. 0. 0. 0. 0. 0. 0. 0. 0. 0. 0.]\n",
       " [0. 0. 0. 0. 0. 0. 0. 0. 0. 0. 0. 0. 0. 0. 0. 0.]\n",
       " [0. 0. 0. 0. 0. 0. 0. 0. 0. 0. 0. 0. 0. 0. 0. 0.]\n",
       " [0. 0. 0. 0. 0. 0. 0. 0. 0. 0. 0. 0. 0. 0. 0. 0.]\n",
       " [0. 0. 0. 0. 0. 0. 0. 0. 0. 0. 0. 0. 0. 0. 0. 0.]\n",
       " [0. 0. 0. 0. 0. 0. 0. 0. 0. 0. 0. 0. 0. 0. 0. 0.]\n",
       " [0. 0. 0. 0. 0. 0. 0. 0. 0. 0. 0. 0. 0. 0. 0. 0.]]"
      ]
     },
     "execution_count": 40,
     "metadata": {},
     "output_type": "execute_result"
    }
   ],
   "source": [
    "Qobj(H)"
   ]
  },
  {
   "cell_type": "code",
   "execution_count": 39,
   "metadata": {},
   "outputs": [
    {
     "data": {
      "text/plain": [
       "array([[0., 0., 0., 0., 0., 0., 0., 0., 0., 0., 0., 0., 0., 0., 0., 0.],\n",
       "       [0., 1., 0., 0., 0., 0., 0., 0., 0., 0., 0., 0., 0., 0., 0., 0.],\n",
       "       [0., 0., 0., 0., 0., 0., 0., 0., 0., 0., 0., 0., 0., 0., 0., 0.],\n",
       "       [0., 0., 0., 0., 0., 0., 0., 0., 0., 0., 0., 0., 0., 0., 0., 0.],\n",
       "       [0., 0., 0., 0., 0., 0., 0., 0., 0., 0., 0., 0., 0., 0., 0., 0.],\n",
       "       [0., 0., 0., 0., 0., 0., 0., 0., 0., 0., 0., 0., 0., 0., 0., 0.],\n",
       "       [0., 0., 0., 0., 0., 0., 0., 0., 0., 0., 0., 0., 0., 0., 0., 0.],\n",
       "       [0., 0., 0., 0., 0., 0., 0., 0., 0., 0., 0., 0., 0., 0., 0., 0.],\n",
       "       [0., 0., 0., 0., 0., 0., 0., 0., 0., 0., 0., 0., 0., 0., 0., 0.],\n",
       "       [0., 0., 0., 0., 0., 0., 0., 0., 0., 0., 0., 0., 0., 0., 0., 0.],\n",
       "       [0., 0., 0., 0., 0., 0., 0., 0., 0., 0., 0., 0., 0., 0., 0., 0.],\n",
       "       [0., 0., 0., 0., 0., 0., 0., 0., 0., 0., 0., 0., 0., 0., 0., 0.],\n",
       "       [0., 0., 0., 0., 0., 0., 0., 0., 0., 0., 0., 0., 0., 0., 0., 0.],\n",
       "       [0., 0., 0., 0., 0., 0., 0., 0., 0., 0., 0., 0., 0., 0., 0., 0.],\n",
       "       [0., 0., 0., 0., 0., 0., 0., 0., 0., 0., 0., 0., 0., 0., 0., 0.],\n",
       "       [0., 0., 0., 0., 0., 0., 0., 0., 0., 0., 0., 0., 0., 0., 0., 0.]])"
      ]
     },
     "execution_count": 39,
     "metadata": {},
     "output_type": "execute_result"
    }
   ],
   "source": [
    "dof=4\n",
    "H=np.zeros((c[0].shape[0]*dof,c[0].shape[0]*dof))\n",
    "H[1,1]=1\n",
    "H"
   ]
  },
  {
   "cell_type": "code",
   "execution_count": 1,
   "metadata": {},
   "outputs": [],
   "source": [
    "import DEDlib\n",
    "import numpy as np\n",
    "\n",
    "dir=\"C:\\\\Users\\\\roelv\\\\OneDrive\\\\Documenten\\\\VSC\\\\DEDdata\\\\Block1 Sym AIM\\\\Final version\\\\\"\n",
    "files=[\"constraintN2p\",\"constraintN3p\",\"constraintN4p\",\"constraintN5p\",\"constraintN6p\"]\n",
    "DOST=np.zeros((len(files),1001),dtype='float')\n",
    "\n",
    "for i,file in enumerate(files):\n",
    "    [omega,DOST[i]]=DEDlib.textfileR(dir+file)\n"
   ]
  },
  {
   "cell_type": "code",
   "execution_count": 2,
   "metadata": {},
   "outputs": [
    {
     "data": {
      "text/plain": [
       "array([[0.03247875, 0.03267814, 0.03287617, ..., 0.03261882, 0.03240667,\n",
       "        0.03220177],\n",
       "       [0.0327093 , 0.03291973, 0.03313169, ..., 0.03323254, 0.03299014,\n",
       "        0.0327501 ],\n",
       "       [0.03242014, 0.03264898, 0.0328835 , ..., 0.03313055, 0.03290381,\n",
       "        0.03267755],\n",
       "       [0.03264007, 0.03286233, 0.03308582, ..., 0.03295775, 0.03272982,\n",
       "        0.0325049 ],\n",
       "       [0.03286796, 0.0331073 , 0.03334566, ..., 0.03263962, 0.03238996,\n",
       "        0.03214457]])"
      ]
     },
     "execution_count": 2,
     "metadata": {},
     "output_type": "execute_result"
    }
   ],
   "source": [
    "DOST"
   ]
  },
  {
   "cell_type": "code",
   "execution_count": 5,
   "metadata": {},
   "outputs": [
    {
     "data": {
      "image/png": "[encoded data removed]",
      "text/plain": [
       "<Figure size 1000x800 with 1 Axes>"
      ]
     },
     "metadata": {},
     "output_type": "display_data"
    },
    {
     "data": {
      "text/plain": [
       "<module 'matplotlib.pyplot' from 'c:\\\\Users\\\\roelv\\\\OneDrive\\\\Documenten\\\\VSC\\\\.conda\\\\lib\\\\site-packages\\\\matplotlib\\\\pyplot.py'>"
      ]
     },
     "execution_count": 5,
     "metadata": {},
     "output_type": "execute_result"
    }
   ],
   "source": [
    "labelnames=['$\\\\rho_{constr.},N,$n=2','$\\\\rho_{constr.},N,$n=3','$\\\\rho_{constr.},N,$n=4','$\\\\rho_{constr.},N,$n=5','$\\\\rho_{constr.},N,$n=6']\n",
    "DEDlib.DOSmultiplot(omega,np.tile(omega,(len(files),1)),DOST,np.tile(len(omega),len(files)),labelnames,'polestotal',DEDlib.Lorentzian(omega,0.3,4,-3/2,3/2)[0])"
   ]
  }
 ],
 "metadata": {
  "kernelspec": {
   "display_name": "Python 3",
   "language": "python",
   "name": "python3"
  },
  "language_info": {
   "codemirror_mode": {
    "name": "ipython",
    "version": 3
   },
   "file_extension": ".py",
   "mimetype": "text/x-python",
   "name": "python",
   "nbconvert_exporter": "python",
   "pygments_lexer": "ipython3",
   "version": "3.10.10"
  }
 },
 "nbformat": 4,
 "nbformat_minor": 2
}
